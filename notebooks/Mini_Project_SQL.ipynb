{
 "cells": [
  {
   "cell_type": "markdown",
   "id": "19611c9f-3c9e-4f64-a2d6-13d8be523dca",
   "metadata": {},
   "source": [
    "# Dataset"
   ]
  },
  {
   "cell_type": "markdown",
   "id": "0b7087d9-b8b8-4188-be94-5d6985b7717d",
   "metadata": {},
   "source": [
    "\n",
    "<a href=\"https://archive.ics.uci.edu/dataset/759/glioma+grading+clinical+and+mutation+features+dataset\">Glioma Grading Clinical and Mutation Features</a>\n",
    "\n",
    "\n",
    "<a href=\"https://github.com/uci-ml-repo/ucimlrepo/tree/main\">github: ucimlrepo package</a>\n",
    "\n",
    "\n",
    "\n",
    "Citation: Tasci, E., Zhuge, Y., Kaur, H., Camphausen, K., & Krauze, A. V. (2022). Hierarchical Voting-Based Feature Selection and Ensemble Learning Model Scheme for Glioma Grading with Clinical and Molecular Characteristics. International Journal of Molecular Sciences, 23(22), 14155.\n"
   ]
  },
  {
   "cell_type": "code",
   "execution_count": null,
   "id": "d9d9c945-106e-4576-86d0-4a7582b6625b",
   "metadata": {},
   "outputs": [],
   "source": []
  },
  {
   "cell_type": "code",
   "execution_count": null,
   "id": "d4735636-cd16-44af-97b1-f521ebb8b8ac",
   "metadata": {},
   "outputs": [],
   "source": []
  },
  {
   "cell_type": "markdown",
   "id": "965e1c67-ffc5-419e-a197-3304ad06cdd1",
   "metadata": {},
   "source": [
    "# 1. Import"
   ]
  },
  {
   "cell_type": "code",
   "execution_count": 1,
   "id": "62bfde82-9ce3-43b8-8c98-0eb4d2a1d418",
   "metadata": {},
   "outputs": [
    {
     "name": "stderr",
     "output_type": "stream",
     "text": [
      "Failed to find the pandas get_adjustment() function to patch\n",
      "Failed to patch pandas - PandasTools will have limited functionality\n"
     ]
    }
   ],
   "source": [
    "import pandas as pd\n",
    "import numpy as np\n",
    "\n",
    "# cheminformatics\n",
    "from rdkit.Chem import PandasTools\n",
    "from rdkit import Chem\n",
    "from rdkit.Chem import Draw\n",
    "\n",
    "import requests as re\n",
    "\n",
    "import matplotlib.pyplot as plt\n",
    "import matplotlib.colors as mcolors\n",
    "import seaborn as sns\n",
    "\n",
    "# dotenv import\n",
    "from dotenv import load_dotenv\n",
    "import os\n",
    "from tqdm.auto import tqdm\n",
    "\n",
    "# Datasets\n",
    "from ucimlrepo import fetch_ucirepo, list_available_datasets # Libraries for Glioma dataset (https://archive.ics.uci.edu/dataset/759/glioma+grading+clinical+and+mutation+features+dataset)\n",
    "from chembl_webresource_client.new_client import new_client # Libraries for Chembl (https://github.com/chembl/chembl_webresource_client)\n",
    "\n",
    "# Database Connection\n",
    "import sqlalchemy # generate tabular data-set; pip install sqlalchemy\n",
    "from sqlalchemy import create_engine\n",
    "from sqlalchemy import text\n",
    "\n"
   ]
  },
  {
   "cell_type": "code",
   "execution_count": null,
   "id": "3296a12a-1c7e-4516-b5be-c99cabaa9d78",
   "metadata": {},
   "outputs": [],
   "source": []
  },
  {
   "cell_type": "markdown",
   "id": "80a89b66-0e5b-4507-86ff-31a9133a102a",
   "metadata": {},
   "source": [
    "# 2. Glioma Grading Clinical and Mutation Features"
   ]
  },
  {
   "cell_type": "markdown",
   "id": "0bac0d1c-d2da-45b7-8258-b2c30084512d",
   "metadata": {},
   "source": [
    "## 2.1 Glioma Dataset - Load Data"
   ]
  },
  {
   "cell_type": "code",
   "execution_count": 2,
   "id": "04d972f0-2455-46a0-b99b-dbe806f58596",
   "metadata": {
    "scrolled": true
   },
   "outputs": [
    {
     "name": "stdout",
     "output_type": "stream",
     "text": [
      " Datentr„ger in Laufwerk C: ist Windows\n",
      " Volumeseriennummer: 20BD-6958\n",
      "\n",
      " Verzeichnis von C:\\Users\\andre\\Documents\\IRONHACK\\UNIT_4\\Mini_Project_SQL\\Mini_Project_SQL\\notebooks\n",
      "\n",
      "14.03.2024  16:09    <DIR>          .\n",
      "12.03.2024  18:19    <DIR>          ..\n",
      "11.03.2024  17:47    <DIR>          .ipynb_checkpoints\n",
      "14.03.2024  16:09           733.458 Mini_Project_SQL.ipynb\n",
      "               1 Datei(en),        733.458 Bytes\n",
      "               3 Verzeichnis(se), 690.360.401.920 Bytes frei\n"
     ]
    }
   ],
   "source": [
    "!dir"
   ]
  },
  {
   "cell_type": "code",
   "execution_count": 3,
   "id": "dee5cf81-e680-487c-b14d-8c9e2dd620b3",
   "metadata": {},
   "outputs": [],
   "source": [
    "# fetch glioma dataset from https://archive.ics.uci.edu/dataset/759/glioma+grading+clinical+and+mutation+features+dataset\n",
    "glioma_feat = fetch_ucirepo(id=759) "
   ]
  },
  {
   "cell_type": "code",
   "execution_count": 4,
   "id": "64f1b961-52f7-425d-8e64-7be141a32508",
   "metadata": {},
   "outputs": [
    {
     "data": {
      "text/plain": [
       "ucimlrepo.dotdict.dotdict"
      ]
     },
     "execution_count": 4,
     "metadata": {},
     "output_type": "execute_result"
    }
   ],
   "source": [
    "type(glioma_feat)"
   ]
  },
  {
   "cell_type": "code",
   "execution_count": 5,
   "id": "4c8f6e1b-6d43-414b-9228-df940eef1523",
   "metadata": {},
   "outputs": [],
   "source": [
    "# convert target and info data as pandas dataframes \n",
    "df_target = glioma_feat.data.original\n",
    "\n",
    "df_info = pd.read_csv(\"../data/raw/glioma+grading+clinical+and+mutation+features+dataset/TCGA_GBM_LGG_Mutations_all.csv\", usecols=['Case_ID', 'Primary_Diagnosis'])"
   ]
  },
  {
   "cell_type": "code",
   "execution_count": null,
   "id": "9474d11e-66f2-4eea-a726-044c4232871b",
   "metadata": {},
   "outputs": [],
   "source": []
  },
  {
   "cell_type": "code",
   "execution_count": null,
   "id": "ac01a402-400f-41b1-97df-28c1c94fc9a7",
   "metadata": {},
   "outputs": [],
   "source": []
  },
  {
   "cell_type": "markdown",
   "id": "f052d318-bd0f-4714-be43-775c96bb7621",
   "metadata": {},
   "source": [
    "## 2.2 Glioma Dataset - Overview "
   ]
  },
  {
   "cell_type": "code",
   "execution_count": 6,
   "id": "b82b084f-c4ae-471f-bb6b-728aca18a19a",
   "metadata": {},
   "outputs": [
    {
     "data": {
      "text/html": [
       "<div>\n",
       "<style scoped>\n",
       "    .dataframe tbody tr th:only-of-type {\n",
       "        vertical-align: middle;\n",
       "    }\n",
       "\n",
       "    .dataframe tbody tr th {\n",
       "        vertical-align: top;\n",
       "    }\n",
       "\n",
       "    .dataframe thead th {\n",
       "        text-align: right;\n",
       "    }\n",
       "</style>\n",
       "<table border=\"1\" class=\"dataframe\">\n",
       "  <thead>\n",
       "    <tr style=\"text-align: right;\">\n",
       "      <th></th>\n",
       "      <th>Case_ID</th>\n",
       "      <th>Gender</th>\n",
       "      <th>Age_at_diagnosis</th>\n",
       "      <th>Race</th>\n",
       "      <th>IDH1</th>\n",
       "      <th>TP53</th>\n",
       "      <th>ATRX</th>\n",
       "      <th>PTEN</th>\n",
       "      <th>EGFR</th>\n",
       "      <th>CIC</th>\n",
       "      <th>...</th>\n",
       "      <th>RB1</th>\n",
       "      <th>NOTCH1</th>\n",
       "      <th>BCOR</th>\n",
       "      <th>CSMD3</th>\n",
       "      <th>SMARCA4</th>\n",
       "      <th>GRIN2A</th>\n",
       "      <th>IDH2</th>\n",
       "      <th>FAT4</th>\n",
       "      <th>PDGFRA</th>\n",
       "      <th>Grade</th>\n",
       "    </tr>\n",
       "  </thead>\n",
       "  <tbody>\n",
       "    <tr>\n",
       "      <th>0</th>\n",
       "      <td>TCGA-DU-8164</td>\n",
       "      <td>0</td>\n",
       "      <td>51.30</td>\n",
       "      <td>white</td>\n",
       "      <td>1</td>\n",
       "      <td>0</td>\n",
       "      <td>0</td>\n",
       "      <td>0</td>\n",
       "      <td>0</td>\n",
       "      <td>0</td>\n",
       "      <td>...</td>\n",
       "      <td>0</td>\n",
       "      <td>0</td>\n",
       "      <td>0</td>\n",
       "      <td>0</td>\n",
       "      <td>0</td>\n",
       "      <td>0</td>\n",
       "      <td>0</td>\n",
       "      <td>0</td>\n",
       "      <td>0</td>\n",
       "      <td>0</td>\n",
       "    </tr>\n",
       "    <tr>\n",
       "      <th>1</th>\n",
       "      <td>TCGA-QH-A6CY</td>\n",
       "      <td>0</td>\n",
       "      <td>38.72</td>\n",
       "      <td>white</td>\n",
       "      <td>1</td>\n",
       "      <td>0</td>\n",
       "      <td>0</td>\n",
       "      <td>0</td>\n",
       "      <td>0</td>\n",
       "      <td>1</td>\n",
       "      <td>...</td>\n",
       "      <td>0</td>\n",
       "      <td>0</td>\n",
       "      <td>0</td>\n",
       "      <td>0</td>\n",
       "      <td>0</td>\n",
       "      <td>0</td>\n",
       "      <td>0</td>\n",
       "      <td>0</td>\n",
       "      <td>0</td>\n",
       "      <td>0</td>\n",
       "    </tr>\n",
       "    <tr>\n",
       "      <th>2</th>\n",
       "      <td>TCGA-HW-A5KM</td>\n",
       "      <td>0</td>\n",
       "      <td>35.17</td>\n",
       "      <td>white</td>\n",
       "      <td>1</td>\n",
       "      <td>1</td>\n",
       "      <td>1</td>\n",
       "      <td>0</td>\n",
       "      <td>0</td>\n",
       "      <td>0</td>\n",
       "      <td>...</td>\n",
       "      <td>0</td>\n",
       "      <td>0</td>\n",
       "      <td>0</td>\n",
       "      <td>0</td>\n",
       "      <td>0</td>\n",
       "      <td>0</td>\n",
       "      <td>0</td>\n",
       "      <td>0</td>\n",
       "      <td>0</td>\n",
       "      <td>0</td>\n",
       "    </tr>\n",
       "    <tr>\n",
       "      <th>3</th>\n",
       "      <td>TCGA-E1-A7YE</td>\n",
       "      <td>1</td>\n",
       "      <td>32.78</td>\n",
       "      <td>white</td>\n",
       "      <td>1</td>\n",
       "      <td>1</td>\n",
       "      <td>1</td>\n",
       "      <td>0</td>\n",
       "      <td>0</td>\n",
       "      <td>0</td>\n",
       "      <td>...</td>\n",
       "      <td>0</td>\n",
       "      <td>0</td>\n",
       "      <td>0</td>\n",
       "      <td>0</td>\n",
       "      <td>0</td>\n",
       "      <td>0</td>\n",
       "      <td>0</td>\n",
       "      <td>1</td>\n",
       "      <td>0</td>\n",
       "      <td>0</td>\n",
       "    </tr>\n",
       "    <tr>\n",
       "      <th>4</th>\n",
       "      <td>TCGA-S9-A6WG</td>\n",
       "      <td>0</td>\n",
       "      <td>31.51</td>\n",
       "      <td>white</td>\n",
       "      <td>1</td>\n",
       "      <td>1</td>\n",
       "      <td>1</td>\n",
       "      <td>0</td>\n",
       "      <td>0</td>\n",
       "      <td>0</td>\n",
       "      <td>...</td>\n",
       "      <td>0</td>\n",
       "      <td>0</td>\n",
       "      <td>0</td>\n",
       "      <td>0</td>\n",
       "      <td>0</td>\n",
       "      <td>0</td>\n",
       "      <td>0</td>\n",
       "      <td>0</td>\n",
       "      <td>0</td>\n",
       "      <td>0</td>\n",
       "    </tr>\n",
       "  </tbody>\n",
       "</table>\n",
       "<p>5 rows × 25 columns</p>\n",
       "</div>"
      ],
      "text/plain": [
       "        Case_ID  Gender  Age_at_diagnosis   Race  IDH1  TP53  ATRX  PTEN  \\\n",
       "0  TCGA-DU-8164       0             51.30  white     1     0     0     0   \n",
       "1  TCGA-QH-A6CY       0             38.72  white     1     0     0     0   \n",
       "2  TCGA-HW-A5KM       0             35.17  white     1     1     1     0   \n",
       "3  TCGA-E1-A7YE       1             32.78  white     1     1     1     0   \n",
       "4  TCGA-S9-A6WG       0             31.51  white     1     1     1     0   \n",
       "\n",
       "   EGFR  CIC  ...  RB1  NOTCH1  BCOR  CSMD3  SMARCA4  GRIN2A  IDH2  FAT4  \\\n",
       "0     0    0  ...    0       0     0      0        0       0     0     0   \n",
       "1     0    1  ...    0       0     0      0        0       0     0     0   \n",
       "2     0    0  ...    0       0     0      0        0       0     0     0   \n",
       "3     0    0  ...    0       0     0      0        0       0     0     1   \n",
       "4     0    0  ...    0       0     0      0        0       0     0     0   \n",
       "\n",
       "   PDGFRA  Grade  \n",
       "0       0      0  \n",
       "1       0      0  \n",
       "2       0      0  \n",
       "3       0      0  \n",
       "4       0      0  \n",
       "\n",
       "[5 rows x 25 columns]"
      ]
     },
     "execution_count": 6,
     "metadata": {},
     "output_type": "execute_result"
    }
   ],
   "source": [
    "# Display first 5 rows of target data\n",
    "df_target.head()"
   ]
  },
  {
   "cell_type": "code",
   "execution_count": 7,
   "id": "b5235750-0dfb-46c2-826e-bebe412b3020",
   "metadata": {
    "scrolled": true
   },
   "outputs": [
    {
     "data": {
      "text/html": [
       "<div>\n",
       "<style scoped>\n",
       "    .dataframe tbody tr th:only-of-type {\n",
       "        vertical-align: middle;\n",
       "    }\n",
       "\n",
       "    .dataframe tbody tr th {\n",
       "        vertical-align: top;\n",
       "    }\n",
       "\n",
       "    .dataframe thead th {\n",
       "        text-align: right;\n",
       "    }\n",
       "</style>\n",
       "<table border=\"1\" class=\"dataframe\">\n",
       "  <thead>\n",
       "    <tr style=\"text-align: right;\">\n",
       "      <th></th>\n",
       "      <th>Case_ID</th>\n",
       "      <th>Primary_Diagnosis</th>\n",
       "    </tr>\n",
       "  </thead>\n",
       "  <tbody>\n",
       "    <tr>\n",
       "      <th>0</th>\n",
       "      <td>TCGA-DU-8164</td>\n",
       "      <td>Oligodendroglioma, NOS</td>\n",
       "    </tr>\n",
       "    <tr>\n",
       "      <th>1</th>\n",
       "      <td>TCGA-QH-A6CY</td>\n",
       "      <td>Mixed glioma</td>\n",
       "    </tr>\n",
       "    <tr>\n",
       "      <th>2</th>\n",
       "      <td>TCGA-HW-A5KM</td>\n",
       "      <td>Astrocytoma, NOS</td>\n",
       "    </tr>\n",
       "    <tr>\n",
       "      <th>3</th>\n",
       "      <td>TCGA-E1-A7YE</td>\n",
       "      <td>Astrocytoma, anaplastic</td>\n",
       "    </tr>\n",
       "    <tr>\n",
       "      <th>4</th>\n",
       "      <td>TCGA-S9-A6WG</td>\n",
       "      <td>Astrocytoma, anaplastic</td>\n",
       "    </tr>\n",
       "  </tbody>\n",
       "</table>\n",
       "</div>"
      ],
      "text/plain": [
       "        Case_ID        Primary_Diagnosis\n",
       "0  TCGA-DU-8164   Oligodendroglioma, NOS\n",
       "1  TCGA-QH-A6CY             Mixed glioma\n",
       "2  TCGA-HW-A5KM         Astrocytoma, NOS\n",
       "3  TCGA-E1-A7YE  Astrocytoma, anaplastic\n",
       "4  TCGA-S9-A6WG  Astrocytoma, anaplastic"
      ]
     },
     "execution_count": 7,
     "metadata": {},
     "output_type": "execute_result"
    }
   ],
   "source": [
    "# Display first 5 rows of info data\n",
    "df_info.head()"
   ]
  },
  {
   "cell_type": "code",
   "execution_count": 8,
   "id": "383722a5-9a4d-462e-934c-aee6b9ceb028",
   "metadata": {},
   "outputs": [
    {
     "name": "stdout",
     "output_type": "stream",
     "text": [
      "df_target no of rows: 839 and no of columns: 25\n",
      "df_info no of rows: 862 and no of columns: 2\n"
     ]
    }
   ],
   "source": [
    "# Dataframe structure\n",
    "print(\"df_target no of rows:\", df_target.shape[0], \"and no of columns:\", df_target.shape[1])\n",
    "print(\"df_info no of rows:\", df_info.shape[0], \"and no of columns:\", df_info.shape[1])"
   ]
  },
  {
   "cell_type": "code",
   "execution_count": null,
   "id": "41017c6b-f26e-48aa-b8b3-c09c2f0ca20c",
   "metadata": {},
   "outputs": [],
   "source": []
  },
  {
   "cell_type": "code",
   "execution_count": 9,
   "id": "f35efc2e-bba9-4b1f-b37d-8b5d9747968f",
   "metadata": {},
   "outputs": [
    {
     "data": {
      "text/plain": [
       "Index(['Case_ID', 'Gender', 'Age_at_diagnosis', 'Race', 'IDH1', 'TP53', 'ATRX',\n",
       "       'PTEN', 'EGFR', 'CIC', 'MUC16', 'PIK3CA', 'NF1', 'PIK3R1', 'FUBP1',\n",
       "       'RB1', 'NOTCH1', 'BCOR', 'CSMD3', 'SMARCA4', 'GRIN2A', 'IDH2', 'FAT4',\n",
       "       'PDGFRA', 'Grade'],\n",
       "      dtype='object')"
      ]
     },
     "execution_count": 9,
     "metadata": {},
     "output_type": "execute_result"
    }
   ],
   "source": [
    "# Column Names\n",
    "df_target.columns"
   ]
  },
  {
   "cell_type": "code",
   "execution_count": null,
   "id": "3cf0fdab-f927-42a7-a44a-bd7df6e9375b",
   "metadata": {},
   "outputs": [],
   "source": []
  },
  {
   "cell_type": "code",
   "execution_count": 10,
   "id": "8e92dd7f-bfbf-4d78-9e44-9f53cca40461",
   "metadata": {},
   "outputs": [
    {
     "name": "stdout",
     "output_type": "stream",
     "text": [
      "<class 'pandas.core.frame.DataFrame'>\n",
      "RangeIndex: 839 entries, 0 to 838\n",
      "Data columns (total 25 columns):\n",
      " #   Column            Non-Null Count  Dtype  \n",
      "---  ------            --------------  -----  \n",
      " 0   Case_ID           839 non-null    object \n",
      " 1   Gender            839 non-null    int64  \n",
      " 2   Age_at_diagnosis  839 non-null    float64\n",
      " 3   Race              839 non-null    object \n",
      " 4   IDH1              839 non-null    int64  \n",
      " 5   TP53              839 non-null    int64  \n",
      " 6   ATRX              839 non-null    int64  \n",
      " 7   PTEN              839 non-null    int64  \n",
      " 8   EGFR              839 non-null    int64  \n",
      " 9   CIC               839 non-null    int64  \n",
      " 10  MUC16             839 non-null    int64  \n",
      " 11  PIK3CA            839 non-null    int64  \n",
      " 12  NF1               839 non-null    int64  \n",
      " 13  PIK3R1            839 non-null    int64  \n",
      " 14  FUBP1             839 non-null    int64  \n",
      " 15  RB1               839 non-null    int64  \n",
      " 16  NOTCH1            839 non-null    int64  \n",
      " 17  BCOR              839 non-null    int64  \n",
      " 18  CSMD3             839 non-null    int64  \n",
      " 19  SMARCA4           839 non-null    int64  \n",
      " 20  GRIN2A            839 non-null    int64  \n",
      " 21  IDH2              839 non-null    int64  \n",
      " 22  FAT4              839 non-null    int64  \n",
      " 23  PDGFRA            839 non-null    int64  \n",
      " 24  Grade             839 non-null    int64  \n",
      "dtypes: float64(1), int64(22), object(2)\n",
      "memory usage: 164.0+ KB\n"
     ]
    }
   ],
   "source": [
    "# Info stats\n",
    "df_target.info()"
   ]
  },
  {
   "cell_type": "code",
   "execution_count": 11,
   "id": "d22dbd08-1d43-404e-b09c-6ebfd47c4ce5",
   "metadata": {
    "scrolled": true
   },
   "outputs": [
    {
     "name": "stdout",
     "output_type": "stream",
     "text": [
      "<class 'pandas.core.frame.DataFrame'>\n",
      "RangeIndex: 862 entries, 0 to 861\n",
      "Data columns (total 2 columns):\n",
      " #   Column             Non-Null Count  Dtype \n",
      "---  ------             --------------  ----- \n",
      " 0   Case_ID            862 non-null    object\n",
      " 1   Primary_Diagnosis  862 non-null    object\n",
      "dtypes: object(2)\n",
      "memory usage: 13.6+ KB\n"
     ]
    }
   ],
   "source": [
    "df_info.info()"
   ]
  },
  {
   "cell_type": "code",
   "execution_count": null,
   "id": "9dc40243-6104-4170-8370-55aa440d79a1",
   "metadata": {},
   "outputs": [],
   "source": []
  },
  {
   "cell_type": "code",
   "execution_count": 12,
   "id": "83d2e966-b398-4643-9bf2-aa6b033addcc",
   "metadata": {},
   "outputs": [
    {
     "data": {
      "text/plain": [
       "dict_keys(['data', 'metadata', 'variables'])"
      ]
     },
     "execution_count": 12,
     "metadata": {},
     "output_type": "execute_result"
    }
   ],
   "source": [
    "glioma_feat.keys()"
   ]
  },
  {
   "cell_type": "code",
   "execution_count": null,
   "id": "0f38c5e4-85ff-4396-b019-84ddc5e3a165",
   "metadata": {},
   "outputs": [],
   "source": []
  },
  {
   "cell_type": "code",
   "execution_count": 13,
   "id": "626445a0-5239-46c5-911d-4057022269e1",
   "metadata": {},
   "outputs": [
    {
     "data": {
      "text/plain": [
       "dict_keys(['uci_id', 'name', 'repository_url', 'data_url', 'abstract', 'area', 'tasks', 'characteristics', 'num_instances', 'num_features', 'feature_types', 'demographics', 'target_col', 'index_col', 'has_missing_values', 'missing_values_symbol', 'year_of_dataset_creation', 'last_updated', 'dataset_doi', 'creators', 'intro_paper', 'additional_info'])"
      ]
     },
     "execution_count": 13,
     "metadata": {},
     "output_type": "execute_result"
    }
   ],
   "source": [
    "# Glioma Metadata\n",
    "glioma_feat['metadata'].keys()"
   ]
  },
  {
   "cell_type": "code",
   "execution_count": 14,
   "id": "abae01ed-6ee1-4cb5-bbb7-8b3b4dc157f4",
   "metadata": {
    "scrolled": true
   },
   "outputs": [
    {
     "data": {
      "text/plain": [
       "'Gliomas are the most common primary tumors of the brain. They can be graded as LGG (Lower-Grade Glioma) or GBM (Glioblastoma Multiforme) depending on the histological/imaging criteria. Clinical and molecular/mutation factors are also very crucial for the grading process. Molecular tests are expensive to help accurately diagnose glioma patients.    In this dataset, the most frequently mutated 20 genes and 3 clinical features are considered from TCGA-LGG and TCGA-GBM brain glioma projects.  The prediction task is to determine whether a patient is LGG or GBM with a given clinical and molecular/mutation features. The main objective is to find the optimal subset of mutation genes and clinical features for the glioma grading process to improve performance and reduce costs.  '"
      ]
     },
     "execution_count": 14,
     "metadata": {},
     "output_type": "execute_result"
    }
   ],
   "source": [
    "# Abstract\n",
    "glioma_feat.metadata['abstract']"
   ]
  },
  {
   "cell_type": "code",
   "execution_count": 15,
   "id": "76df6602-1f38-4aab-9d52-22fae54bd7c7",
   "metadata": {},
   "outputs": [
    {
     "name": "stdout",
     "output_type": "stream",
     "text": [
      "759\n",
      "839\n",
      "None\n"
     ]
    }
   ],
   "source": [
    "# access metadata\n",
    "print(glioma_feat.metadata.uci_id)\n",
    "print(glioma_feat.metadata.num_instances)\n",
    "print(glioma_feat.metadata.additional_info.summary)"
   ]
  },
  {
   "cell_type": "code",
   "execution_count": 16,
   "id": "395bc59a-eb9a-44d4-a3ff-35736754c9a7",
   "metadata": {
    "scrolled": true
   },
   "outputs": [
    {
     "data": {
      "text/plain": [
       "0                Grade\n",
       "1               Gender\n",
       "2     Age_at_diagnosis\n",
       "3                 Race\n",
       "4                 IDH1\n",
       "5                 TP53\n",
       "6                 ATRX\n",
       "7                 PTEN\n",
       "8                 EGFR\n",
       "9                  CIC\n",
       "10               MUC16\n",
       "11              PIK3CA\n",
       "12                 NF1\n",
       "13              PIK3R1\n",
       "14               FUBP1\n",
       "15                 RB1\n",
       "16              NOTCH1\n",
       "17                BCOR\n",
       "18               CSMD3\n",
       "19             SMARCA4\n",
       "20              GRIN2A\n",
       "21                IDH2\n",
       "22                FAT4\n",
       "23              PDGFRA\n",
       "Name: name, dtype: object"
      ]
     },
     "metadata": {},
     "output_type": "display_data"
    }
   ],
   "source": [
    "display(glioma_feat.variables['name'])"
   ]
  },
  {
   "cell_type": "code",
   "execution_count": 17,
   "id": "c5d02d89-a5e3-4574-b982-69a268acbd04",
   "metadata": {
    "scrolled": true
   },
   "outputs": [
    {
     "data": {
      "text/plain": [
       "0     Glioma grade class information (0 = \"LGG\"; 1 =...\n",
       "1                     Gender (0 = \"male\"; 1 = \"female\")\n",
       "2     Age at diagnosis with the calculated number of...\n",
       "3     Race  (0 = \"white\";  1 = \"black or african Ame...\n",
       "4     isocitrate dehydrogenase (NADP(+))1 (0 = NOT_M...\n",
       "5      tumor protein p53 (0 = NOT_MUTATED; 1 = MUTATED)\n",
       "6     ATRX chromatin remodeler (0 = NOT_MUTATED; 1 =...\n",
       "7     phosphatase and tensin homolog (0 = NOT_MUTATE...\n",
       "8     epidermal growth factor receptor (0 = NOT_MUTA...\n",
       "9     capicua transcriptional repressor (0 = NOT_MUT...\n",
       "10    mucin 16, cell surface associated (0 = NOT_MUT...\n",
       "11    phosphatidylinositol-4,5-bisphosphate 3-kinase...\n",
       "12       neurofibromin 1 (0 = NOT_MUTATED; 1 = MUTATED)\n",
       "13    phosphoinositide-3-kinase regulatory subunit 1...\n",
       "14    far upstream element binding protein 1 (0 = NO...\n",
       "15    RB transcriptional corepressor 1 (0 = NOT_MUTA...\n",
       "16      notch receptor 1 (0 = NOT_MUTATED; 1 = MUTATED)\n",
       "17      BCL6 corepressor (0 = NOT_MUTATED; 1 = MUTATED)\n",
       "18    CUB and Sushi multiple domains 3 (0 = NOT_MUTA...\n",
       "19    SWI/SNF related, matrix associated, actin depe...\n",
       "20    glutamate ionotropic receptor NMDA type subuni...\n",
       "21    isocitrate dehydrogenase (NADP(+)) 2 (0 = NOT_...\n",
       "22    FAT atypical cadherin 4 (0 = NOT_MUTATED; 1 = ...\n",
       "23    platelet-derived growth factor receptor alpha ...\n",
       "Name: description, dtype: object"
      ]
     },
     "metadata": {},
     "output_type": "display_data"
    }
   ],
   "source": [
    "display(glioma_feat.variables['description'])"
   ]
  },
  {
   "cell_type": "code",
   "execution_count": 18,
   "id": "03dc4f1d-c3b5-4e24-a826-953edafdcd14",
   "metadata": {},
   "outputs": [
    {
     "data": {
      "text/plain": [
       "Index(['Case_ID', 'Gender', 'Age_at_diagnosis', 'Race', 'IDH1', 'TP53', 'ATRX',\n",
       "       'PTEN', 'EGFR', 'CIC', 'MUC16', 'PIK3CA', 'NF1', 'PIK3R1', 'FUBP1',\n",
       "       'RB1', 'NOTCH1', 'BCOR', 'CSMD3', 'SMARCA4', 'GRIN2A', 'IDH2', 'FAT4',\n",
       "       'PDGFRA', 'Grade'],\n",
       "      dtype='object')"
      ]
     },
     "execution_count": 18,
     "metadata": {},
     "output_type": "execute_result"
    }
   ],
   "source": [
    "glioma_feat.data.headers"
   ]
  },
  {
   "cell_type": "code",
   "execution_count": 19,
   "id": "346aeaa0-74ab-4798-a3ce-1575c5aeb5fe",
   "metadata": {
    "scrolled": true
   },
   "outputs": [
    {
     "data": {
      "text/plain": [
       "'https://archive.ics.uci.edu/static/public/759/data.csv'"
      ]
     },
     "execution_count": 19,
     "metadata": {},
     "output_type": "execute_result"
    }
   ],
   "source": [
    "glioma_feat.metadata['data_url']"
   ]
  },
  {
   "cell_type": "code",
   "execution_count": null,
   "id": "05f325d5-579b-4070-9f17-00403d4df63f",
   "metadata": {},
   "outputs": [],
   "source": []
  },
  {
   "cell_type": "code",
   "execution_count": null,
   "id": "5686898f-819a-4a9a-bb9c-9e1fda5e84e5",
   "metadata": {},
   "outputs": [],
   "source": []
  },
  {
   "cell_type": "code",
   "execution_count": null,
   "id": "46bd65c0-f11a-417e-ae2e-7f1e9e1af87b",
   "metadata": {},
   "outputs": [],
   "source": []
  },
  {
   "cell_type": "code",
   "execution_count": null,
   "id": "48964af4-e36a-4440-8c8a-d6d5fca3ece8",
   "metadata": {},
   "outputs": [],
   "source": []
  },
  {
   "cell_type": "markdown",
   "id": "bb52e982-8a10-4ade-8b5f-d9f289807bc1",
   "metadata": {},
   "source": [
    "## 2.3 Glioma Dataset - Unique Values"
   ]
  },
  {
   "cell_type": "code",
   "execution_count": 20,
   "id": "2b6d53ba-0764-4ece-b881-f2bb4806d955",
   "metadata": {},
   "outputs": [
    {
     "data": {
      "text/plain": [
       "Case_ID             839\n",
       "Gender                2\n",
       "Age_at_diagnosis    766\n",
       "Race                  4\n",
       "IDH1                  2\n",
       "TP53                  2\n",
       "ATRX                  2\n",
       "PTEN                  2\n",
       "EGFR                  2\n",
       "CIC                   2\n",
       "MUC16                 2\n",
       "PIK3CA                2\n",
       "NF1                   2\n",
       "PIK3R1                2\n",
       "FUBP1                 2\n",
       "RB1                   2\n",
       "NOTCH1                2\n",
       "BCOR                  2\n",
       "CSMD3                 2\n",
       "SMARCA4               2\n",
       "GRIN2A                2\n",
       "IDH2                  2\n",
       "FAT4                  2\n",
       "PDGFRA                2\n",
       "Grade                 2\n",
       "dtype: int64"
      ]
     },
     "execution_count": 20,
     "metadata": {},
     "output_type": "execute_result"
    }
   ],
   "source": [
    "# Unique Values of df_target\n",
    "df_target.nunique()"
   ]
  },
  {
   "cell_type": "code",
   "execution_count": 21,
   "id": "765ecc50-9847-4b05-934a-8dfe97afc368",
   "metadata": {},
   "outputs": [
    {
     "data": {
      "text/plain": [
       "array([0, 1], dtype=int64)"
      ]
     },
     "execution_count": 21,
     "metadata": {},
     "output_type": "execute_result"
    }
   ],
   "source": [
    "df_target['Grade'].unique()"
   ]
  },
  {
   "cell_type": "code",
   "execution_count": 22,
   "id": "4c9bcc73-0130-4b51-970d-ad2a0e803efe",
   "metadata": {},
   "outputs": [
    {
     "data": {
      "text/plain": [
       "array([0, 1], dtype=int64)"
      ]
     },
     "execution_count": 22,
     "metadata": {},
     "output_type": "execute_result"
    }
   ],
   "source": [
    "df_target['EGFR'].unique()"
   ]
  },
  {
   "cell_type": "code",
   "execution_count": 23,
   "id": "dd991530-229b-432f-9137-66dc6127076d",
   "metadata": {},
   "outputs": [
    {
     "data": {
      "text/plain": [
       "Case_ID              862\n",
       "Primary_Diagnosis      7\n",
       "dtype: int64"
      ]
     },
     "execution_count": 23,
     "metadata": {},
     "output_type": "execute_result"
    }
   ],
   "source": [
    "# Unique Values of df_target\n",
    "df_info.nunique()"
   ]
  },
  {
   "cell_type": "code",
   "execution_count": 24,
   "id": "14bdc311-be61-4cfc-b96e-a5846def8b6d",
   "metadata": {},
   "outputs": [
    {
     "data": {
      "text/plain": [
       "array(['Oligodendroglioma, NOS', 'Mixed glioma', 'Astrocytoma, NOS',\n",
       "       'Astrocytoma, anaplastic', 'Oligodendroglioma, anaplastic', '--',\n",
       "       'Glioblastoma'], dtype=object)"
      ]
     },
     "execution_count": 24,
     "metadata": {},
     "output_type": "execute_result"
    }
   ],
   "source": [
    "df_info['Primary_Diagnosis'].unique()"
   ]
  },
  {
   "cell_type": "code",
   "execution_count": 25,
   "id": "a67df5de-9619-4bd7-907c-2f1e8706e5cf",
   "metadata": {},
   "outputs": [
    {
     "data": {
      "text/plain": [
       "Primary_Diagnosis\n",
       "Glioblastoma                     360\n",
       "Astrocytoma, anaplastic          129\n",
       "Mixed glioma                     128\n",
       "Oligodendroglioma, NOS           108\n",
       "Oligodendroglioma, anaplastic     75\n",
       "Astrocytoma, NOS                  58\n",
       "--                                 4\n",
       "Name: count, dtype: int64"
      ]
     },
     "execution_count": 25,
     "metadata": {},
     "output_type": "execute_result"
    }
   ],
   "source": [
    "df_info['Primary_Diagnosis'].value_counts()"
   ]
  },
  {
   "cell_type": "code",
   "execution_count": 26,
   "id": "83047da0-4b31-4661-8452-5e2a73189bd2",
   "metadata": {},
   "outputs": [
    {
     "data": {
      "text/html": [
       "<div>\n",
       "<style scoped>\n",
       "    .dataframe tbody tr th:only-of-type {\n",
       "        vertical-align: middle;\n",
       "    }\n",
       "\n",
       "    .dataframe tbody tr th {\n",
       "        vertical-align: top;\n",
       "    }\n",
       "\n",
       "    .dataframe thead th {\n",
       "        text-align: right;\n",
       "    }\n",
       "</style>\n",
       "<table border=\"1\" class=\"dataframe\">\n",
       "  <thead>\n",
       "    <tr style=\"text-align: right;\">\n",
       "      <th></th>\n",
       "      <th>Case_ID</th>\n",
       "      <th>Primary_Diagnosis</th>\n",
       "    </tr>\n",
       "  </thead>\n",
       "  <tbody>\n",
       "    <tr>\n",
       "      <th>41</th>\n",
       "      <td>TCGA-R8-A6YH</td>\n",
       "      <td>--</td>\n",
       "    </tr>\n",
       "    <tr>\n",
       "      <th>671</th>\n",
       "      <td>TCGA-28-2501</td>\n",
       "      <td>--</td>\n",
       "    </tr>\n",
       "    <tr>\n",
       "      <th>706</th>\n",
       "      <td>TCGA-28-2510</td>\n",
       "      <td>--</td>\n",
       "    </tr>\n",
       "    <tr>\n",
       "      <th>794</th>\n",
       "      <td>TCGA-16-1048</td>\n",
       "      <td>--</td>\n",
       "    </tr>\n",
       "  </tbody>\n",
       "</table>\n",
       "</div>"
      ],
      "text/plain": [
       "          Case_ID Primary_Diagnosis\n",
       "41   TCGA-R8-A6YH                --\n",
       "671  TCGA-28-2501                --\n",
       "706  TCGA-28-2510                --\n",
       "794  TCGA-16-1048                --"
      ]
     },
     "execution_count": 26,
     "metadata": {},
     "output_type": "execute_result"
    }
   ],
   "source": [
    "df_info[df_info['Primary_Diagnosis'] == \"--\"]"
   ]
  },
  {
   "cell_type": "code",
   "execution_count": null,
   "id": "39243850-9427-4ebc-8b63-8295acf9a6c8",
   "metadata": {},
   "outputs": [],
   "source": []
  },
  {
   "cell_type": "code",
   "execution_count": 27,
   "id": "7412f6c9-6087-489e-bb79-310e718bd29d",
   "metadata": {},
   "outputs": [
    {
     "data": {
      "text/plain": [
       "Case_ID              862\n",
       "Primary_Diagnosis      7\n",
       "dtype: int64"
      ]
     },
     "execution_count": 27,
     "metadata": {},
     "output_type": "execute_result"
    }
   ],
   "source": [
    "df_info.nunique()"
   ]
  },
  {
   "cell_type": "code",
   "execution_count": 28,
   "id": "14cdc673-8f88-4cd9-9900-103da6d610f8",
   "metadata": {},
   "outputs": [
    {
     "data": {
      "text/plain": [
       "True"
      ]
     },
     "execution_count": 28,
     "metadata": {},
     "output_type": "execute_result"
    }
   ],
   "source": [
    "# Check if Case_ID from df_target are contained in Case_ID of df_info --> important to make the Case_ID a foreign key in the mysql gliomo_db target table\n",
    "all_exist = df_target['Case_ID'].isin(df_info['Case_ID']).all()\n",
    "all_exist"
   ]
  },
  {
   "cell_type": "code",
   "execution_count": null,
   "id": "58c776c2-be27-421d-a259-4091c6ce721c",
   "metadata": {},
   "outputs": [],
   "source": []
  },
  {
   "cell_type": "code",
   "execution_count": null,
   "id": "a1237e38-bfd0-4e95-bc05-660fa24eba02",
   "metadata": {},
   "outputs": [],
   "source": []
  },
  {
   "cell_type": "markdown",
   "id": "d114b3d1-6fa0-49a9-a7b1-d41d185c015d",
   "metadata": {},
   "source": [
    "## 2.4 Glioma Dataset - Descriptive Statistics"
   ]
  },
  {
   "cell_type": "code",
   "execution_count": 29,
   "id": "ec35bd9b-6bb3-4d8d-86ed-b40099439a7e",
   "metadata": {},
   "outputs": [
    {
     "data": {
      "text/html": [
       "<div>\n",
       "<style scoped>\n",
       "    .dataframe tbody tr th:only-of-type {\n",
       "        vertical-align: middle;\n",
       "    }\n",
       "\n",
       "    .dataframe tbody tr th {\n",
       "        vertical-align: top;\n",
       "    }\n",
       "\n",
       "    .dataframe thead th {\n",
       "        text-align: right;\n",
       "    }\n",
       "</style>\n",
       "<table border=\"1\" class=\"dataframe\">\n",
       "  <thead>\n",
       "    <tr style=\"text-align: right;\">\n",
       "      <th></th>\n",
       "      <th>Gender</th>\n",
       "      <th>Age_at_diagnosis</th>\n",
       "      <th>IDH1</th>\n",
       "      <th>TP53</th>\n",
       "      <th>ATRX</th>\n",
       "      <th>PTEN</th>\n",
       "      <th>EGFR</th>\n",
       "      <th>CIC</th>\n",
       "      <th>MUC16</th>\n",
       "      <th>PIK3CA</th>\n",
       "      <th>...</th>\n",
       "      <th>RB1</th>\n",
       "      <th>NOTCH1</th>\n",
       "      <th>BCOR</th>\n",
       "      <th>CSMD3</th>\n",
       "      <th>SMARCA4</th>\n",
       "      <th>GRIN2A</th>\n",
       "      <th>IDH2</th>\n",
       "      <th>FAT4</th>\n",
       "      <th>PDGFRA</th>\n",
       "      <th>Grade</th>\n",
       "    </tr>\n",
       "  </thead>\n",
       "  <tbody>\n",
       "    <tr>\n",
       "      <th>count</th>\n",
       "      <td>839.000000</td>\n",
       "      <td>839.000000</td>\n",
       "      <td>839.000000</td>\n",
       "      <td>839.000000</td>\n",
       "      <td>839.000000</td>\n",
       "      <td>839.000000</td>\n",
       "      <td>839.000000</td>\n",
       "      <td>839.000000</td>\n",
       "      <td>839.000000</td>\n",
       "      <td>839.000000</td>\n",
       "      <td>...</td>\n",
       "      <td>839.000000</td>\n",
       "      <td>839.000000</td>\n",
       "      <td>839.000000</td>\n",
       "      <td>839.000000</td>\n",
       "      <td>839.000000</td>\n",
       "      <td>839.000000</td>\n",
       "      <td>839.000000</td>\n",
       "      <td>839.000000</td>\n",
       "      <td>839.000000</td>\n",
       "      <td>839.000000</td>\n",
       "    </tr>\n",
       "    <tr>\n",
       "      <th>mean</th>\n",
       "      <td>0.418355</td>\n",
       "      <td>50.935411</td>\n",
       "      <td>0.481526</td>\n",
       "      <td>0.414779</td>\n",
       "      <td>0.258641</td>\n",
       "      <td>0.168057</td>\n",
       "      <td>0.133492</td>\n",
       "      <td>0.132300</td>\n",
       "      <td>0.116806</td>\n",
       "      <td>0.087008</td>\n",
       "      <td>...</td>\n",
       "      <td>0.047676</td>\n",
       "      <td>0.045292</td>\n",
       "      <td>0.034565</td>\n",
       "      <td>0.032181</td>\n",
       "      <td>0.032181</td>\n",
       "      <td>0.032181</td>\n",
       "      <td>0.027414</td>\n",
       "      <td>0.027414</td>\n",
       "      <td>0.026222</td>\n",
       "      <td>0.419547</td>\n",
       "    </tr>\n",
       "    <tr>\n",
       "      <th>std</th>\n",
       "      <td>0.493583</td>\n",
       "      <td>15.702339</td>\n",
       "      <td>0.499957</td>\n",
       "      <td>0.492978</td>\n",
       "      <td>0.438149</td>\n",
       "      <td>0.374140</td>\n",
       "      <td>0.340309</td>\n",
       "      <td>0.339019</td>\n",
       "      <td>0.321380</td>\n",
       "      <td>0.282015</td>\n",
       "      <td>...</td>\n",
       "      <td>0.213206</td>\n",
       "      <td>0.208068</td>\n",
       "      <td>0.182784</td>\n",
       "      <td>0.176586</td>\n",
       "      <td>0.176586</td>\n",
       "      <td>0.176586</td>\n",
       "      <td>0.163383</td>\n",
       "      <td>0.163383</td>\n",
       "      <td>0.159889</td>\n",
       "      <td>0.493779</td>\n",
       "    </tr>\n",
       "    <tr>\n",
       "      <th>min</th>\n",
       "      <td>0.000000</td>\n",
       "      <td>14.420000</td>\n",
       "      <td>0.000000</td>\n",
       "      <td>0.000000</td>\n",
       "      <td>0.000000</td>\n",
       "      <td>0.000000</td>\n",
       "      <td>0.000000</td>\n",
       "      <td>0.000000</td>\n",
       "      <td>0.000000</td>\n",
       "      <td>0.000000</td>\n",
       "      <td>...</td>\n",
       "      <td>0.000000</td>\n",
       "      <td>0.000000</td>\n",
       "      <td>0.000000</td>\n",
       "      <td>0.000000</td>\n",
       "      <td>0.000000</td>\n",
       "      <td>0.000000</td>\n",
       "      <td>0.000000</td>\n",
       "      <td>0.000000</td>\n",
       "      <td>0.000000</td>\n",
       "      <td>0.000000</td>\n",
       "    </tr>\n",
       "    <tr>\n",
       "      <th>25%</th>\n",
       "      <td>0.000000</td>\n",
       "      <td>38.055000</td>\n",
       "      <td>0.000000</td>\n",
       "      <td>0.000000</td>\n",
       "      <td>0.000000</td>\n",
       "      <td>0.000000</td>\n",
       "      <td>0.000000</td>\n",
       "      <td>0.000000</td>\n",
       "      <td>0.000000</td>\n",
       "      <td>0.000000</td>\n",
       "      <td>...</td>\n",
       "      <td>0.000000</td>\n",
       "      <td>0.000000</td>\n",
       "      <td>0.000000</td>\n",
       "      <td>0.000000</td>\n",
       "      <td>0.000000</td>\n",
       "      <td>0.000000</td>\n",
       "      <td>0.000000</td>\n",
       "      <td>0.000000</td>\n",
       "      <td>0.000000</td>\n",
       "      <td>0.000000</td>\n",
       "    </tr>\n",
       "    <tr>\n",
       "      <th>50%</th>\n",
       "      <td>0.000000</td>\n",
       "      <td>51.550000</td>\n",
       "      <td>0.000000</td>\n",
       "      <td>0.000000</td>\n",
       "      <td>0.000000</td>\n",
       "      <td>0.000000</td>\n",
       "      <td>0.000000</td>\n",
       "      <td>0.000000</td>\n",
       "      <td>0.000000</td>\n",
       "      <td>0.000000</td>\n",
       "      <td>...</td>\n",
       "      <td>0.000000</td>\n",
       "      <td>0.000000</td>\n",
       "      <td>0.000000</td>\n",
       "      <td>0.000000</td>\n",
       "      <td>0.000000</td>\n",
       "      <td>0.000000</td>\n",
       "      <td>0.000000</td>\n",
       "      <td>0.000000</td>\n",
       "      <td>0.000000</td>\n",
       "      <td>0.000000</td>\n",
       "    </tr>\n",
       "    <tr>\n",
       "      <th>75%</th>\n",
       "      <td>1.000000</td>\n",
       "      <td>62.800000</td>\n",
       "      <td>1.000000</td>\n",
       "      <td>1.000000</td>\n",
       "      <td>1.000000</td>\n",
       "      <td>0.000000</td>\n",
       "      <td>0.000000</td>\n",
       "      <td>0.000000</td>\n",
       "      <td>0.000000</td>\n",
       "      <td>0.000000</td>\n",
       "      <td>...</td>\n",
       "      <td>0.000000</td>\n",
       "      <td>0.000000</td>\n",
       "      <td>0.000000</td>\n",
       "      <td>0.000000</td>\n",
       "      <td>0.000000</td>\n",
       "      <td>0.000000</td>\n",
       "      <td>0.000000</td>\n",
       "      <td>0.000000</td>\n",
       "      <td>0.000000</td>\n",
       "      <td>1.000000</td>\n",
       "    </tr>\n",
       "    <tr>\n",
       "      <th>max</th>\n",
       "      <td>1.000000</td>\n",
       "      <td>89.290000</td>\n",
       "      <td>1.000000</td>\n",
       "      <td>1.000000</td>\n",
       "      <td>1.000000</td>\n",
       "      <td>1.000000</td>\n",
       "      <td>1.000000</td>\n",
       "      <td>1.000000</td>\n",
       "      <td>1.000000</td>\n",
       "      <td>1.000000</td>\n",
       "      <td>...</td>\n",
       "      <td>1.000000</td>\n",
       "      <td>1.000000</td>\n",
       "      <td>1.000000</td>\n",
       "      <td>1.000000</td>\n",
       "      <td>1.000000</td>\n",
       "      <td>1.000000</td>\n",
       "      <td>1.000000</td>\n",
       "      <td>1.000000</td>\n",
       "      <td>1.000000</td>\n",
       "      <td>1.000000</td>\n",
       "    </tr>\n",
       "  </tbody>\n",
       "</table>\n",
       "<p>8 rows × 23 columns</p>\n",
       "</div>"
      ],
      "text/plain": [
       "           Gender  Age_at_diagnosis        IDH1        TP53        ATRX  \\\n",
       "count  839.000000        839.000000  839.000000  839.000000  839.000000   \n",
       "mean     0.418355         50.935411    0.481526    0.414779    0.258641   \n",
       "std      0.493583         15.702339    0.499957    0.492978    0.438149   \n",
       "min      0.000000         14.420000    0.000000    0.000000    0.000000   \n",
       "25%      0.000000         38.055000    0.000000    0.000000    0.000000   \n",
       "50%      0.000000         51.550000    0.000000    0.000000    0.000000   \n",
       "75%      1.000000         62.800000    1.000000    1.000000    1.000000   \n",
       "max      1.000000         89.290000    1.000000    1.000000    1.000000   \n",
       "\n",
       "             PTEN        EGFR         CIC       MUC16      PIK3CA  ...  \\\n",
       "count  839.000000  839.000000  839.000000  839.000000  839.000000  ...   \n",
       "mean     0.168057    0.133492    0.132300    0.116806    0.087008  ...   \n",
       "std      0.374140    0.340309    0.339019    0.321380    0.282015  ...   \n",
       "min      0.000000    0.000000    0.000000    0.000000    0.000000  ...   \n",
       "25%      0.000000    0.000000    0.000000    0.000000    0.000000  ...   \n",
       "50%      0.000000    0.000000    0.000000    0.000000    0.000000  ...   \n",
       "75%      0.000000    0.000000    0.000000    0.000000    0.000000  ...   \n",
       "max      1.000000    1.000000    1.000000    1.000000    1.000000  ...   \n",
       "\n",
       "              RB1      NOTCH1        BCOR       CSMD3     SMARCA4      GRIN2A  \\\n",
       "count  839.000000  839.000000  839.000000  839.000000  839.000000  839.000000   \n",
       "mean     0.047676    0.045292    0.034565    0.032181    0.032181    0.032181   \n",
       "std      0.213206    0.208068    0.182784    0.176586    0.176586    0.176586   \n",
       "min      0.000000    0.000000    0.000000    0.000000    0.000000    0.000000   \n",
       "25%      0.000000    0.000000    0.000000    0.000000    0.000000    0.000000   \n",
       "50%      0.000000    0.000000    0.000000    0.000000    0.000000    0.000000   \n",
       "75%      0.000000    0.000000    0.000000    0.000000    0.000000    0.000000   \n",
       "max      1.000000    1.000000    1.000000    1.000000    1.000000    1.000000   \n",
       "\n",
       "             IDH2        FAT4      PDGFRA       Grade  \n",
       "count  839.000000  839.000000  839.000000  839.000000  \n",
       "mean     0.027414    0.027414    0.026222    0.419547  \n",
       "std      0.163383    0.163383    0.159889    0.493779  \n",
       "min      0.000000    0.000000    0.000000    0.000000  \n",
       "25%      0.000000    0.000000    0.000000    0.000000  \n",
       "50%      0.000000    0.000000    0.000000    0.000000  \n",
       "75%      0.000000    0.000000    0.000000    1.000000  \n",
       "max      1.000000    1.000000    1.000000    1.000000  \n",
       "\n",
       "[8 rows x 23 columns]"
      ]
     },
     "execution_count": 29,
     "metadata": {},
     "output_type": "execute_result"
    }
   ],
   "source": [
    "df_target.describe()"
   ]
  },
  {
   "cell_type": "code",
   "execution_count": 30,
   "id": "60c39c7c-f325-434c-9119-57f5da048f73",
   "metadata": {},
   "outputs": [
    {
     "data": {
      "text/html": [
       "<div>\n",
       "<style scoped>\n",
       "    .dataframe tbody tr th:only-of-type {\n",
       "        vertical-align: middle;\n",
       "    }\n",
       "\n",
       "    .dataframe tbody tr th {\n",
       "        vertical-align: top;\n",
       "    }\n",
       "\n",
       "    .dataframe thead th {\n",
       "        text-align: right;\n",
       "    }\n",
       "</style>\n",
       "<table border=\"1\" class=\"dataframe\">\n",
       "  <thead>\n",
       "    <tr style=\"text-align: right;\">\n",
       "      <th></th>\n",
       "      <th>Case_ID</th>\n",
       "      <th>Race</th>\n",
       "    </tr>\n",
       "  </thead>\n",
       "  <tbody>\n",
       "    <tr>\n",
       "      <th>count</th>\n",
       "      <td>839</td>\n",
       "      <td>839</td>\n",
       "    </tr>\n",
       "    <tr>\n",
       "      <th>unique</th>\n",
       "      <td>839</td>\n",
       "      <td>4</td>\n",
       "    </tr>\n",
       "    <tr>\n",
       "      <th>top</th>\n",
       "      <td>TCGA-DU-8164</td>\n",
       "      <td>white</td>\n",
       "    </tr>\n",
       "    <tr>\n",
       "      <th>freq</th>\n",
       "      <td>1</td>\n",
       "      <td>765</td>\n",
       "    </tr>\n",
       "  </tbody>\n",
       "</table>\n",
       "</div>"
      ],
      "text/plain": [
       "             Case_ID   Race\n",
       "count            839    839\n",
       "unique           839      4\n",
       "top     TCGA-DU-8164  white\n",
       "freq               1    765"
      ]
     },
     "execution_count": 30,
     "metadata": {},
     "output_type": "execute_result"
    }
   ],
   "source": [
    "df_target.describe(include='object')"
   ]
  },
  {
   "cell_type": "code",
   "execution_count": null,
   "id": "a54e03e2-d2d8-45aa-a9d5-687b25d99b2c",
   "metadata": {},
   "outputs": [],
   "source": []
  },
  {
   "cell_type": "code",
   "execution_count": 31,
   "id": "e538a6db-0059-49e0-a2d0-1896ad819bbf",
   "metadata": {},
   "outputs": [
    {
     "data": {
      "text/html": [
       "<div>\n",
       "<style scoped>\n",
       "    .dataframe tbody tr th:only-of-type {\n",
       "        vertical-align: middle;\n",
       "    }\n",
       "\n",
       "    .dataframe tbody tr th {\n",
       "        vertical-align: top;\n",
       "    }\n",
       "\n",
       "    .dataframe thead th {\n",
       "        text-align: right;\n",
       "    }\n",
       "</style>\n",
       "<table border=\"1\" class=\"dataframe\">\n",
       "  <thead>\n",
       "    <tr style=\"text-align: right;\">\n",
       "      <th></th>\n",
       "      <th>Case_ID</th>\n",
       "      <th>Primary_Diagnosis</th>\n",
       "    </tr>\n",
       "  </thead>\n",
       "  <tbody>\n",
       "    <tr>\n",
       "      <th>count</th>\n",
       "      <td>862</td>\n",
       "      <td>862</td>\n",
       "    </tr>\n",
       "    <tr>\n",
       "      <th>unique</th>\n",
       "      <td>862</td>\n",
       "      <td>7</td>\n",
       "    </tr>\n",
       "    <tr>\n",
       "      <th>top</th>\n",
       "      <td>TCGA-DU-8164</td>\n",
       "      <td>Glioblastoma</td>\n",
       "    </tr>\n",
       "    <tr>\n",
       "      <th>freq</th>\n",
       "      <td>1</td>\n",
       "      <td>360</td>\n",
       "    </tr>\n",
       "  </tbody>\n",
       "</table>\n",
       "</div>"
      ],
      "text/plain": [
       "             Case_ID Primary_Diagnosis\n",
       "count            862               862\n",
       "unique           862                 7\n",
       "top     TCGA-DU-8164      Glioblastoma\n",
       "freq               1               360"
      ]
     },
     "execution_count": 31,
     "metadata": {},
     "output_type": "execute_result"
    }
   ],
   "source": [
    "df_info.describe()"
   ]
  },
  {
   "cell_type": "code",
   "execution_count": null,
   "id": "dc3f08c1-415a-4d2b-8ff6-a7380ff82c6f",
   "metadata": {},
   "outputs": [],
   "source": []
  },
  {
   "cell_type": "code",
   "execution_count": null,
   "id": "6477ec39-ad61-47af-b49a-9d5c466ce9ca",
   "metadata": {},
   "outputs": [],
   "source": []
  },
  {
   "cell_type": "markdown",
   "id": "22854275-af4c-4131-a7b6-f0b86dc53f75",
   "metadata": {},
   "source": [
    "## 2.5 Glioma Dataset - Cleaning"
   ]
  },
  {
   "cell_type": "code",
   "execution_count": 32,
   "id": "8ebde2e7-1c88-4778-8455-f19912208ab8",
   "metadata": {},
   "outputs": [
    {
     "data": {
      "text/plain": [
       "Index(['Case_ID', 'Gender', 'Age_at_diagnosis', 'Race', 'IDH1', 'TP53', 'ATRX',\n",
       "       'PTEN', 'EGFR', 'CIC', 'MUC16', 'PIK3CA', 'NF1', 'PIK3R1', 'FUBP1',\n",
       "       'RB1', 'NOTCH1', 'BCOR', 'CSMD3', 'SMARCA4', 'GRIN2A', 'IDH2', 'FAT4',\n",
       "       'PDGFRA', 'Grade'],\n",
       "      dtype='object')"
      ]
     },
     "execution_count": 32,
     "metadata": {},
     "output_type": "execute_result"
    }
   ],
   "source": [
    "df_target.columns"
   ]
  },
  {
   "cell_type": "code",
   "execution_count": 33,
   "id": "a7bee130-8377-4c1c-a7bd-8cdd62912c77",
   "metadata": {},
   "outputs": [
    {
     "data": {
      "text/plain": [
       "Index(['case_id', 'gender', 'age_at_diagnosis', 'race', 'idh1', 'tp53', 'atrx',\n",
       "       'pten', 'egfr', 'cic', 'muc16', 'pik3ca', 'nf1', 'pik3r1', 'fubp1',\n",
       "       'rb1', 'notch1', 'bcor', 'csmd3', 'smarca4', 'grin2a', 'idh2', 'fat4',\n",
       "       'pdgfra', 'grade'],\n",
       "      dtype='object')"
      ]
     },
     "execution_count": 33,
     "metadata": {},
     "output_type": "execute_result"
    }
   ],
   "source": [
    "# Column names To lower case and Replace White spaces\n",
    "df_target = df_target.rename(columns={col: col.lower().strip().replace(\" \", \"_\") for col in df_target.columns})\n",
    "df_target.columns"
   ]
  },
  {
   "cell_type": "code",
   "execution_count": null,
   "id": "ecf0f9ae-c67e-4597-affe-8fe5178f7d4d",
   "metadata": {},
   "outputs": [],
   "source": []
  },
  {
   "cell_type": "code",
   "execution_count": 34,
   "id": "2650f841-6f64-4d2c-a9cc-bf7d44d795df",
   "metadata": {},
   "outputs": [
    {
     "data": {
      "text/plain": [
       "Index(['Case_ID', 'Primary_Diagnosis'], dtype='object')"
      ]
     },
     "execution_count": 34,
     "metadata": {},
     "output_type": "execute_result"
    }
   ],
   "source": [
    "df_info.columns"
   ]
  },
  {
   "cell_type": "code",
   "execution_count": 35,
   "id": "29792c0a-1fc4-40c9-b7fd-281459e08479",
   "metadata": {},
   "outputs": [
    {
     "data": {
      "text/plain": [
       "Index(['case_id', 'primary_diagnosis'], dtype='object')"
      ]
     },
     "execution_count": 35,
     "metadata": {},
     "output_type": "execute_result"
    }
   ],
   "source": [
    "df_info = df_info.rename(columns={col: col.lower().strip().replace(\" \", \"_\") for col in df_info.columns})\n",
    "df_info.columns"
   ]
  },
  {
   "cell_type": "code",
   "execution_count": null,
   "id": "9cb47583-0a28-4f8e-b149-253a6d665555",
   "metadata": {},
   "outputs": [],
   "source": []
  },
  {
   "cell_type": "code",
   "execution_count": null,
   "id": "97c3812c-8693-48b4-bca1-030fcb8eaf8c",
   "metadata": {},
   "outputs": [],
   "source": []
  },
  {
   "cell_type": "markdown",
   "id": "76a5f65e-5615-4fc2-aa2c-262b9866b728",
   "metadata": {},
   "source": [
    "## 2. Glioma Dataset - Write to CSV"
   ]
  },
  {
   "cell_type": "code",
   "execution_count": 36,
   "id": "2ce5b85e-0940-4ffa-9c73-32fc0ca03429",
   "metadata": {},
   "outputs": [],
   "source": [
    "df_target.to_csv('../data/cleaned/df_target.csv')"
   ]
  },
  {
   "cell_type": "code",
   "execution_count": 37,
   "id": "a8eb4f90-ae4e-4f83-ace2-cc10f63bea27",
   "metadata": {},
   "outputs": [],
   "source": [
    "df_info.to_csv('../data/cleaned/df_info.csv')"
   ]
  },
  {
   "cell_type": "code",
   "execution_count": null,
   "id": "625cdcde-4309-47fb-a407-a8a0c644077d",
   "metadata": {},
   "outputs": [],
   "source": []
  },
  {
   "cell_type": "code",
   "execution_count": null,
   "id": "68d1d477-7804-42e5-ab64-5f8e1d7743d7",
   "metadata": {},
   "outputs": [],
   "source": []
  },
  {
   "cell_type": "code",
   "execution_count": null,
   "id": "3211eb2d-44a3-4894-abfb-6350fdcc72d0",
   "metadata": {},
   "outputs": [],
   "source": []
  },
  {
   "cell_type": "markdown",
   "id": "e9429416-23b1-4135-b8b3-7ce4d35dad0a",
   "metadata": {},
   "source": [
    "# 3. Tabular Data Set-up"
   ]
  },
  {
   "cell_type": "code",
   "execution_count": null,
   "id": "55030f6c-b599-4673-a2a5-69624d7237e1",
   "metadata": {},
   "outputs": [],
   "source": []
  },
  {
   "cell_type": "markdown",
   "id": "6c59e0ab-f76d-4dc7-a8f8-60794f712453",
   "metadata": {},
   "source": [
    "## 3.1 Create INSERT Statement"
   ]
  },
  {
   "cell_type": "raw",
   "id": "1fe17880-1bce-4c69-a4ee-58abdb0b0f83",
   "metadata": {
    "scrolled": true
   },
   "source": [
    "# Fetch data from the existing table\n",
    "df = pd.read_sql_query('SELECT * FROM info', engine)\n",
    "\n",
    "# Generate the INSERT statements\n",
    "insert_statements = []\n",
    "for index, row in df.iterrows():\n",
    "    columns = ', '.join(row.index)\n",
    "    values = ', '.join([f\"'{value}'\" if isinstance(value, str) else str(value) for value in row])\n",
    "    insert_statement = f\"INSERT INTO existing_table ({columns}) VALUES ({values});\"\n",
    "    insert_statements.append(insert_statement)\n",
    "\n",
    "# Print the INSERT statements\n",
    "for statement in insert_statements:\n",
    "    print(statement)\n",
    "\n",
    "# Save the INSERT statements to an SQL file\n",
    "with open('../scripts/glioma_db_insert_info_data.sql', 'w') as file:\n",
    "    for statement in insert_statements:\n",
    "        file.write(statement + '\\n')"
   ]
  },
  {
   "cell_type": "markdown",
   "id": "d7fb185c-bfb0-4d86-8a8f-9a501b78ad43",
   "metadata": {},
   "source": [
    "## 3.2 Create a MySQL connection:"
   ]
  },
  {
   "cell_type": "code",
   "execution_count": 38,
   "id": "6913476c-4f83-4345-8c7c-94fb3a6358bf",
   "metadata": {},
   "outputs": [],
   "source": [
    "# Load environment variables from .env file\n",
    "load_dotenv()\n",
    "\n",
    "# Get database credentials from environment variables\n",
    "db_username = os.getenv(\"DB_USERNAME\")\n",
    "db_password = os.getenv(\"DB_PASSWORD\")\n",
    "db_host = os.getenv(\"DB_HOST\")\n",
    "db_port = os.getenv(\"DB_PORT\")\n",
    "db_name = os.getenv(\"DB_NAME\")"
   ]
  },
  {
   "cell_type": "code",
   "execution_count": 39,
   "id": "782cc0e2-cadf-4489-adb7-6277157eede5",
   "metadata": {},
   "outputs": [],
   "source": [
    "# Connection string\n",
    "connection_string = f'mysql+mysqlconnector://{db_username}:{db_password}@{db_host}:{db_port}/{db_name}'"
   ]
  },
  {
   "cell_type": "code",
   "execution_count": 40,
   "id": "224dd2b8-38d0-4e07-86b8-a5912efac186",
   "metadata": {},
   "outputs": [],
   "source": [
    "# MySQL connection\n",
    "engine = create_engine(connection_string)"
   ]
  },
  {
   "cell_type": "code",
   "execution_count": null,
   "id": "6ab796ef-5e7c-41b7-b5c1-287c82da93b4",
   "metadata": {},
   "outputs": [],
   "source": []
  },
  {
   "cell_type": "code",
   "execution_count": null,
   "id": "7914ea32-4865-4e64-b9d2-961c1aa9d84f",
   "metadata": {},
   "outputs": [],
   "source": []
  },
  {
   "cell_type": "markdown",
   "id": "3a89bd84-9ab9-473d-a36a-aa56dba7c10e",
   "metadata": {},
   "source": [
    "### 3.2.1 Get Tables"
   ]
  },
  {
   "cell_type": "code",
   "execution_count": 41,
   "id": "1193b08a-2456-4619-8b96-e21c4502448b",
   "metadata": {},
   "outputs": [
    {
     "data": {
      "text/html": [
       "<div>\n",
       "<style scoped>\n",
       "    .dataframe tbody tr th:only-of-type {\n",
       "        vertical-align: middle;\n",
       "    }\n",
       "\n",
       "    .dataframe tbody tr th {\n",
       "        vertical-align: top;\n",
       "    }\n",
       "\n",
       "    .dataframe thead th {\n",
       "        text-align: right;\n",
       "    }\n",
       "</style>\n",
       "<table border=\"1\" class=\"dataframe\">\n",
       "  <thead>\n",
       "    <tr style=\"text-align: right;\">\n",
       "      <th></th>\n",
       "      <th>target_id</th>\n",
       "      <th>case_id</th>\n",
       "      <th>gender</th>\n",
       "      <th>age_at_diagnosis</th>\n",
       "      <th>race</th>\n",
       "      <th>idh1</th>\n",
       "      <th>tp53</th>\n",
       "      <th>atrx</th>\n",
       "      <th>pten</th>\n",
       "      <th>egfr</th>\n",
       "      <th>...</th>\n",
       "      <th>rb1</th>\n",
       "      <th>notch1</th>\n",
       "      <th>bcor</th>\n",
       "      <th>csmd3</th>\n",
       "      <th>smarca4</th>\n",
       "      <th>grin2a</th>\n",
       "      <th>idh2</th>\n",
       "      <th>fat4</th>\n",
       "      <th>pdgfra</th>\n",
       "      <th>grade</th>\n",
       "    </tr>\n",
       "  </thead>\n",
       "  <tbody>\n",
       "    <tr>\n",
       "      <th>0</th>\n",
       "      <td>1</td>\n",
       "      <td>TCGA-DU-8164</td>\n",
       "      <td>0</td>\n",
       "      <td>51.30</td>\n",
       "      <td>white</td>\n",
       "      <td>1</td>\n",
       "      <td>0</td>\n",
       "      <td>0</td>\n",
       "      <td>0</td>\n",
       "      <td>0</td>\n",
       "      <td>...</td>\n",
       "      <td>0</td>\n",
       "      <td>0</td>\n",
       "      <td>0</td>\n",
       "      <td>0</td>\n",
       "      <td>0</td>\n",
       "      <td>0</td>\n",
       "      <td>0</td>\n",
       "      <td>0</td>\n",
       "      <td>0</td>\n",
       "      <td>0</td>\n",
       "    </tr>\n",
       "    <tr>\n",
       "      <th>1</th>\n",
       "      <td>2</td>\n",
       "      <td>TCGA-RY-A845</td>\n",
       "      <td>1</td>\n",
       "      <td>40.02</td>\n",
       "      <td>white</td>\n",
       "      <td>1</td>\n",
       "      <td>1</td>\n",
       "      <td>0</td>\n",
       "      <td>0</td>\n",
       "      <td>0</td>\n",
       "      <td>...</td>\n",
       "      <td>0</td>\n",
       "      <td>0</td>\n",
       "      <td>0</td>\n",
       "      <td>0</td>\n",
       "      <td>0</td>\n",
       "      <td>0</td>\n",
       "      <td>0</td>\n",
       "      <td>0</td>\n",
       "      <td>0</td>\n",
       "      <td>0</td>\n",
       "    </tr>\n",
       "    <tr>\n",
       "      <th>2</th>\n",
       "      <td>3</td>\n",
       "      <td>TCGA-QH-A6CY</td>\n",
       "      <td>0</td>\n",
       "      <td>38.72</td>\n",
       "      <td>white</td>\n",
       "      <td>1</td>\n",
       "      <td>0</td>\n",
       "      <td>0</td>\n",
       "      <td>0</td>\n",
       "      <td>0</td>\n",
       "      <td>...</td>\n",
       "      <td>0</td>\n",
       "      <td>0</td>\n",
       "      <td>0</td>\n",
       "      <td>0</td>\n",
       "      <td>0</td>\n",
       "      <td>0</td>\n",
       "      <td>0</td>\n",
       "      <td>0</td>\n",
       "      <td>0</td>\n",
       "      <td>0</td>\n",
       "    </tr>\n",
       "    <tr>\n",
       "      <th>3</th>\n",
       "      <td>4</td>\n",
       "      <td>TCGA-HT-A61A</td>\n",
       "      <td>1</td>\n",
       "      <td>20.98</td>\n",
       "      <td>white</td>\n",
       "      <td>0</td>\n",
       "      <td>0</td>\n",
       "      <td>0</td>\n",
       "      <td>0</td>\n",
       "      <td>0</td>\n",
       "      <td>...</td>\n",
       "      <td>0</td>\n",
       "      <td>0</td>\n",
       "      <td>0</td>\n",
       "      <td>0</td>\n",
       "      <td>0</td>\n",
       "      <td>0</td>\n",
       "      <td>0</td>\n",
       "      <td>0</td>\n",
       "      <td>0</td>\n",
       "      <td>0</td>\n",
       "    </tr>\n",
       "    <tr>\n",
       "      <th>4</th>\n",
       "      <td>5</td>\n",
       "      <td>TCGA-DU-8167</td>\n",
       "      <td>1</td>\n",
       "      <td>69.16</td>\n",
       "      <td>white</td>\n",
       "      <td>1</td>\n",
       "      <td>1</td>\n",
       "      <td>1</td>\n",
       "      <td>0</td>\n",
       "      <td>0</td>\n",
       "      <td>...</td>\n",
       "      <td>0</td>\n",
       "      <td>0</td>\n",
       "      <td>0</td>\n",
       "      <td>0</td>\n",
       "      <td>0</td>\n",
       "      <td>0</td>\n",
       "      <td>0</td>\n",
       "      <td>0</td>\n",
       "      <td>0</td>\n",
       "      <td>0</td>\n",
       "    </tr>\n",
       "  </tbody>\n",
       "</table>\n",
       "<p>5 rows × 26 columns</p>\n",
       "</div>"
      ],
      "text/plain": [
       "   target_id       case_id  gender  age_at_diagnosis   race  idh1  tp53  atrx  \\\n",
       "0          1  TCGA-DU-8164       0             51.30  white     1     0     0   \n",
       "1          2  TCGA-RY-A845       1             40.02  white     1     1     0   \n",
       "2          3  TCGA-QH-A6CY       0             38.72  white     1     0     0   \n",
       "3          4  TCGA-HT-A61A       1             20.98  white     0     0     0   \n",
       "4          5  TCGA-DU-8167       1             69.16  white     1     1     1   \n",
       "\n",
       "   pten  egfr  ...  rb1  notch1  bcor  csmd3  smarca4  grin2a  idh2  fat4  \\\n",
       "0     0     0  ...    0       0     0      0        0       0     0     0   \n",
       "1     0     0  ...    0       0     0      0        0       0     0     0   \n",
       "2     0     0  ...    0       0     0      0        0       0     0     0   \n",
       "3     0     0  ...    0       0     0      0        0       0     0     0   \n",
       "4     0     0  ...    0       0     0      0        0       0     0     0   \n",
       "\n",
       "   pdgfra  grade  \n",
       "0       0      0  \n",
       "1       0      0  \n",
       "2       0      0  \n",
       "3       0      0  \n",
       "4       0      0  \n",
       "\n",
       "[5 rows x 26 columns]"
      ]
     },
     "execution_count": 41,
     "metadata": {},
     "output_type": "execute_result"
    }
   ],
   "source": [
    "# target table of glioma_db\n",
    "with engine.connect() as conn:\n",
    "    # Run SQL query\n",
    "    result = conn.execute(text(\"\"\"\n",
    "        SELECT *\n",
    "        FROM glioma_db.target;\n",
    "    \"\"\"))\n",
    "\n",
    "    # Fetch all rows\n",
    "    tuple_result = result.fetchall()\n",
    "\n",
    "# Retrieve column names from the result set\n",
    "columns = result.keys()\n",
    "\n",
    "# Convert fetched rows to a Pandas DataFrame\n",
    "df_target_db = pd.DataFrame(tuple_result, columns=columns)\n",
    "df_target_db.head()"
   ]
  },
  {
   "cell_type": "code",
   "execution_count": null,
   "id": "52d35c77-6565-47e2-a01b-f7f9c075cdb1",
   "metadata": {},
   "outputs": [],
   "source": []
  },
  {
   "cell_type": "code",
   "execution_count": 42,
   "id": "12168ca6-786b-4ab8-a320-0e758c350adb",
   "metadata": {},
   "outputs": [
    {
     "data": {
      "text/html": [
       "<div>\n",
       "<style scoped>\n",
       "    .dataframe tbody tr th:only-of-type {\n",
       "        vertical-align: middle;\n",
       "    }\n",
       "\n",
       "    .dataframe tbody tr th {\n",
       "        vertical-align: top;\n",
       "    }\n",
       "\n",
       "    .dataframe thead th {\n",
       "        text-align: right;\n",
       "    }\n",
       "</style>\n",
       "<table border=\"1\" class=\"dataframe\">\n",
       "  <thead>\n",
       "    <tr style=\"text-align: right;\">\n",
       "      <th></th>\n",
       "      <th>target_id</th>\n",
       "      <th>case_id</th>\n",
       "      <th>gender</th>\n",
       "      <th>age_at_diagnosis</th>\n",
       "      <th>race</th>\n",
       "      <th>idh1</th>\n",
       "      <th>tp53</th>\n",
       "      <th>atrx</th>\n",
       "      <th>pten</th>\n",
       "      <th>egfr</th>\n",
       "      <th>...</th>\n",
       "      <th>rb1</th>\n",
       "      <th>notch1</th>\n",
       "      <th>bcor</th>\n",
       "      <th>csmd3</th>\n",
       "      <th>smarca4</th>\n",
       "      <th>grin2a</th>\n",
       "      <th>idh2</th>\n",
       "      <th>fat4</th>\n",
       "      <th>pdgfra</th>\n",
       "      <th>grade</th>\n",
       "    </tr>\n",
       "  </thead>\n",
       "  <tbody>\n",
       "    <tr>\n",
       "      <th>0</th>\n",
       "      <td>1</td>\n",
       "      <td>TCGA-DU-8164</td>\n",
       "      <td>0</td>\n",
       "      <td>51.30</td>\n",
       "      <td>white</td>\n",
       "      <td>1</td>\n",
       "      <td>0</td>\n",
       "      <td>0</td>\n",
       "      <td>0</td>\n",
       "      <td>0</td>\n",
       "      <td>...</td>\n",
       "      <td>0</td>\n",
       "      <td>0</td>\n",
       "      <td>0</td>\n",
       "      <td>0</td>\n",
       "      <td>0</td>\n",
       "      <td>0</td>\n",
       "      <td>0</td>\n",
       "      <td>0</td>\n",
       "      <td>0</td>\n",
       "      <td>0</td>\n",
       "    </tr>\n",
       "    <tr>\n",
       "      <th>1</th>\n",
       "      <td>2</td>\n",
       "      <td>TCGA-RY-A845</td>\n",
       "      <td>1</td>\n",
       "      <td>40.02</td>\n",
       "      <td>white</td>\n",
       "      <td>1</td>\n",
       "      <td>1</td>\n",
       "      <td>0</td>\n",
       "      <td>0</td>\n",
       "      <td>0</td>\n",
       "      <td>...</td>\n",
       "      <td>0</td>\n",
       "      <td>0</td>\n",
       "      <td>0</td>\n",
       "      <td>0</td>\n",
       "      <td>0</td>\n",
       "      <td>0</td>\n",
       "      <td>0</td>\n",
       "      <td>0</td>\n",
       "      <td>0</td>\n",
       "      <td>0</td>\n",
       "    </tr>\n",
       "    <tr>\n",
       "      <th>2</th>\n",
       "      <td>3</td>\n",
       "      <td>TCGA-QH-A6CY</td>\n",
       "      <td>0</td>\n",
       "      <td>38.72</td>\n",
       "      <td>white</td>\n",
       "      <td>1</td>\n",
       "      <td>0</td>\n",
       "      <td>0</td>\n",
       "      <td>0</td>\n",
       "      <td>0</td>\n",
       "      <td>...</td>\n",
       "      <td>0</td>\n",
       "      <td>0</td>\n",
       "      <td>0</td>\n",
       "      <td>0</td>\n",
       "      <td>0</td>\n",
       "      <td>0</td>\n",
       "      <td>0</td>\n",
       "      <td>0</td>\n",
       "      <td>0</td>\n",
       "      <td>0</td>\n",
       "    </tr>\n",
       "    <tr>\n",
       "      <th>3</th>\n",
       "      <td>4</td>\n",
       "      <td>TCGA-HT-A61A</td>\n",
       "      <td>1</td>\n",
       "      <td>20.98</td>\n",
       "      <td>white</td>\n",
       "      <td>0</td>\n",
       "      <td>0</td>\n",
       "      <td>0</td>\n",
       "      <td>0</td>\n",
       "      <td>0</td>\n",
       "      <td>...</td>\n",
       "      <td>0</td>\n",
       "      <td>0</td>\n",
       "      <td>0</td>\n",
       "      <td>0</td>\n",
       "      <td>0</td>\n",
       "      <td>0</td>\n",
       "      <td>0</td>\n",
       "      <td>0</td>\n",
       "      <td>0</td>\n",
       "      <td>0</td>\n",
       "    </tr>\n",
       "    <tr>\n",
       "      <th>4</th>\n",
       "      <td>5</td>\n",
       "      <td>TCGA-DU-8167</td>\n",
       "      <td>1</td>\n",
       "      <td>69.16</td>\n",
       "      <td>white</td>\n",
       "      <td>1</td>\n",
       "      <td>1</td>\n",
       "      <td>1</td>\n",
       "      <td>0</td>\n",
       "      <td>0</td>\n",
       "      <td>...</td>\n",
       "      <td>0</td>\n",
       "      <td>0</td>\n",
       "      <td>0</td>\n",
       "      <td>0</td>\n",
       "      <td>0</td>\n",
       "      <td>0</td>\n",
       "      <td>0</td>\n",
       "      <td>0</td>\n",
       "      <td>0</td>\n",
       "      <td>0</td>\n",
       "    </tr>\n",
       "  </tbody>\n",
       "</table>\n",
       "<p>5 rows × 26 columns</p>\n",
       "</div>"
      ],
      "text/plain": [
       "   target_id       case_id  gender  age_at_diagnosis   race  idh1  tp53  atrx  \\\n",
       "0          1  TCGA-DU-8164       0             51.30  white     1     0     0   \n",
       "1          2  TCGA-RY-A845       1             40.02  white     1     1     0   \n",
       "2          3  TCGA-QH-A6CY       0             38.72  white     1     0     0   \n",
       "3          4  TCGA-HT-A61A       1             20.98  white     0     0     0   \n",
       "4          5  TCGA-DU-8167       1             69.16  white     1     1     1   \n",
       "\n",
       "   pten  egfr  ...  rb1  notch1  bcor  csmd3  smarca4  grin2a  idh2  fat4  \\\n",
       "0     0     0  ...    0       0     0      0        0       0     0     0   \n",
       "1     0     0  ...    0       0     0      0        0       0     0     0   \n",
       "2     0     0  ...    0       0     0      0        0       0     0     0   \n",
       "3     0     0  ...    0       0     0      0        0       0     0     0   \n",
       "4     0     0  ...    0       0     0      0        0       0     0     0   \n",
       "\n",
       "   pdgfra  grade  \n",
       "0       0      0  \n",
       "1       0      0  \n",
       "2       0      0  \n",
       "3       0      0  \n",
       "4       0      0  \n",
       "\n",
       "[5 rows x 26 columns]"
      ]
     },
     "execution_count": 42,
     "metadata": {},
     "output_type": "execute_result"
    }
   ],
   "source": [
    "# info table of glioma_db\n",
    "with engine.connect() as conn:\n",
    "    # Run SQL query\n",
    "    result = conn.execute(text(\"\"\"\n",
    "        SELECT *\n",
    "        FROM glioma_db.target;\n",
    "    \"\"\"))\n",
    "\n",
    "    # Fetch all rows\n",
    "    tuple_result = result.fetchall()\n",
    "\n",
    "# Retrieve column names from the result set\n",
    "columns = result.keys()\n",
    "\n",
    "# Convert fetched rows to a Pandas DataFrame\n",
    "df_info_db = pd.DataFrame(tuple_result, columns=columns)\n",
    "df_info_db.head()"
   ]
  },
  {
   "cell_type": "code",
   "execution_count": null,
   "id": "d3e320a6-379f-46a3-a9f9-0bed7c8e34b2",
   "metadata": {},
   "outputs": [],
   "source": []
  },
  {
   "cell_type": "code",
   "execution_count": null,
   "id": "24e502e9-4373-4f57-b46c-8cbf3ea11589",
   "metadata": {},
   "outputs": [],
   "source": []
  },
  {
   "cell_type": "code",
   "execution_count": null,
   "id": "8b4c6874-8656-4e25-b111-52ac3f9fc75f",
   "metadata": {},
   "outputs": [],
   "source": []
  },
  {
   "cell_type": "markdown",
   "id": "df7553f2-cf40-48a7-b876-db1cd237355c",
   "metadata": {},
   "source": [
    "### 3.2.2 Join - Tables"
   ]
  },
  {
   "cell_type": "code",
   "execution_count": 43,
   "id": "a2af67f8-debe-40de-9ee1-18924f32d334",
   "metadata": {},
   "outputs": [],
   "source": [
    "with engine.connect() as conn:\n",
    "    # Run SQL query\n",
    "    result = conn.execute(text(\"\"\"\n",
    "        SELECT tar.*, inf.primary_diagnosis\n",
    "        FROM glioma_db.info as inf\n",
    "        RIGHT JOIN glioma_db.target as tar\n",
    "        ON inf.case_id = tar.case_id;\n",
    "    \"\"\"))\n",
    "\n",
    "    # Fetch all rows\n",
    "    tuple_result = result.fetchall()\n",
    "\n",
    "# Retrieve column names from the result set\n",
    "columns = result.keys()\n",
    "\n",
    "# Convert fetched rows to a Pandas DataFrame\n",
    "df_target_info = pd.DataFrame(tuple_result, columns=columns)"
   ]
  },
  {
   "cell_type": "code",
   "execution_count": 44,
   "id": "ea5f7ec8-9893-4b10-ada2-80d5e2b97a9c",
   "metadata": {},
   "outputs": [
    {
     "data": {
      "text/html": [
       "<div>\n",
       "<style scoped>\n",
       "    .dataframe tbody tr th:only-of-type {\n",
       "        vertical-align: middle;\n",
       "    }\n",
       "\n",
       "    .dataframe tbody tr th {\n",
       "        vertical-align: top;\n",
       "    }\n",
       "\n",
       "    .dataframe thead th {\n",
       "        text-align: right;\n",
       "    }\n",
       "</style>\n",
       "<table border=\"1\" class=\"dataframe\">\n",
       "  <thead>\n",
       "    <tr style=\"text-align: right;\">\n",
       "      <th></th>\n",
       "      <th>target_id</th>\n",
       "      <th>case_id</th>\n",
       "      <th>gender</th>\n",
       "      <th>age_at_diagnosis</th>\n",
       "      <th>race</th>\n",
       "      <th>idh1</th>\n",
       "      <th>tp53</th>\n",
       "      <th>atrx</th>\n",
       "      <th>pten</th>\n",
       "      <th>egfr</th>\n",
       "      <th>...</th>\n",
       "      <th>notch1</th>\n",
       "      <th>bcor</th>\n",
       "      <th>csmd3</th>\n",
       "      <th>smarca4</th>\n",
       "      <th>grin2a</th>\n",
       "      <th>idh2</th>\n",
       "      <th>fat4</th>\n",
       "      <th>pdgfra</th>\n",
       "      <th>grade</th>\n",
       "      <th>primary_diagnosis</th>\n",
       "    </tr>\n",
       "  </thead>\n",
       "  <tbody>\n",
       "    <tr>\n",
       "      <th>0</th>\n",
       "      <td>1</td>\n",
       "      <td>TCGA-DU-8164</td>\n",
       "      <td>0</td>\n",
       "      <td>51.30</td>\n",
       "      <td>white</td>\n",
       "      <td>1</td>\n",
       "      <td>0</td>\n",
       "      <td>0</td>\n",
       "      <td>0</td>\n",
       "      <td>0</td>\n",
       "      <td>...</td>\n",
       "      <td>0</td>\n",
       "      <td>0</td>\n",
       "      <td>0</td>\n",
       "      <td>0</td>\n",
       "      <td>0</td>\n",
       "      <td>0</td>\n",
       "      <td>0</td>\n",
       "      <td>0</td>\n",
       "      <td>0</td>\n",
       "      <td>Oligodendroglioma, NOS</td>\n",
       "    </tr>\n",
       "    <tr>\n",
       "      <th>1</th>\n",
       "      <td>2</td>\n",
       "      <td>TCGA-RY-A845</td>\n",
       "      <td>1</td>\n",
       "      <td>40.02</td>\n",
       "      <td>white</td>\n",
       "      <td>1</td>\n",
       "      <td>1</td>\n",
       "      <td>0</td>\n",
       "      <td>0</td>\n",
       "      <td>0</td>\n",
       "      <td>...</td>\n",
       "      <td>0</td>\n",
       "      <td>0</td>\n",
       "      <td>0</td>\n",
       "      <td>0</td>\n",
       "      <td>0</td>\n",
       "      <td>0</td>\n",
       "      <td>0</td>\n",
       "      <td>0</td>\n",
       "      <td>0</td>\n",
       "      <td>Mixed glioma</td>\n",
       "    </tr>\n",
       "    <tr>\n",
       "      <th>2</th>\n",
       "      <td>3</td>\n",
       "      <td>TCGA-QH-A6CY</td>\n",
       "      <td>0</td>\n",
       "      <td>38.72</td>\n",
       "      <td>white</td>\n",
       "      <td>1</td>\n",
       "      <td>0</td>\n",
       "      <td>0</td>\n",
       "      <td>0</td>\n",
       "      <td>0</td>\n",
       "      <td>...</td>\n",
       "      <td>0</td>\n",
       "      <td>0</td>\n",
       "      <td>0</td>\n",
       "      <td>0</td>\n",
       "      <td>0</td>\n",
       "      <td>0</td>\n",
       "      <td>0</td>\n",
       "      <td>0</td>\n",
       "      <td>0</td>\n",
       "      <td>Mixed glioma</td>\n",
       "    </tr>\n",
       "    <tr>\n",
       "      <th>3</th>\n",
       "      <td>4</td>\n",
       "      <td>TCGA-HT-A61A</td>\n",
       "      <td>1</td>\n",
       "      <td>20.98</td>\n",
       "      <td>white</td>\n",
       "      <td>0</td>\n",
       "      <td>0</td>\n",
       "      <td>0</td>\n",
       "      <td>0</td>\n",
       "      <td>0</td>\n",
       "      <td>...</td>\n",
       "      <td>0</td>\n",
       "      <td>0</td>\n",
       "      <td>0</td>\n",
       "      <td>0</td>\n",
       "      <td>0</td>\n",
       "      <td>0</td>\n",
       "      <td>0</td>\n",
       "      <td>0</td>\n",
       "      <td>0</td>\n",
       "      <td>Oligodendroglioma, NOS</td>\n",
       "    </tr>\n",
       "    <tr>\n",
       "      <th>4</th>\n",
       "      <td>5</td>\n",
       "      <td>TCGA-DU-8167</td>\n",
       "      <td>1</td>\n",
       "      <td>69.16</td>\n",
       "      <td>white</td>\n",
       "      <td>1</td>\n",
       "      <td>1</td>\n",
       "      <td>1</td>\n",
       "      <td>0</td>\n",
       "      <td>0</td>\n",
       "      <td>...</td>\n",
       "      <td>0</td>\n",
       "      <td>0</td>\n",
       "      <td>0</td>\n",
       "      <td>0</td>\n",
       "      <td>0</td>\n",
       "      <td>0</td>\n",
       "      <td>0</td>\n",
       "      <td>0</td>\n",
       "      <td>0</td>\n",
       "      <td>Mixed glioma</td>\n",
       "    </tr>\n",
       "    <tr>\n",
       "      <th>...</th>\n",
       "      <td>...</td>\n",
       "      <td>...</td>\n",
       "      <td>...</td>\n",
       "      <td>...</td>\n",
       "      <td>...</td>\n",
       "      <td>...</td>\n",
       "      <td>...</td>\n",
       "      <td>...</td>\n",
       "      <td>...</td>\n",
       "      <td>...</td>\n",
       "      <td>...</td>\n",
       "      <td>...</td>\n",
       "      <td>...</td>\n",
       "      <td>...</td>\n",
       "      <td>...</td>\n",
       "      <td>...</td>\n",
       "      <td>...</td>\n",
       "      <td>...</td>\n",
       "      <td>...</td>\n",
       "      <td>...</td>\n",
       "      <td>...</td>\n",
       "    </tr>\n",
       "    <tr>\n",
       "      <th>834</th>\n",
       "      <td>835</td>\n",
       "      <td>TCGA-4W-AA9S</td>\n",
       "      <td>0</td>\n",
       "      <td>69.94</td>\n",
       "      <td>black or african american</td>\n",
       "      <td>0</td>\n",
       "      <td>0</td>\n",
       "      <td>0</td>\n",
       "      <td>0</td>\n",
       "      <td>0</td>\n",
       "      <td>...</td>\n",
       "      <td>0</td>\n",
       "      <td>0</td>\n",
       "      <td>0</td>\n",
       "      <td>0</td>\n",
       "      <td>0</td>\n",
       "      <td>0</td>\n",
       "      <td>0</td>\n",
       "      <td>0</td>\n",
       "      <td>1</td>\n",
       "      <td>Glioblastoma</td>\n",
       "    </tr>\n",
       "    <tr>\n",
       "      <th>835</th>\n",
       "      <td>836</td>\n",
       "      <td>TCGA-19-2629</td>\n",
       "      <td>0</td>\n",
       "      <td>60.94</td>\n",
       "      <td>white</td>\n",
       "      <td>1</td>\n",
       "      <td>0</td>\n",
       "      <td>1</td>\n",
       "      <td>0</td>\n",
       "      <td>0</td>\n",
       "      <td>...</td>\n",
       "      <td>0</td>\n",
       "      <td>0</td>\n",
       "      <td>0</td>\n",
       "      <td>0</td>\n",
       "      <td>0</td>\n",
       "      <td>0</td>\n",
       "      <td>0</td>\n",
       "      <td>0</td>\n",
       "      <td>1</td>\n",
       "      <td>Glioblastoma</td>\n",
       "    </tr>\n",
       "    <tr>\n",
       "      <th>836</th>\n",
       "      <td>837</td>\n",
       "      <td>TCGA-RR-A6KC</td>\n",
       "      <td>0</td>\n",
       "      <td>55.59</td>\n",
       "      <td>black or african american</td>\n",
       "      <td>0</td>\n",
       "      <td>0</td>\n",
       "      <td>0</td>\n",
       "      <td>0</td>\n",
       "      <td>1</td>\n",
       "      <td>...</td>\n",
       "      <td>0</td>\n",
       "      <td>0</td>\n",
       "      <td>0</td>\n",
       "      <td>0</td>\n",
       "      <td>0</td>\n",
       "      <td>0</td>\n",
       "      <td>0</td>\n",
       "      <td>0</td>\n",
       "      <td>1</td>\n",
       "      <td>Glioblastoma</td>\n",
       "    </tr>\n",
       "    <tr>\n",
       "      <th>837</th>\n",
       "      <td>838</td>\n",
       "      <td>TCGA-06-0237</td>\n",
       "      <td>1</td>\n",
       "      <td>75.94</td>\n",
       "      <td>white</td>\n",
       "      <td>0</td>\n",
       "      <td>1</td>\n",
       "      <td>0</td>\n",
       "      <td>0</td>\n",
       "      <td>1</td>\n",
       "      <td>...</td>\n",
       "      <td>0</td>\n",
       "      <td>0</td>\n",
       "      <td>0</td>\n",
       "      <td>0</td>\n",
       "      <td>0</td>\n",
       "      <td>0</td>\n",
       "      <td>0</td>\n",
       "      <td>0</td>\n",
       "      <td>1</td>\n",
       "      <td>Glioblastoma</td>\n",
       "    </tr>\n",
       "    <tr>\n",
       "      <th>838</th>\n",
       "      <td>839</td>\n",
       "      <td>TCGA-06-0211</td>\n",
       "      <td>0</td>\n",
       "      <td>47.96</td>\n",
       "      <td>white</td>\n",
       "      <td>0</td>\n",
       "      <td>0</td>\n",
       "      <td>0</td>\n",
       "      <td>0</td>\n",
       "      <td>1</td>\n",
       "      <td>...</td>\n",
       "      <td>0</td>\n",
       "      <td>0</td>\n",
       "      <td>0</td>\n",
       "      <td>0</td>\n",
       "      <td>0</td>\n",
       "      <td>0</td>\n",
       "      <td>0</td>\n",
       "      <td>0</td>\n",
       "      <td>1</td>\n",
       "      <td>Glioblastoma</td>\n",
       "    </tr>\n",
       "  </tbody>\n",
       "</table>\n",
       "<p>839 rows × 27 columns</p>\n",
       "</div>"
      ],
      "text/plain": [
       "     target_id       case_id  gender  age_at_diagnosis  \\\n",
       "0            1  TCGA-DU-8164       0             51.30   \n",
       "1            2  TCGA-RY-A845       1             40.02   \n",
       "2            3  TCGA-QH-A6CY       0             38.72   \n",
       "3            4  TCGA-HT-A61A       1             20.98   \n",
       "4            5  TCGA-DU-8167       1             69.16   \n",
       "..         ...           ...     ...               ...   \n",
       "834        835  TCGA-4W-AA9S       0             69.94   \n",
       "835        836  TCGA-19-2629       0             60.94   \n",
       "836        837  TCGA-RR-A6KC       0             55.59   \n",
       "837        838  TCGA-06-0237       1             75.94   \n",
       "838        839  TCGA-06-0211       0             47.96   \n",
       "\n",
       "                          race  idh1  tp53  atrx  pten  egfr  ...  notch1  \\\n",
       "0                        white     1     0     0     0     0  ...       0   \n",
       "1                        white     1     1     0     0     0  ...       0   \n",
       "2                        white     1     0     0     0     0  ...       0   \n",
       "3                        white     0     0     0     0     0  ...       0   \n",
       "4                        white     1     1     1     0     0  ...       0   \n",
       "..                         ...   ...   ...   ...   ...   ...  ...     ...   \n",
       "834  black or african american     0     0     0     0     0  ...       0   \n",
       "835                      white     1     0     1     0     0  ...       0   \n",
       "836  black or african american     0     0     0     0     1  ...       0   \n",
       "837                      white     0     1     0     0     1  ...       0   \n",
       "838                      white     0     0     0     0     1  ...       0   \n",
       "\n",
       "     bcor  csmd3  smarca4  grin2a  idh2  fat4  pdgfra  grade  \\\n",
       "0       0      0        0       0     0     0       0      0   \n",
       "1       0      0        0       0     0     0       0      0   \n",
       "2       0      0        0       0     0     0       0      0   \n",
       "3       0      0        0       0     0     0       0      0   \n",
       "4       0      0        0       0     0     0       0      0   \n",
       "..    ...    ...      ...     ...   ...   ...     ...    ...   \n",
       "834     0      0        0       0     0     0       0      1   \n",
       "835     0      0        0       0     0     0       0      1   \n",
       "836     0      0        0       0     0     0       0      1   \n",
       "837     0      0        0       0     0     0       0      1   \n",
       "838     0      0        0       0     0     0       0      1   \n",
       "\n",
       "          primary_diagnosis  \n",
       "0    Oligodendroglioma, NOS  \n",
       "1              Mixed glioma  \n",
       "2              Mixed glioma  \n",
       "3    Oligodendroglioma, NOS  \n",
       "4              Mixed glioma  \n",
       "..                      ...  \n",
       "834            Glioblastoma  \n",
       "835            Glioblastoma  \n",
       "836            Glioblastoma  \n",
       "837            Glioblastoma  \n",
       "838            Glioblastoma  \n",
       "\n",
       "[839 rows x 27 columns]"
      ]
     },
     "execution_count": 44,
     "metadata": {},
     "output_type": "execute_result"
    }
   ],
   "source": [
    "df_target_info"
   ]
  },
  {
   "cell_type": "code",
   "execution_count": 45,
   "id": "0e90c74f-2ad3-45f4-916f-2710019c5061",
   "metadata": {},
   "outputs": [
    {
     "data": {
      "text/plain": [
       "array(['Oligodendroglioma, NOS', 'Mixed glioma', 'Astrocytoma, NOS',\n",
       "       'Oligodendroglioma, anaplastic', 'Astrocytoma, anaplastic',\n",
       "       'Glioblastoma'], dtype=object)"
      ]
     },
     "execution_count": 45,
     "metadata": {},
     "output_type": "execute_result"
    }
   ],
   "source": [
    "df_target_info['primary_diagnosis'].unique()"
   ]
  },
  {
   "cell_type": "code",
   "execution_count": null,
   "id": "1a93f8db-d0f8-4fd0-b063-154a89e0667e",
   "metadata": {},
   "outputs": [],
   "source": []
  },
  {
   "cell_type": "code",
   "execution_count": null,
   "id": "357a6097-f0dc-404c-b263-92f298d7496c",
   "metadata": {},
   "outputs": [],
   "source": []
  },
  {
   "cell_type": "markdown",
   "id": "54cc8d4d-eb03-4739-b429-1224359e5f5a",
   "metadata": {},
   "source": [
    "### 3.2.3 Count Grade by Gender AND Grade"
   ]
  },
  {
   "cell_type": "code",
   "execution_count": 46,
   "id": "853eddd0-8f1e-4b90-8164-dad19200d027",
   "metadata": {},
   "outputs": [],
   "source": [
    "with engine.connect() as conn:\n",
    "    # Run SQL query\n",
    "    result = conn.execute(text(\"\"\"\n",
    "        SELECT \n",
    "            CASE \n",
    "                WHEN gender = '1' THEN 'Female'\n",
    "                WHEN gender = '0' THEN 'Male'\n",
    "            END as gender,\n",
    "            grade,\n",
    "            COUNT(grade) AS count_grade\n",
    "        FROM glioma_db.target\n",
    "        GROUP BY gender, grade\n",
    "        ORDER BY gender, grade;\n",
    "    \"\"\"))\n",
    "\n",
    "    # Fetch all rows\n",
    "    tuple_result = result.fetchall()\n",
    "\n",
    "# Retrieve column names from the result set\n",
    "columns = result.keys()\n",
    "\n",
    "# Convert fetched rows to a Pandas DataFrame\n",
    "df_count_grade = pd.DataFrame(tuple_result, columns=columns)"
   ]
  },
  {
   "cell_type": "code",
   "execution_count": 47,
   "id": "fd73e49f-d995-4e88-a6f5-2737accf96df",
   "metadata": {},
   "outputs": [
    {
     "data": {
      "text/html": [
       "<div>\n",
       "<style scoped>\n",
       "    .dataframe tbody tr th:only-of-type {\n",
       "        vertical-align: middle;\n",
       "    }\n",
       "\n",
       "    .dataframe tbody tr th {\n",
       "        vertical-align: top;\n",
       "    }\n",
       "\n",
       "    .dataframe thead th {\n",
       "        text-align: right;\n",
       "    }\n",
       "</style>\n",
       "<table border=\"1\" class=\"dataframe\">\n",
       "  <thead>\n",
       "    <tr style=\"text-align: right;\">\n",
       "      <th></th>\n",
       "      <th>gender</th>\n",
       "      <th>grade</th>\n",
       "      <th>count_grade</th>\n",
       "    </tr>\n",
       "  </thead>\n",
       "  <tbody>\n",
       "    <tr>\n",
       "      <th>0</th>\n",
       "      <td>Female</td>\n",
       "      <td>0</td>\n",
       "      <td>216</td>\n",
       "    </tr>\n",
       "    <tr>\n",
       "      <th>1</th>\n",
       "      <td>Female</td>\n",
       "      <td>1</td>\n",
       "      <td>135</td>\n",
       "    </tr>\n",
       "    <tr>\n",
       "      <th>2</th>\n",
       "      <td>Male</td>\n",
       "      <td>0</td>\n",
       "      <td>271</td>\n",
       "    </tr>\n",
       "    <tr>\n",
       "      <th>3</th>\n",
       "      <td>Male</td>\n",
       "      <td>1</td>\n",
       "      <td>217</td>\n",
       "    </tr>\n",
       "  </tbody>\n",
       "</table>\n",
       "</div>"
      ],
      "text/plain": [
       "   gender  grade  count_grade\n",
       "0  Female      0          216\n",
       "1  Female      1          135\n",
       "2    Male      0          271\n",
       "3    Male      1          217"
      ]
     },
     "execution_count": 47,
     "metadata": {},
     "output_type": "execute_result"
    }
   ],
   "source": [
    "df_count_grade"
   ]
  },
  {
   "cell_type": "code",
   "execution_count": 48,
   "id": "07178214-7011-4460-8efa-5291ceb44876",
   "metadata": {},
   "outputs": [],
   "source": [
    "df_count_grade['normalized_count_grade'] = df_count_grade['count_grade'] / df_count_grade['count_grade'].sum()"
   ]
  },
  {
   "cell_type": "code",
   "execution_count": 49,
   "id": "ae0967ff-c42a-441a-acb8-837e5c41d807",
   "metadata": {},
   "outputs": [
    {
     "data": {
      "text/html": [
       "<div>\n",
       "<style scoped>\n",
       "    .dataframe tbody tr th:only-of-type {\n",
       "        vertical-align: middle;\n",
       "    }\n",
       "\n",
       "    .dataframe tbody tr th {\n",
       "        vertical-align: top;\n",
       "    }\n",
       "\n",
       "    .dataframe thead th {\n",
       "        text-align: right;\n",
       "    }\n",
       "</style>\n",
       "<table border=\"1\" class=\"dataframe\">\n",
       "  <thead>\n",
       "    <tr style=\"text-align: right;\">\n",
       "      <th></th>\n",
       "      <th>gender</th>\n",
       "      <th>grade</th>\n",
       "      <th>count_grade</th>\n",
       "      <th>normalized_count_grade</th>\n",
       "    </tr>\n",
       "  </thead>\n",
       "  <tbody>\n",
       "    <tr>\n",
       "      <th>0</th>\n",
       "      <td>Female</td>\n",
       "      <td>0</td>\n",
       "      <td>216</td>\n",
       "      <td>0.257449</td>\n",
       "    </tr>\n",
       "    <tr>\n",
       "      <th>1</th>\n",
       "      <td>Female</td>\n",
       "      <td>1</td>\n",
       "      <td>135</td>\n",
       "      <td>0.160906</td>\n",
       "    </tr>\n",
       "    <tr>\n",
       "      <th>2</th>\n",
       "      <td>Male</td>\n",
       "      <td>0</td>\n",
       "      <td>271</td>\n",
       "      <td>0.323004</td>\n",
       "    </tr>\n",
       "    <tr>\n",
       "      <th>3</th>\n",
       "      <td>Male</td>\n",
       "      <td>1</td>\n",
       "      <td>217</td>\n",
       "      <td>0.258641</td>\n",
       "    </tr>\n",
       "  </tbody>\n",
       "</table>\n",
       "</div>"
      ],
      "text/plain": [
       "   gender  grade  count_grade  normalized_count_grade\n",
       "0  Female      0          216                0.257449\n",
       "1  Female      1          135                0.160906\n",
       "2    Male      0          271                0.323004\n",
       "3    Male      1          217                0.258641"
      ]
     },
     "execution_count": 49,
     "metadata": {},
     "output_type": "execute_result"
    }
   ],
   "source": [
    "df_count_grade"
   ]
  },
  {
   "cell_type": "code",
   "execution_count": 50,
   "id": "bb87c30a-f211-4890-a534-a71fdde98cc1",
   "metadata": {},
   "outputs": [],
   "source": [
    "# Add a new column to the DataFrame that concatenates 'gender' and 'grade'\n",
    "df_count_grade['gender_grade'] = df_count_grade['grade'].astype(str)  + '_' + df_count_grade['gender']"
   ]
  },
  {
   "cell_type": "code",
   "execution_count": 51,
   "id": "eb92e460-bea8-48de-8044-d470f877609d",
   "metadata": {},
   "outputs": [
    {
     "data": {
      "text/html": [
       "<div>\n",
       "<style scoped>\n",
       "    .dataframe tbody tr th:only-of-type {\n",
       "        vertical-align: middle;\n",
       "    }\n",
       "\n",
       "    .dataframe tbody tr th {\n",
       "        vertical-align: top;\n",
       "    }\n",
       "\n",
       "    .dataframe thead th {\n",
       "        text-align: right;\n",
       "    }\n",
       "</style>\n",
       "<table border=\"1\" class=\"dataframe\">\n",
       "  <thead>\n",
       "    <tr style=\"text-align: right;\">\n",
       "      <th></th>\n",
       "      <th>gender</th>\n",
       "      <th>grade</th>\n",
       "      <th>count_grade</th>\n",
       "      <th>normalized_count_grade</th>\n",
       "      <th>gender_grade</th>\n",
       "    </tr>\n",
       "  </thead>\n",
       "  <tbody>\n",
       "    <tr>\n",
       "      <th>0</th>\n",
       "      <td>Female</td>\n",
       "      <td>0</td>\n",
       "      <td>216</td>\n",
       "      <td>0.257449</td>\n",
       "      <td>0_Female</td>\n",
       "    </tr>\n",
       "    <tr>\n",
       "      <th>1</th>\n",
       "      <td>Female</td>\n",
       "      <td>1</td>\n",
       "      <td>135</td>\n",
       "      <td>0.160906</td>\n",
       "      <td>1_Female</td>\n",
       "    </tr>\n",
       "    <tr>\n",
       "      <th>2</th>\n",
       "      <td>Male</td>\n",
       "      <td>0</td>\n",
       "      <td>271</td>\n",
       "      <td>0.323004</td>\n",
       "      <td>0_Male</td>\n",
       "    </tr>\n",
       "    <tr>\n",
       "      <th>3</th>\n",
       "      <td>Male</td>\n",
       "      <td>1</td>\n",
       "      <td>217</td>\n",
       "      <td>0.258641</td>\n",
       "      <td>1_Male</td>\n",
       "    </tr>\n",
       "  </tbody>\n",
       "</table>\n",
       "</div>"
      ],
      "text/plain": [
       "   gender  grade  count_grade  normalized_count_grade gender_grade\n",
       "0  Female      0          216                0.257449     0_Female\n",
       "1  Female      1          135                0.160906     1_Female\n",
       "2    Male      0          271                0.323004       0_Male\n",
       "3    Male      1          217                0.258641       1_Male"
      ]
     },
     "execution_count": 51,
     "metadata": {},
     "output_type": "execute_result"
    }
   ],
   "source": [
    "df_count_grade"
   ]
  },
  {
   "cell_type": "code",
   "execution_count": 52,
   "id": "c42a4803-29f8-4a87-9218-4d23c3052430",
   "metadata": {},
   "outputs": [
    {
     "data": {
      "image/png": "[encoded data removed]",
      "text/plain": [
       "<Figure size 800x600 with 1 Axes>"
      ]
     },
     "metadata": {},
     "output_type": "display_data"
    }
   ],
   "source": [
    "# Define custom palette\n",
    "palette = ['tab:blue', 'tab:orange', 'tab:green', 'tab:red']\n",
    "\n",
    "# Create a bar chart\n",
    "plt.figure(figsize=(8, 6))\n",
    "sns.barplot(data=df_count_grade, x='gender_grade', y='normalized_count_grade', hue='gender_grade', palette=palette)\n",
    "plt.xlabel('Gender and Grade')\n",
    "plt.ylabel('Normalized Count')\n",
    "plt.title('Normalized Count of Grades by Gender')\n",
    "\n",
    "# Set x-axis ticks and labels\n",
    "ticks = range(len(df_count_grade))\n",
    "labels = df_count_grade['gender_grade']\n",
    "plt.xticks(ticks=ticks, labels=labels)\n",
    "\n",
    "plt.tight_layout()  \n",
    "\n",
    "plt.savefig('../resources/norm_count_grade_by_gender.png')\n",
    "\n",
    "plt.show()\n",
    "\n"
   ]
  },
  {
   "cell_type": "code",
   "execution_count": null,
   "id": "930363a3-43cb-49c7-895f-7ff0a0d83452",
   "metadata": {},
   "outputs": [],
   "source": []
  },
  {
   "cell_type": "code",
   "execution_count": null,
   "id": "f14bb06a-97be-4785-8b9e-79c0be8ad850",
   "metadata": {},
   "outputs": [],
   "source": []
  },
  {
   "cell_type": "markdown",
   "id": "379a00f3-c781-4158-9e09-585b48ebadae",
   "metadata": {},
   "source": [
    "### 3.2.4 Frequency of Mutations by Gender and Grade"
   ]
  },
  {
   "cell_type": "code",
   "execution_count": 53,
   "id": "0da6956c-2984-4dbf-bd7a-ab2d6ad1b98f",
   "metadata": {},
   "outputs": [],
   "source": [
    "with engine.connect() as conn:\n",
    "    # Run SQL query\n",
    "    result = conn.execute(text(\"\"\"\n",
    "        SELECT \n",
    "            CASE \n",
    "                WHEN gender = '1' THEN 'Female'\n",
    "                WHEN gender = '0' THEN 'Male'\n",
    "            END as gender,\n",
    "            grade,\n",
    "            AVG(idh1) AS avg_idh1,\n",
    "            AVG(tp53) AS avg_tp53,\n",
    "            AVG(atrx) AS avg_atrx,\n",
    "            AVG(pten) AS avg_pten,\n",
    "            AVG(egfr) AS avg_egfr,\n",
    "            AVG(cic) AS avg_cic,\n",
    "            AVG(muc16) AS avg_muc16,\n",
    "            AVG(pik3ca) AS avg_pik3ca,\n",
    "            AVG(nf1) AS avg_nf1,\n",
    "            AVG(pik3r1) AS avg_pik3r1,\n",
    "            AVG(fubp1) AS avg_fubp1,\n",
    "            AVG(rb1) AS avg_rb1,\n",
    "            AVG(notch1) AS avg_notch1,\n",
    "            AVG(bcor) AS avg_bcor,\n",
    "            AVG(csmd3) AS avg_csmd3,\n",
    "            AVG(smarca4) AS avg_smarca4,\n",
    "            AVG(grin2a) AS avg_grin2a,\n",
    "            AVG(idh2) AS avg_idh2,\n",
    "            AVG(fat4) AS avg_fat4,\n",
    "            AVG(pdgfra) AS avg_pdgfra\n",
    "        FROM glioma_db.target\n",
    "        GROUP BY gender, grade\n",
    "        ORDER BY gender, grade;\n",
    "    \"\"\"))\n",
    "\n",
    "    # Fetch all rows\n",
    "    rows = result.fetchall()\n",
    "\n",
    "# Retrieve column names from the result set\n",
    "columns = result.keys()\n",
    "\n",
    "df_avg_mut = pd.DataFrame(rows, columns=columns)"
   ]
  },
  {
   "cell_type": "code",
   "execution_count": 54,
   "id": "64176e32-23f1-4b82-a6a8-42236d3ecb73",
   "metadata": {},
   "outputs": [
    {
     "data": {
      "text/html": [
       "<div>\n",
       "<style scoped>\n",
       "    .dataframe tbody tr th:only-of-type {\n",
       "        vertical-align: middle;\n",
       "    }\n",
       "\n",
       "    .dataframe tbody tr th {\n",
       "        vertical-align: top;\n",
       "    }\n",
       "\n",
       "    .dataframe thead th {\n",
       "        text-align: right;\n",
       "    }\n",
       "</style>\n",
       "<table border=\"1\" class=\"dataframe\">\n",
       "  <thead>\n",
       "    <tr style=\"text-align: right;\">\n",
       "      <th></th>\n",
       "      <th>gender</th>\n",
       "      <th>grade</th>\n",
       "      <th>avg_idh1</th>\n",
       "      <th>avg_tp53</th>\n",
       "      <th>avg_atrx</th>\n",
       "      <th>avg_pten</th>\n",
       "      <th>avg_egfr</th>\n",
       "      <th>avg_cic</th>\n",
       "      <th>avg_muc16</th>\n",
       "      <th>avg_pik3ca</th>\n",
       "      <th>...</th>\n",
       "      <th>avg_fubp1</th>\n",
       "      <th>avg_rb1</th>\n",
       "      <th>avg_notch1</th>\n",
       "      <th>avg_bcor</th>\n",
       "      <th>avg_csmd3</th>\n",
       "      <th>avg_smarca4</th>\n",
       "      <th>avg_grin2a</th>\n",
       "      <th>avg_idh2</th>\n",
       "      <th>avg_fat4</th>\n",
       "      <th>avg_pdgfra</th>\n",
       "    </tr>\n",
       "  </thead>\n",
       "  <tbody>\n",
       "    <tr>\n",
       "      <th>0</th>\n",
       "      <td>Female</td>\n",
       "      <td>0</td>\n",
       "      <td>0.7917</td>\n",
       "      <td>0.4537</td>\n",
       "      <td>0.3935</td>\n",
       "      <td>0.0417</td>\n",
       "      <td>0.0694</td>\n",
       "      <td>0.2454</td>\n",
       "      <td>0.0926</td>\n",
       "      <td>0.0741</td>\n",
       "      <td>...</td>\n",
       "      <td>0.0833</td>\n",
       "      <td>0.0185</td>\n",
       "      <td>0.0741</td>\n",
       "      <td>0.0463</td>\n",
       "      <td>0.0370</td>\n",
       "      <td>0.0417</td>\n",
       "      <td>0.0185</td>\n",
       "      <td>0.0463</td>\n",
       "      <td>0.0278</td>\n",
       "      <td>0.0185</td>\n",
       "    </tr>\n",
       "    <tr>\n",
       "      <th>1</th>\n",
       "      <td>Female</td>\n",
       "      <td>1</td>\n",
       "      <td>0.0593</td>\n",
       "      <td>0.3556</td>\n",
       "      <td>0.1185</td>\n",
       "      <td>0.3333</td>\n",
       "      <td>0.2000</td>\n",
       "      <td>0.0148</td>\n",
       "      <td>0.1704</td>\n",
       "      <td>0.1037</td>\n",
       "      <td>...</td>\n",
       "      <td>0.0148</td>\n",
       "      <td>0.1111</td>\n",
       "      <td>0.0000</td>\n",
       "      <td>0.0593</td>\n",
       "      <td>0.0444</td>\n",
       "      <td>0.0148</td>\n",
       "      <td>0.0519</td>\n",
       "      <td>0.0074</td>\n",
       "      <td>0.0593</td>\n",
       "      <td>0.0519</td>\n",
       "    </tr>\n",
       "    <tr>\n",
       "      <th>2</th>\n",
       "      <td>Male</td>\n",
       "      <td>0</td>\n",
       "      <td>0.7749</td>\n",
       "      <td>0.5055</td>\n",
       "      <td>0.3616</td>\n",
       "      <td>0.0590</td>\n",
       "      <td>0.0590</td>\n",
       "      <td>0.1993</td>\n",
       "      <td>0.0775</td>\n",
       "      <td>0.0849</td>\n",
       "      <td>...</td>\n",
       "      <td>0.0923</td>\n",
       "      <td>0.0074</td>\n",
       "      <td>0.0812</td>\n",
       "      <td>0.0258</td>\n",
       "      <td>0.0148</td>\n",
       "      <td>0.0517</td>\n",
       "      <td>0.0111</td>\n",
       "      <td>0.0406</td>\n",
       "      <td>0.0185</td>\n",
       "      <td>0.0074</td>\n",
       "    </tr>\n",
       "    <tr>\n",
       "      <th>3</th>\n",
       "      <td>Male</td>\n",
       "      <td>1</td>\n",
       "      <td>0.0691</td>\n",
       "      <td>0.2995</td>\n",
       "      <td>0.0829</td>\n",
       "      <td>0.3272</td>\n",
       "      <td>0.2488</td>\n",
       "      <td>0.0092</td>\n",
       "      <td>0.1567</td>\n",
       "      <td>0.0922</td>\n",
       "      <td>...</td>\n",
       "      <td>0.0000</td>\n",
       "      <td>0.0876</td>\n",
       "      <td>0.0000</td>\n",
       "      <td>0.0184</td>\n",
       "      <td>0.0415</td>\n",
       "      <td>0.0092</td>\n",
       "      <td>0.0599</td>\n",
       "      <td>0.0046</td>\n",
       "      <td>0.0184</td>\n",
       "      <td>0.0415</td>\n",
       "    </tr>\n",
       "  </tbody>\n",
       "</table>\n",
       "<p>4 rows × 22 columns</p>\n",
       "</div>"
      ],
      "text/plain": [
       "   gender  grade avg_idh1 avg_tp53 avg_atrx avg_pten avg_egfr avg_cic  \\\n",
       "0  Female      0   0.7917   0.4537   0.3935   0.0417   0.0694  0.2454   \n",
       "1  Female      1   0.0593   0.3556   0.1185   0.3333   0.2000  0.0148   \n",
       "2    Male      0   0.7749   0.5055   0.3616   0.0590   0.0590  0.1993   \n",
       "3    Male      1   0.0691   0.2995   0.0829   0.3272   0.2488  0.0092   \n",
       "\n",
       "  avg_muc16 avg_pik3ca  ... avg_fubp1 avg_rb1 avg_notch1 avg_bcor avg_csmd3  \\\n",
       "0    0.0926     0.0741  ...    0.0833  0.0185     0.0741   0.0463    0.0370   \n",
       "1    0.1704     0.1037  ...    0.0148  0.1111     0.0000   0.0593    0.0444   \n",
       "2    0.0775     0.0849  ...    0.0923  0.0074     0.0812   0.0258    0.0148   \n",
       "3    0.1567     0.0922  ...    0.0000  0.0876     0.0000   0.0184    0.0415   \n",
       "\n",
       "  avg_smarca4 avg_grin2a avg_idh2 avg_fat4 avg_pdgfra  \n",
       "0      0.0417     0.0185   0.0463   0.0278     0.0185  \n",
       "1      0.0148     0.0519   0.0074   0.0593     0.0519  \n",
       "2      0.0517     0.0111   0.0406   0.0185     0.0074  \n",
       "3      0.0092     0.0599   0.0046   0.0184     0.0415  \n",
       "\n",
       "[4 rows x 22 columns]"
      ]
     },
     "execution_count": 54,
     "metadata": {},
     "output_type": "execute_result"
    }
   ],
   "source": [
    "df_avg_mut"
   ]
  },
  {
   "cell_type": "code",
   "execution_count": 55,
   "id": "5898b706-7ab5-4608-a9b9-6911192d43d1",
   "metadata": {},
   "outputs": [
    {
     "data": {
      "text/plain": [
       "Index(['gender', 'grade', 'avg_idh1', 'avg_tp53', 'avg_atrx', 'avg_pten',\n",
       "       'avg_egfr', 'avg_cic', 'avg_muc16', 'avg_pik3ca', 'avg_nf1',\n",
       "       'avg_pik3r1', 'avg_fubp1', 'avg_rb1', 'avg_notch1', 'avg_bcor',\n",
       "       'avg_csmd3', 'avg_smarca4', 'avg_grin2a', 'avg_idh2', 'avg_fat4',\n",
       "       'avg_pdgfra'],\n",
       "      dtype='object')"
      ]
     },
     "execution_count": 55,
     "metadata": {},
     "output_type": "execute_result"
    }
   ],
   "source": [
    "df_avg_mut.columns"
   ]
  },
  {
   "cell_type": "code",
   "execution_count": 56,
   "id": "048cf65c-6581-42c6-8799-2db77c9330f4",
   "metadata": {},
   "outputs": [
    {
     "data": {
      "text/plain": [
       "['avg_idh1',\n",
       " 'avg_tp53',\n",
       " 'avg_atrx',\n",
       " 'avg_pten',\n",
       " 'avg_egfr',\n",
       " 'avg_cic',\n",
       " 'avg_muc16',\n",
       " 'avg_pik3ca',\n",
       " 'avg_nf1',\n",
       " 'avg_pik3r1',\n",
       " 'avg_fubp1',\n",
       " 'avg_rb1',\n",
       " 'avg_notch1',\n",
       " 'avg_bcor',\n",
       " 'avg_csmd3',\n",
       " 'avg_smarca4',\n",
       " 'avg_grin2a',\n",
       " 'avg_idh2',\n",
       " 'avg_fat4',\n",
       " 'avg_pdgfra']"
      ]
     },
     "execution_count": 56,
     "metadata": {},
     "output_type": "execute_result"
    }
   ],
   "source": [
    "avg_mut_columns = ['avg_idh1', 'avg_tp53', 'avg_atrx', 'avg_pten',\n",
    "                   'avg_egfr', 'avg_cic', 'avg_muc16', 'avg_pik3ca', 'avg_nf1',\n",
    "                   'avg_pik3r1', 'avg_fubp1', 'avg_rb1', 'avg_notch1', 'avg_bcor',\n",
    "                   'avg_csmd3', 'avg_smarca4', 'avg_grin2a', 'avg_idh2', 'avg_fat4',\n",
    "                   'avg_pdgfra']\n",
    "avg_mut_columns"
   ]
  },
  {
   "cell_type": "code",
   "execution_count": null,
   "id": "3d1a1ff6-8b2e-4ace-ad7a-b76b7260b04e",
   "metadata": {},
   "outputs": [],
   "source": []
  },
  {
   "cell_type": "markdown",
   "id": "07c4fb21-8514-440e-aac0-7324df6b4cb2",
   "metadata": {},
   "source": [
    "#### 3.2.4.1 Visualization"
   ]
  },
  {
   "cell_type": "code",
   "execution_count": 57,
   "id": "471e2df0-4806-4c8c-9505-cdb7bad6f3d2",
   "metadata": {},
   "outputs": [
    {
     "data": {
      "image/png": "[encoded data removed]",
      "text/plain": [
       "<Figure size 1000x600 with 1 Axes>"
      ]
     },
     "metadata": {},
     "output_type": "display_data"
    }
   ],
   "source": [
    "# DataFrame with mutations data\n",
    "\n",
    "# Combine gender and grade to create groups\n",
    "df_avg_mut['group'] = df_avg_mut['gender'] + '_' + df_avg_mut['grade'].astype(str)\n",
    "\n",
    "\n",
    "# Sum mutations across all columns\n",
    "df_avg_mut['total_mutations'] = df_avg_mut[avg_mut_columns].sum(axis=1).astype(int)\n",
    "\n",
    "# Group the data by 'group' and sum the mutation counts\n",
    "grouped_data = df_avg_mut.groupby('group')['total_mutations'].sum()\n",
    "\n",
    "# Define colors for each mutation column\n",
    "colors = ['#1f77b4', '#ff7f0e', '#2ca02c', '#d62728']\n",
    "\n",
    "# Create a bar plot\n",
    "plt.figure(figsize=(10, 6))\n",
    "grouped_data.plot(kind='bar', color=colors)\n",
    "plt.title('Average Number of Mutations by Gender and Grade', fontsize=16)\n",
    "plt.xlabel('Gender and Grade Group', fontsize=12)\n",
    "plt.ylabel('Average No Mutations', fontsize=12)\n",
    "plt.xticks(rotation=0, fontsize=12)\n",
    "plt.yticks(fontsize=12)\n",
    "plt.tight_layout()\n",
    "\n",
    "plt.savefig('../resources/avg_no_mutations_by_gender_grade.png')\n",
    "\n",
    "plt.show()"
   ]
  },
  {
   "cell_type": "code",
   "execution_count": 58,
   "id": "b91bfbc8-967e-420a-8aa7-f1366f1cfb39",
   "metadata": {},
   "outputs": [],
   "source": [
    "# Combine gender and grade to create groups\n",
    "df_avg_mut['group'] = df_avg_mut['gender'] + '_' + df_avg_mut['grade'].astype(str)"
   ]
  },
  {
   "cell_type": "code",
   "execution_count": 59,
   "id": "5823825f-dd2d-4364-8533-4d709f28fd91",
   "metadata": {},
   "outputs": [
    {
     "data": {
      "text/html": [
       "<div>\n",
       "<style scoped>\n",
       "    .dataframe tbody tr th:only-of-type {\n",
       "        vertical-align: middle;\n",
       "    }\n",
       "\n",
       "    .dataframe tbody tr th {\n",
       "        vertical-align: top;\n",
       "    }\n",
       "\n",
       "    .dataframe thead th {\n",
       "        text-align: right;\n",
       "    }\n",
       "</style>\n",
       "<table border=\"1\" class=\"dataframe\">\n",
       "  <thead>\n",
       "    <tr style=\"text-align: right;\">\n",
       "      <th></th>\n",
       "      <th>group</th>\n",
       "      <th>Mutation</th>\n",
       "      <th>Total Mutations</th>\n",
       "    </tr>\n",
       "  </thead>\n",
       "  <tbody>\n",
       "    <tr>\n",
       "      <th>0</th>\n",
       "      <td>Female_0</td>\n",
       "      <td>avg_idh1</td>\n",
       "      <td>0.7917</td>\n",
       "    </tr>\n",
       "    <tr>\n",
       "      <th>1</th>\n",
       "      <td>Female_1</td>\n",
       "      <td>avg_idh1</td>\n",
       "      <td>0.0593</td>\n",
       "    </tr>\n",
       "    <tr>\n",
       "      <th>2</th>\n",
       "      <td>Male_0</td>\n",
       "      <td>avg_idh1</td>\n",
       "      <td>0.7749</td>\n",
       "    </tr>\n",
       "    <tr>\n",
       "      <th>3</th>\n",
       "      <td>Male_1</td>\n",
       "      <td>avg_idh1</td>\n",
       "      <td>0.0691</td>\n",
       "    </tr>\n",
       "    <tr>\n",
       "      <th>4</th>\n",
       "      <td>Female_0</td>\n",
       "      <td>avg_tp53</td>\n",
       "      <td>0.4537</td>\n",
       "    </tr>\n",
       "    <tr>\n",
       "      <th>...</th>\n",
       "      <td>...</td>\n",
       "      <td>...</td>\n",
       "      <td>...</td>\n",
       "    </tr>\n",
       "    <tr>\n",
       "      <th>75</th>\n",
       "      <td>Male_1</td>\n",
       "      <td>avg_fat4</td>\n",
       "      <td>0.0184</td>\n",
       "    </tr>\n",
       "    <tr>\n",
       "      <th>76</th>\n",
       "      <td>Female_0</td>\n",
       "      <td>avg_pdgfra</td>\n",
       "      <td>0.0185</td>\n",
       "    </tr>\n",
       "    <tr>\n",
       "      <th>77</th>\n",
       "      <td>Female_1</td>\n",
       "      <td>avg_pdgfra</td>\n",
       "      <td>0.0519</td>\n",
       "    </tr>\n",
       "    <tr>\n",
       "      <th>78</th>\n",
       "      <td>Male_0</td>\n",
       "      <td>avg_pdgfra</td>\n",
       "      <td>0.0074</td>\n",
       "    </tr>\n",
       "    <tr>\n",
       "      <th>79</th>\n",
       "      <td>Male_1</td>\n",
       "      <td>avg_pdgfra</td>\n",
       "      <td>0.0415</td>\n",
       "    </tr>\n",
       "  </tbody>\n",
       "</table>\n",
       "<p>80 rows × 3 columns</p>\n",
       "</div>"
      ],
      "text/plain": [
       "       group    Mutation Total Mutations\n",
       "0   Female_0    avg_idh1          0.7917\n",
       "1   Female_1    avg_idh1          0.0593\n",
       "2     Male_0    avg_idh1          0.7749\n",
       "3     Male_1    avg_idh1          0.0691\n",
       "4   Female_0    avg_tp53          0.4537\n",
       "..       ...         ...             ...\n",
       "75    Male_1    avg_fat4          0.0184\n",
       "76  Female_0  avg_pdgfra          0.0185\n",
       "77  Female_1  avg_pdgfra          0.0519\n",
       "78    Male_0  avg_pdgfra          0.0074\n",
       "79    Male_1  avg_pdgfra          0.0415\n",
       "\n",
       "[80 rows x 3 columns]"
      ]
     },
     "execution_count": 59,
     "metadata": {},
     "output_type": "execute_result"
    }
   ],
   "source": [
    "# Change to long format\n",
    "df_avg_mut_long = df_avg_mut.melt(id_vars=['group'], value_vars=avg_mut_columns, var_name='Mutation', value_name='Total Mutations')\n",
    "df_avg_mut_long"
   ]
  },
  {
   "cell_type": "code",
   "execution_count": 60,
   "id": "89a3a0e3-c793-409d-a458-5902f7242f7d",
   "metadata": {},
   "outputs": [
    {
     "data": {
      "text/html": [
       "<div>\n",
       "<style scoped>\n",
       "    .dataframe tbody tr th:only-of-type {\n",
       "        vertical-align: middle;\n",
       "    }\n",
       "\n",
       "    .dataframe tbody tr th {\n",
       "        vertical-align: top;\n",
       "    }\n",
       "\n",
       "    .dataframe thead th {\n",
       "        text-align: right;\n",
       "    }\n",
       "</style>\n",
       "<table border=\"1\" class=\"dataframe\">\n",
       "  <thead>\n",
       "    <tr style=\"text-align: right;\">\n",
       "      <th></th>\n",
       "      <th>group</th>\n",
       "      <th>Mutation</th>\n",
       "      <th>Total Mutations</th>\n",
       "    </tr>\n",
       "  </thead>\n",
       "  <tbody>\n",
       "    <tr>\n",
       "      <th>0</th>\n",
       "      <td>Female_0</td>\n",
       "      <td>avg_idh1</td>\n",
       "      <td>0.7917</td>\n",
       "    </tr>\n",
       "    <tr>\n",
       "      <th>1</th>\n",
       "      <td>Female_0</td>\n",
       "      <td>avg_tp53</td>\n",
       "      <td>0.4537</td>\n",
       "    </tr>\n",
       "    <tr>\n",
       "      <th>2</th>\n",
       "      <td>Female_0</td>\n",
       "      <td>avg_atrx</td>\n",
       "      <td>0.3935</td>\n",
       "    </tr>\n",
       "    <tr>\n",
       "      <th>3</th>\n",
       "      <td>Female_0</td>\n",
       "      <td>avg_cic</td>\n",
       "      <td>0.2454</td>\n",
       "    </tr>\n",
       "    <tr>\n",
       "      <th>4</th>\n",
       "      <td>Female_0</td>\n",
       "      <td>avg_muc16</td>\n",
       "      <td>0.0926</td>\n",
       "    </tr>\n",
       "    <tr>\n",
       "      <th>5</th>\n",
       "      <td>Female_1</td>\n",
       "      <td>avg_tp53</td>\n",
       "      <td>0.3556</td>\n",
       "    </tr>\n",
       "    <tr>\n",
       "      <th>6</th>\n",
       "      <td>Female_1</td>\n",
       "      <td>avg_pten</td>\n",
       "      <td>0.3333</td>\n",
       "    </tr>\n",
       "    <tr>\n",
       "      <th>7</th>\n",
       "      <td>Female_1</td>\n",
       "      <td>avg_egfr</td>\n",
       "      <td>0.2000</td>\n",
       "    </tr>\n",
       "    <tr>\n",
       "      <th>8</th>\n",
       "      <td>Female_1</td>\n",
       "      <td>avg_muc16</td>\n",
       "      <td>0.1704</td>\n",
       "    </tr>\n",
       "    <tr>\n",
       "      <th>9</th>\n",
       "      <td>Female_1</td>\n",
       "      <td>avg_nf1</td>\n",
       "      <td>0.1259</td>\n",
       "    </tr>\n",
       "    <tr>\n",
       "      <th>10</th>\n",
       "      <td>Male_0</td>\n",
       "      <td>avg_idh1</td>\n",
       "      <td>0.7749</td>\n",
       "    </tr>\n",
       "    <tr>\n",
       "      <th>11</th>\n",
       "      <td>Male_0</td>\n",
       "      <td>avg_tp53</td>\n",
       "      <td>0.5055</td>\n",
       "    </tr>\n",
       "    <tr>\n",
       "      <th>12</th>\n",
       "      <td>Male_0</td>\n",
       "      <td>avg_atrx</td>\n",
       "      <td>0.3616</td>\n",
       "    </tr>\n",
       "    <tr>\n",
       "      <th>13</th>\n",
       "      <td>Male_0</td>\n",
       "      <td>avg_cic</td>\n",
       "      <td>0.1993</td>\n",
       "    </tr>\n",
       "    <tr>\n",
       "      <th>14</th>\n",
       "      <td>Male_0</td>\n",
       "      <td>avg_fubp1</td>\n",
       "      <td>0.0923</td>\n",
       "    </tr>\n",
       "    <tr>\n",
       "      <th>15</th>\n",
       "      <td>Male_1</td>\n",
       "      <td>avg_pten</td>\n",
       "      <td>0.3272</td>\n",
       "    </tr>\n",
       "    <tr>\n",
       "      <th>16</th>\n",
       "      <td>Male_1</td>\n",
       "      <td>avg_tp53</td>\n",
       "      <td>0.2995</td>\n",
       "    </tr>\n",
       "    <tr>\n",
       "      <th>17</th>\n",
       "      <td>Male_1</td>\n",
       "      <td>avg_egfr</td>\n",
       "      <td>0.2488</td>\n",
       "    </tr>\n",
       "    <tr>\n",
       "      <th>18</th>\n",
       "      <td>Male_1</td>\n",
       "      <td>avg_muc16</td>\n",
       "      <td>0.1567</td>\n",
       "    </tr>\n",
       "    <tr>\n",
       "      <th>19</th>\n",
       "      <td>Male_1</td>\n",
       "      <td>avg_pik3r1</td>\n",
       "      <td>0.1014</td>\n",
       "    </tr>\n",
       "  </tbody>\n",
       "</table>\n",
       "</div>"
      ],
      "text/plain": [
       "       group    Mutation  Total Mutations\n",
       "0   Female_0    avg_idh1           0.7917\n",
       "1   Female_0    avg_tp53           0.4537\n",
       "2   Female_0    avg_atrx           0.3935\n",
       "3   Female_0     avg_cic           0.2454\n",
       "4   Female_0   avg_muc16           0.0926\n",
       "5   Female_1    avg_tp53           0.3556\n",
       "6   Female_1    avg_pten           0.3333\n",
       "7   Female_1    avg_egfr           0.2000\n",
       "8   Female_1   avg_muc16           0.1704\n",
       "9   Female_1     avg_nf1           0.1259\n",
       "10    Male_0    avg_idh1           0.7749\n",
       "11    Male_0    avg_tp53           0.5055\n",
       "12    Male_0    avg_atrx           0.3616\n",
       "13    Male_0     avg_cic           0.1993\n",
       "14    Male_0   avg_fubp1           0.0923\n",
       "15    Male_1    avg_pten           0.3272\n",
       "16    Male_1    avg_tp53           0.2995\n",
       "17    Male_1    avg_egfr           0.2488\n",
       "18    Male_1   avg_muc16           0.1567\n",
       "19    Male_1  avg_pik3r1           0.1014"
      ]
     },
     "metadata": {},
     "output_type": "display_data"
    }
   ],
   "source": [
    "# Convert 'Total Mutations' column to numeric\n",
    "df_avg_mut_long['Total Mutations'] = pd.to_numeric(df_avg_mut_long['Total Mutations'], errors='coerce')\n",
    "\n",
    "# Initialize an empty list to store the top 5 mutations per group\n",
    "top_5_mutations_list = []\n",
    "\n",
    "# Iterate over each group\n",
    "for group, group_data in df_avg_mut_long.groupby('group'):\n",
    "    # Sort the group data by 'Total Mutations' in descending order\n",
    "    sorted_group_data = group_data.sort_values(by='Total Mutations', ascending=False)\n",
    "    # Take the top 5 rows with the highest 'Total Mutations' values\n",
    "    top_5_mutations = sorted_group_data.head(5)\n",
    "    # Append the top 5 mutations for this group to the list\n",
    "    top_5_mutations_list.append(top_5_mutations)\n",
    "\n",
    "# Concatenate the list of DataFrames into a single DataFrame\n",
    "df_avg_mut_long_max = pd.concat(top_5_mutations_list, ignore_index=True)\n",
    "display(df_avg_mut_long_max)\n",
    "\n"
   ]
  },
  {
   "cell_type": "code",
   "execution_count": 61,
   "id": "59006bde-e016-4a05-bef1-22e8084283fa",
   "metadata": {},
   "outputs": [
    {
     "data": {
      "image/png": "[encoded data removed]",
      "text/plain": [
       "<Figure size 1200x800 with 1 Axes>"
      ]
     },
     "metadata": {},
     "output_type": "display_data"
    }
   ],
   "source": [
    "# Create a bar plot\n",
    "plt.figure(figsize=(12, 8))\n",
    "sns.barplot(data=df_avg_mut_long_max, x='group', y='Total Mutations', hue='Mutation', palette='colorblind', dodge=True)\n",
    "plt.title('Total Mutations by Gender and Grade')\n",
    "plt.xlabel('Gender and Grade Group')\n",
    "plt.ylabel('Total Mutations')\n",
    "#plt.xticks(rotation=45)\n",
    "plt.tight_layout()\n",
    "\n",
    "plt.savefig('../resources/mutations_by_gender_grade.png') \n",
    "\n",
    "plt.show()\n",
    "\n",
    "\n"
   ]
  },
  {
   "cell_type": "code",
   "execution_count": 62,
   "id": "4e26995e-35ab-4af4-bea3-c01c9db462ba",
   "metadata": {},
   "outputs": [
    {
     "data": {
      "text/plain": [
       "array(['avg_idh1', 'avg_tp53', 'avg_atrx', 'avg_cic', 'avg_muc16',\n",
       "       'avg_pten', 'avg_egfr', 'avg_nf1', 'avg_fubp1', 'avg_pik3r1'],\n",
       "      dtype=object)"
      ]
     },
     "execution_count": 62,
     "metadata": {},
     "output_type": "execute_result"
    }
   ],
   "source": [
    "list_mutations = df_avg_mut_long_max['Mutation'].unique()\n",
    "list_mutations"
   ]
  },
  {
   "cell_type": "code",
   "execution_count": 63,
   "id": "e7114688-878d-4ac3-8057-a6dd7072de90",
   "metadata": {},
   "outputs": [
    {
     "data": {
      "text/plain": [
       "['#006BA4',\n",
       " '#FF800E',\n",
       " '#ABABAB',\n",
       " '#595959',\n",
       " '#5F9ED1',\n",
       " '#C85200',\n",
       " '#882255',\n",
       " '#817066',\n",
       " '#F1A340',\n",
       " '#52BCA3']"
      ]
     },
     "execution_count": 63,
     "metadata": {},
     "output_type": "execute_result"
    }
   ],
   "source": [
    "# List of colors\n",
    "mut_colors = ['#006BA4',\n",
    "              '#FF800E',\n",
    "              '#ABABAB',\n",
    "              '#595959',\n",
    "              '#5F9ED1',\n",
    "              '#C85200',\n",
    "              '#882255',\n",
    "              '#817066',\n",
    "              '#F1A340',\n",
    "              '#52BCA3']\n",
    "mut_colors"
   ]
  },
  {
   "cell_type": "code",
   "execution_count": 64,
   "id": "08617fe2-cb82-4a98-ad22-2b9174f087ae",
   "metadata": {},
   "outputs": [
    {
     "data": {
      "text/plain": [
       "{'avg_idh1': '#006BA4',\n",
       " 'avg_tp53': '#FF800E',\n",
       " 'avg_atrx': '#ABABAB',\n",
       " 'avg_cic': '#595959',\n",
       " 'avg_muc16': '#5F9ED1',\n",
       " 'avg_pten': '#C85200',\n",
       " 'avg_egfr': '#882255',\n",
       " 'avg_nf1': '#817066',\n",
       " 'avg_fubp1': '#F1A340',\n",
       " 'avg_pik3r1': '#52BCA3'}"
      ]
     },
     "execution_count": 64,
     "metadata": {},
     "output_type": "execute_result"
    }
   ],
   "source": [
    "# Create Mutation:Color dictionary:\n",
    "mut_color_dict = dict(zip(list_mutations, mut_colors))\n",
    "mut_color_dict"
   ]
  },
  {
   "cell_type": "code",
   "execution_count": 65,
   "id": "d5679467-2908-4529-992a-17a5c4cbf621",
   "metadata": {},
   "outputs": [
    {
     "data": {
      "text/plain": [
       "array(['Female_0', 'Female_1', 'Male_0', 'Male_1'], dtype=object)"
      ]
     },
     "execution_count": 65,
     "metadata": {},
     "output_type": "execute_result"
    }
   ],
   "source": [
    "df_avg_mut_long_max['group'].unique()"
   ]
  },
  {
   "cell_type": "code",
   "execution_count": 66,
   "id": "19ddf366-f0a4-4516-9f29-94f2b74932fb",
   "metadata": {},
   "outputs": [
    {
     "name": "stdout",
     "output_type": "stream",
     "text": [
      "Female_0\n"
     ]
    },
    {
     "data": {
      "image/png": "[encoded data removed]",
      "text/plain": [
       "<Figure size 1200x800 with 1 Axes>"
      ]
     },
     "metadata": {},
     "output_type": "display_data"
    },
    {
     "name": "stdout",
     "output_type": "stream",
     "text": [
      "Female_1\n"
     ]
    },
    {
     "data": {
      "image/png": "[encoded data removed]",
      "text/plain": [
       "<Figure size 1200x800 with 1 Axes>"
      ]
     },
     "metadata": {},
     "output_type": "display_data"
    },
    {
     "name": "stdout",
     "output_type": "stream",
     "text": [
      "Male_0\n"
     ]
    },
    {
     "data": {
      "image/png": "[encoded data removed]",
      "text/plain": [
       "<Figure size 1200x800 with 1 Axes>"
      ]
     },
     "metadata": {},
     "output_type": "display_data"
    },
    {
     "name": "stdout",
     "output_type": "stream",
     "text": [
      "Male_1\n"
     ]
    },
    {
     "data": {
      "image/png": "[encoded data removed]",
      "text/plain": [
       "<Figure size 1200x800 with 1 Axes>"
      ]
     },
     "metadata": {},
     "output_type": "display_data"
    }
   ],
   "source": [
    "for group_grade in df_avg_mut_long_max['group'].unique():\n",
    "    print(group_grade)\n",
    "\n",
    "    # Filter dataframe for respective group (e.g. female_0)\n",
    "    filtered_df = df_avg_mut_long_max[df_avg_mut_long_max['group'] == group_grade]\n",
    "    \n",
    "    # Extract unique mutations\n",
    "    unique_mutations = filtered_df['Mutation'].unique()\n",
    "\n",
    "    \n",
    "    # Create a bar plot with dynamically colored bars\n",
    "    plt.figure(figsize=(12, 8))\n",
    "    sns.barplot(data=filtered_df, x='group', y='Total Mutations', hue='Mutation', palette=mut_color_dict, dodge=True)\n",
    "    plt.title('Total Mutations by Gender and Grade')\n",
    "    plt.xlabel('Gender and Grade Group')\n",
    "    plt.ylabel('Total Mutations')\n",
    "    plt.ylim(0.0, 1.0)\n",
    "    plt.tight_layout()\n",
    "    plt.savefig('../resources/total_mut_gender_grade' + group_grade + '.png')\n",
    "    plt.show()\n",
    "\n",
    "\n"
   ]
  },
  {
   "cell_type": "code",
   "execution_count": null,
   "id": "4ae1433d-1e3b-45c8-9fa6-bccffab61989",
   "metadata": {},
   "outputs": [],
   "source": []
  },
  {
   "cell_type": "code",
   "execution_count": null,
   "id": "8b3ab347-41e5-47a8-8d10-ed2911a8ec21",
   "metadata": {},
   "outputs": [],
   "source": []
  },
  {
   "cell_type": "code",
   "execution_count": null,
   "id": "c5b6dd94-5c03-4110-ad23-873748eb9d96",
   "metadata": {},
   "outputs": [],
   "source": []
  },
  {
   "cell_type": "code",
   "execution_count": null,
   "id": "a6ce9932-5f65-4cc9-b5d6-0bb4e2234263",
   "metadata": {},
   "outputs": [],
   "source": []
  },
  {
   "cell_type": "markdown",
   "id": "b7b9f11b-7cb4-4fa3-9eee-6bf7bac90784",
   "metadata": {},
   "source": [
    "# 4. CHEMBL DATA"
   ]
  },
  {
   "cell_type": "markdown",
   "id": "fe247bb6-a9f9-44da-a91f-46b89146f477",
   "metadata": {},
   "source": [
    "## 4.1 CHEMBL DATA \n",
    "\n",
    "Reference TeachOpenCADD: https://volkamerlab.org/projects/teachopencadd/"
   ]
  },
  {
   "cell_type": "markdown",
   "id": "bb1490b0-a477-4433-9429-6f8ffad0471b",
   "metadata": {},
   "source": [
    "Citation:\n",
    "@article{TeachOpenCADD2022,\n",
    "    author = {Sydow, Dominique and Rodríguez-Guerra, Jaime and Kimber, Talia B and Schaller, David and Taylor, Corey J and Chen, Yonghui and Leja, Mareike and Misra, Sakshi and Wichmann, Michele and Ariamajd, Armin and Volkamer, Andrea},\n",
    "    title = {TeachOpenCADD 2022: open source and FAIR Python pipelines to assist in structural bioinformatics and cheminformatics research},\n",
    "    journal = {Nucleic Acids Research},\n",
    "    year = {2022},\n",
    "    volume = {50},\n",
    "    number = {W1},\n",
    "    pages = {W753–W760},\n",
    "    doi = {10.1093/nar/gkac267},\n",
    "}"
   ]
  },
  {
   "cell_type": "markdown",
   "id": "3d8192b7-4200-439a-957c-87866f5238e8",
   "metadata": {},
   "source": [
    "<h3 style=\"color:red\">Disclaimer</h3>\n",
    "- The following code was adapted from TEACHOPENCADD tutorials (see link above) without following the suggested path to fetch, explore and manipulated molecules fetched from ChEMBL DB.\n",
    "- THe following code is thus just a \"prove of concept\" (feasibility) to demonstrate initial steps of cheminformatics without having the claim to be complete."
   ]
  },
  {
   "cell_type": "code",
   "execution_count": 67,
   "id": "125ff2b0-2d51-4582-9e4b-943bdeeddf14",
   "metadata": {},
   "outputs": [],
   "source": [
    "# create resource objects for API access.\n",
    "targets_api = new_client.target\n",
    "compounds_api = new_client.molecule\n",
    "bioactivities_api = new_client.activity"
   ]
  },
  {
   "cell_type": "code",
   "execution_count": 68,
   "id": "ed3993df-5c8f-42c2-8da6-c7fbd9f01f4c",
   "metadata": {},
   "outputs": [
    {
     "data": {
      "text/plain": [
       "chembl_webresource_client.query_set.QuerySet"
      ]
     },
     "execution_count": 68,
     "metadata": {},
     "output_type": "execute_result"
    }
   ],
   "source": [
    "type(targets_api)"
   ]
  },
  {
   "cell_type": "code",
   "execution_count": 69,
   "id": "9925d681-da65-4ac6-948f-72677f7696da",
   "metadata": {},
   "outputs": [],
   "source": [
    "mutation='idh'"
   ]
  },
  {
   "cell_type": "code",
   "execution_count": 70,
   "id": "8aeae933-9c6d-4126-88e6-52ec16537cc3",
   "metadata": {},
   "outputs": [
    {
     "name": "stdout",
     "output_type": "stream",
     "text": [
      "   Molecule UniProt_ID\n",
      "0      IDH1     O75874\n",
      "1      TP53     P04637\n",
      "2      ATRX     P46100\n",
      "3      PTEN     P60484\n",
      "4      EGFR     P00533\n",
      "5       CIC     Q96RK0\n",
      "6     MUC16     Q8WXI7\n",
      "7    PIK3CA     P42336\n",
      "8       NF1     P21359\n",
      "9    PIK3R1     E5RHI0\n",
      "10    FUBP1     Q96AE4\n",
      "11      RB1     P06400\n",
      "12   NOTCH1     P46531\n",
      "13     BCOR     Q6W2J9\n",
      "14    CSMD3     Q7Z407\n",
      "15  SMARCA4     P51532\n",
      "16   GRIN2A     Q12879\n",
      "17     IDH2     P48735\n",
      "18     FAT4     Q6V0I7\n",
      "19   PDGFRA     P16234\n"
     ]
    }
   ],
   "source": [
    "# Create df with UNIPROT IDs for mutations (Manually - Please validate!)\n",
    "data = {\n",
    "    'Molecule': ['IDH1', 'TP53', 'ATRX', 'PTEN', 'EGFR', 'CIC', 'MUC16', 'PIK3CA', 'NF1', 'PIK3R1', 'FUBP1',\n",
    "                 'RB1', 'NOTCH1', 'BCOR', 'CSMD3', 'SMARCA4', 'GRIN2A', 'IDH2', 'FAT4', 'PDGFRA'],\n",
    "    'UniProt_ID': ['O75874', 'P04637', 'P46100', 'P60484', 'P00533', 'Q96RK0', 'Q8WXI7', 'P42336', 'P21359', 'E5RHI0',\n",
    "                   'Q96AE4', 'P06400', 'P46531', 'Q6W2J9', 'Q7Z407', 'P51532', 'Q12879', 'P48735', 'Q6V0I7', 'P16234']\n",
    "}\n",
    "\n",
    "df_uniprot = pd.DataFrame(data)\n",
    "print(df_uniprot)"
   ]
  },
  {
   "cell_type": "code",
   "execution_count": 71,
   "id": "6f282e93-3ca5-437b-9c40-f7e8f07eb7be",
   "metadata": {},
   "outputs": [
    {
     "data": {
      "text/html": [
       "<div>\n",
       "<style scoped>\n",
       "    .dataframe tbody tr th:only-of-type {\n",
       "        vertical-align: middle;\n",
       "    }\n",
       "\n",
       "    .dataframe tbody tr th {\n",
       "        vertical-align: top;\n",
       "    }\n",
       "\n",
       "    .dataframe thead th {\n",
       "        text-align: right;\n",
       "    }\n",
       "</style>\n",
       "<table border=\"1\" class=\"dataframe\">\n",
       "  <thead>\n",
       "    <tr style=\"text-align: right;\">\n",
       "      <th></th>\n",
       "      <th>Molecule</th>\n",
       "      <th>UniProt_ID</th>\n",
       "    </tr>\n",
       "  </thead>\n",
       "  <tbody>\n",
       "    <tr>\n",
       "      <th>0</th>\n",
       "      <td>idh1</td>\n",
       "      <td>O75874</td>\n",
       "    </tr>\n",
       "    <tr>\n",
       "      <th>1</th>\n",
       "      <td>tp53</td>\n",
       "      <td>P04637</td>\n",
       "    </tr>\n",
       "    <tr>\n",
       "      <th>2</th>\n",
       "      <td>atrx</td>\n",
       "      <td>P46100</td>\n",
       "    </tr>\n",
       "    <tr>\n",
       "      <th>3</th>\n",
       "      <td>pten</td>\n",
       "      <td>P60484</td>\n",
       "    </tr>\n",
       "    <tr>\n",
       "      <th>4</th>\n",
       "      <td>egfr</td>\n",
       "      <td>P00533</td>\n",
       "    </tr>\n",
       "  </tbody>\n",
       "</table>\n",
       "</div>"
      ],
      "text/plain": [
       "  Molecule UniProt_ID\n",
       "0     idh1     O75874\n",
       "1     tp53     P04637\n",
       "2     atrx     P46100\n",
       "3     pten     P60484\n",
       "4     egfr     P00533"
      ]
     },
     "execution_count": 71,
     "metadata": {},
     "output_type": "execute_result"
    }
   ],
   "source": [
    "df_uniprot['Molecule'] = df_uniprot['Molecule'].apply(lambda x: x.lower())\n",
    "df_uniprot.head()"
   ]
  },
  {
   "cell_type": "code",
   "execution_count": 72,
   "id": "1672d3f8-e893-463f-bfeb-010afe8d77d4",
   "metadata": {},
   "outputs": [
    {
     "data": {
      "text/plain": [
       "'O75874'"
      ]
     },
     "execution_count": 72,
     "metadata": {},
     "output_type": "execute_result"
    }
   ],
   "source": [
    "df_uniprot['UniProt_ID'][0]"
   ]
  },
  {
   "cell_type": "code",
   "execution_count": 73,
   "id": "351fe809-28aa-4bf5-9c08-87e196ec9c70",
   "metadata": {},
   "outputs": [
    {
     "name": "stdout",
     "output_type": "stream",
     "text": [
      "The type of the targets is \"<class 'chembl_webresource_client.query_set.QuerySet'>\"\n"
     ]
    }
   ],
   "source": [
    "# Get target information from ChEMBL but restrict it to specified values only\n",
    "targets = targets_api.get(target_components__accession=df_uniprot['UniProt_ID'][0]).only(\n",
    "    \"target_chembl_id\", \"organism\", \"pref_name\", \"target_type\"\n",
    ")\n",
    "print(f'The type of the targets is \"{type(targets)}\"')"
   ]
  },
  {
   "cell_type": "code",
   "execution_count": 74,
   "id": "fed3608b-5f69-466f-9d4a-30ff5ff78ea5",
   "metadata": {
    "scrolled": true
   },
   "outputs": [
    {
     "data": {
      "text/plain": [
       "'CHEMBL2007625'"
      ]
     },
     "execution_count": 74,
     "metadata": {},
     "output_type": "execute_result"
    }
   ],
   "source": [
    "# Get Chemgl ID\n",
    "df_targets = pd.DataFrame(targets)\n",
    "df_targets['target_chembl_id'][0]"
   ]
  },
  {
   "cell_type": "code",
   "execution_count": 75,
   "id": "76bc141a-3d04-48aa-81d6-ff7072fab377",
   "metadata": {},
   "outputs": [],
   "source": [
    "# Function to retrieve ChEMBL id from UNIPROTID\n",
    "\n",
    "def get_chembl_id (uniprot_id):\n",
    "    \"\"\"\n",
    "    Function to retrieve ChEMBL id from UNIPROTID\n",
    "    \"\"\"\n",
    "    #print(uniprot_id)\n",
    "    targets = targets_api.get(target_components__accession=uniprot_id).only(\"target_chembl_id\", \"organism\", \"pref_name\", \"target_type\")\n",
    "\n",
    "    df_targets = pd.DataFrame(targets)\n",
    "    # print(df_targets.columns)\n",
    "    if 'target_chembl_id' in df_targets.columns:\n",
    "        return df_targets['target_chembl_id'][0]\n",
    "    else:\n",
    "        np.nan"
   ]
  },
  {
   "cell_type": "code",
   "execution_count": 76,
   "id": "7448800d-a779-404e-b03f-6d514c21c4a9",
   "metadata": {},
   "outputs": [
    {
     "data": {
      "text/plain": [
       "'O75874'"
      ]
     },
     "execution_count": 76,
     "metadata": {},
     "output_type": "execute_result"
    }
   ],
   "source": [
    "df_uniprot['UniProt_ID'][0]"
   ]
  },
  {
   "cell_type": "code",
   "execution_count": 77,
   "id": "eeb12088-c875-451a-8bf6-6ddaa9216263",
   "metadata": {},
   "outputs": [
    {
     "data": {
      "text/html": [
       "<div>\n",
       "<style scoped>\n",
       "    .dataframe tbody tr th:only-of-type {\n",
       "        vertical-align: middle;\n",
       "    }\n",
       "\n",
       "    .dataframe tbody tr th {\n",
       "        vertical-align: top;\n",
       "    }\n",
       "\n",
       "    .dataframe thead th {\n",
       "        text-align: right;\n",
       "    }\n",
       "</style>\n",
       "<table border=\"1\" class=\"dataframe\">\n",
       "  <thead>\n",
       "    <tr style=\"text-align: right;\">\n",
       "      <th></th>\n",
       "      <th>Molecule</th>\n",
       "      <th>UniProt_ID</th>\n",
       "      <th>CHEMBL_ID</th>\n",
       "    </tr>\n",
       "  </thead>\n",
       "  <tbody>\n",
       "    <tr>\n",
       "      <th>0</th>\n",
       "      <td>idh1</td>\n",
       "      <td>O75874</td>\n",
       "      <td>CHEMBL2007625</td>\n",
       "    </tr>\n",
       "    <tr>\n",
       "      <th>1</th>\n",
       "      <td>tp53</td>\n",
       "      <td>P04637</td>\n",
       "      <td>CHEMBL4096</td>\n",
       "    </tr>\n",
       "    <tr>\n",
       "      <th>2</th>\n",
       "      <td>atrx</td>\n",
       "      <td>P46100</td>\n",
       "      <td>None</td>\n",
       "    </tr>\n",
       "    <tr>\n",
       "      <th>3</th>\n",
       "      <td>pten</td>\n",
       "      <td>P60484</td>\n",
       "      <td>CHEMBL2052032</td>\n",
       "    </tr>\n",
       "    <tr>\n",
       "      <th>4</th>\n",
       "      <td>egfr</td>\n",
       "      <td>P00533</td>\n",
       "      <td>CHEMBL203</td>\n",
       "    </tr>\n",
       "    <tr>\n",
       "      <th>5</th>\n",
       "      <td>cic</td>\n",
       "      <td>Q96RK0</td>\n",
       "      <td>None</td>\n",
       "    </tr>\n",
       "    <tr>\n",
       "      <th>6</th>\n",
       "      <td>muc16</td>\n",
       "      <td>Q8WXI7</td>\n",
       "      <td>CHEMBL3580482</td>\n",
       "    </tr>\n",
       "    <tr>\n",
       "      <th>7</th>\n",
       "      <td>pik3ca</td>\n",
       "      <td>P42336</td>\n",
       "      <td>CHEMBL4005</td>\n",
       "    </tr>\n",
       "    <tr>\n",
       "      <th>8</th>\n",
       "      <td>nf1</td>\n",
       "      <td>P21359</td>\n",
       "      <td>None</td>\n",
       "    </tr>\n",
       "    <tr>\n",
       "      <th>9</th>\n",
       "      <td>pik3r1</td>\n",
       "      <td>E5RHI0</td>\n",
       "      <td>None</td>\n",
       "    </tr>\n",
       "    <tr>\n",
       "      <th>10</th>\n",
       "      <td>fubp1</td>\n",
       "      <td>Q96AE4</td>\n",
       "      <td>CHEMBL4295922</td>\n",
       "    </tr>\n",
       "    <tr>\n",
       "      <th>11</th>\n",
       "      <td>rb1</td>\n",
       "      <td>P06400</td>\n",
       "      <td>CHEMBL5288</td>\n",
       "    </tr>\n",
       "    <tr>\n",
       "      <th>12</th>\n",
       "      <td>notch1</td>\n",
       "      <td>P46531</td>\n",
       "      <td>CHEMBL2146346</td>\n",
       "    </tr>\n",
       "    <tr>\n",
       "      <th>13</th>\n",
       "      <td>bcor</td>\n",
       "      <td>Q6W2J9</td>\n",
       "      <td>CHEMBL4106125</td>\n",
       "    </tr>\n",
       "    <tr>\n",
       "      <th>14</th>\n",
       "      <td>csmd3</td>\n",
       "      <td>Q7Z407</td>\n",
       "      <td>None</td>\n",
       "    </tr>\n",
       "    <tr>\n",
       "      <th>15</th>\n",
       "      <td>smarca4</td>\n",
       "      <td>P51532</td>\n",
       "      <td>CHEMBL3085620</td>\n",
       "    </tr>\n",
       "    <tr>\n",
       "      <th>16</th>\n",
       "      <td>grin2a</td>\n",
       "      <td>Q12879</td>\n",
       "      <td>CHEMBL1972</td>\n",
       "    </tr>\n",
       "    <tr>\n",
       "      <th>17</th>\n",
       "      <td>idh2</td>\n",
       "      <td>P48735</td>\n",
       "      <td>CHEMBL3991501</td>\n",
       "    </tr>\n",
       "    <tr>\n",
       "      <th>18</th>\n",
       "      <td>fat4</td>\n",
       "      <td>Q6V0I7</td>\n",
       "      <td>None</td>\n",
       "    </tr>\n",
       "    <tr>\n",
       "      <th>19</th>\n",
       "      <td>pdgfra</td>\n",
       "      <td>P16234</td>\n",
       "      <td>CHEMBL2007</td>\n",
       "    </tr>\n",
       "  </tbody>\n",
       "</table>\n",
       "</div>"
      ],
      "text/plain": [
       "   Molecule UniProt_ID      CHEMBL_ID\n",
       "0      idh1     O75874  CHEMBL2007625\n",
       "1      tp53     P04637     CHEMBL4096\n",
       "2      atrx     P46100           None\n",
       "3      pten     P60484  CHEMBL2052032\n",
       "4      egfr     P00533      CHEMBL203\n",
       "5       cic     Q96RK0           None\n",
       "6     muc16     Q8WXI7  CHEMBL3580482\n",
       "7    pik3ca     P42336     CHEMBL4005\n",
       "8       nf1     P21359           None\n",
       "9    pik3r1     E5RHI0           None\n",
       "10    fubp1     Q96AE4  CHEMBL4295922\n",
       "11      rb1     P06400     CHEMBL5288\n",
       "12   notch1     P46531  CHEMBL2146346\n",
       "13     bcor     Q6W2J9  CHEMBL4106125\n",
       "14    csmd3     Q7Z407           None\n",
       "15  smarca4     P51532  CHEMBL3085620\n",
       "16   grin2a     Q12879     CHEMBL1972\n",
       "17     idh2     P48735  CHEMBL3991501\n",
       "18     fat4     Q6V0I7           None\n",
       "19   pdgfra     P16234     CHEMBL2007"
      ]
     },
     "execution_count": 77,
     "metadata": {},
     "output_type": "execute_result"
    }
   ],
   "source": [
    "df_uniprot[\"CHEMBL_ID\"] = df_uniprot['UniProt_ID'].apply(get_chembl_id)\n",
    "df_uniprot"
   ]
  },
  {
   "cell_type": "code",
   "execution_count": 78,
   "id": "bafef142-0347-4bfc-9e68-b1f8c9fbec7a",
   "metadata": {},
   "outputs": [],
   "source": [
    "def get_inhibitor(chembl_id):\n",
    "    if chembl_id is None:\n",
    "        return np.nan\n",
    "\n",
    "    #print(chembl_id)\n",
    "    \n",
    "    # Fetch Bioactivity data from ChEMBL\n",
    "    bioactivities = bioactivities_api.filter(\n",
    "        target_chembl_id=chembl_id, type=\"IC50\", relation=\"=\", assay_type=\"B\"\n",
    "    ).only(\n",
    "        \"activity_id\",\n",
    "        \"assay_chembl_id\",\n",
    "        \"assay_description\",\n",
    "        \"assay_type\",\n",
    "        \"molecule_chembl_id\",\n",
    "        \"type\",\n",
    "        \"standard_units\",\n",
    "        \"relation\",\n",
    "        \"standard_value\",\n",
    "        \"target_chembl_id\",\n",
    "        \"target_organism\",\n",
    "    )\n",
    "    \n",
    "    #print(chembl_id)\n",
    "    \n",
    "    # Create DataFrame\n",
    "    bioactivities_df = pd.DataFrame.from_dict(bioactivities)\n",
    "\n",
    "    if bioactivities_df.empty:\n",
    "        return np.nan\n",
    "\n",
    "    #print(bioactivities_df.shape)\n",
    "    \n",
    "    # Drop columns\n",
    "    bioactivities_df.drop([\"units\", \"value\"], axis=1, inplace=True)\n",
    "    \n",
    "    # Convert types\n",
    "    bioactivities_df[\"standard_value\"] = bioactivities_df[\"standard_value\"].astype(\"float64\")\n",
    "    \n",
    "    # Drop missing values\n",
    "    bioactivities_df.dropna(axis=0, how=\"any\", inplace=True) \n",
    "    \n",
    "    # Keep only standard unit\n",
    "    bioactivities_df = bioactivities_df[bioactivities_df[\"standard_units\"] == \"nM\"]\n",
    "    \n",
    "    # Delete duplicates\n",
    "    bioactivities_df.drop_duplicates(\"molecule_chembl_id\", keep=\"first\", inplace=True) \n",
    "    \n",
    "    # Reset index\n",
    "    bioactivities_df.reset_index(drop=True, inplace=True) \n",
    "    \n",
    "    # Rename columns\n",
    "    bioactivities_df.rename(columns={\"standard_value\": \"IC50\", \"standard_units\": \"units\"}, inplace=True)\n",
    "    \n",
    "    # Get molecule with the lowest IC50 value\n",
    "    bioactivities_df.sort_values('IC50', ascending=True, inplace=True)\n",
    "    \n",
    "    # Reset index\n",
    "    bioactivities_df.reset_index(drop=True, inplace=True)\n",
    "    \n",
    "    #print(\"passed----------------------\")\n",
    "    #print(bioactivities_df[\"molecule_chembl_id\"].iloc[0])  # Accessing the first molecule_chembl_id\n",
    "    \n",
    "    return bioactivities_df[\"molecule_chembl_id\"].iloc[0]\n"
   ]
  },
  {
   "cell_type": "code",
   "execution_count": 79,
   "id": "14014474-e49c-4f86-9e3f-26dd86b4812b",
   "metadata": {},
   "outputs": [
    {
     "data": {
      "text/html": [
       "<div>\n",
       "<style scoped>\n",
       "    .dataframe tbody tr th:only-of-type {\n",
       "        vertical-align: middle;\n",
       "    }\n",
       "\n",
       "    .dataframe tbody tr th {\n",
       "        vertical-align: top;\n",
       "    }\n",
       "\n",
       "    .dataframe thead th {\n",
       "        text-align: right;\n",
       "    }\n",
       "</style>\n",
       "<table border=\"1\" class=\"dataframe\">\n",
       "  <thead>\n",
       "    <tr style=\"text-align: right;\">\n",
       "      <th></th>\n",
       "      <th>Molecule</th>\n",
       "      <th>UniProt_ID</th>\n",
       "      <th>CHEMBL_ID</th>\n",
       "      <th>Molecule_Inhibitor</th>\n",
       "    </tr>\n",
       "  </thead>\n",
       "  <tbody>\n",
       "    <tr>\n",
       "      <th>0</th>\n",
       "      <td>idh1</td>\n",
       "      <td>O75874</td>\n",
       "      <td>CHEMBL2007625</td>\n",
       "      <td>CHEMBL4279047</td>\n",
       "    </tr>\n",
       "    <tr>\n",
       "      <th>1</th>\n",
       "      <td>tp53</td>\n",
       "      <td>P04637</td>\n",
       "      <td>CHEMBL4096</td>\n",
       "      <td>CHEMBL2059435</td>\n",
       "    </tr>\n",
       "    <tr>\n",
       "      <th>2</th>\n",
       "      <td>atrx</td>\n",
       "      <td>P46100</td>\n",
       "      <td>None</td>\n",
       "      <td>NaN</td>\n",
       "    </tr>\n",
       "    <tr>\n",
       "      <th>3</th>\n",
       "      <td>pten</td>\n",
       "      <td>P60484</td>\n",
       "      <td>CHEMBL2052032</td>\n",
       "      <td>CHEMBL2057662</td>\n",
       "    </tr>\n",
       "    <tr>\n",
       "      <th>4</th>\n",
       "      <td>egfr</td>\n",
       "      <td>P00533</td>\n",
       "      <td>CHEMBL203</td>\n",
       "      <td>CHEMBL63786</td>\n",
       "    </tr>\n",
       "    <tr>\n",
       "      <th>5</th>\n",
       "      <td>cic</td>\n",
       "      <td>Q96RK0</td>\n",
       "      <td>None</td>\n",
       "      <td>NaN</td>\n",
       "    </tr>\n",
       "    <tr>\n",
       "      <th>6</th>\n",
       "      <td>muc16</td>\n",
       "      <td>Q8WXI7</td>\n",
       "      <td>CHEMBL3580482</td>\n",
       "      <td>NaN</td>\n",
       "    </tr>\n",
       "    <tr>\n",
       "      <th>7</th>\n",
       "      <td>pik3ca</td>\n",
       "      <td>P42336</td>\n",
       "      <td>CHEMBL4005</td>\n",
       "      <td>CHEMBL1236962</td>\n",
       "    </tr>\n",
       "    <tr>\n",
       "      <th>8</th>\n",
       "      <td>nf1</td>\n",
       "      <td>P21359</td>\n",
       "      <td>None</td>\n",
       "      <td>NaN</td>\n",
       "    </tr>\n",
       "    <tr>\n",
       "      <th>9</th>\n",
       "      <td>pik3r1</td>\n",
       "      <td>E5RHI0</td>\n",
       "      <td>None</td>\n",
       "      <td>NaN</td>\n",
       "    </tr>\n",
       "    <tr>\n",
       "      <th>10</th>\n",
       "      <td>fubp1</td>\n",
       "      <td>Q96AE4</td>\n",
       "      <td>CHEMBL4295922</td>\n",
       "      <td>CHEMBL4779552</td>\n",
       "    </tr>\n",
       "    <tr>\n",
       "      <th>11</th>\n",
       "      <td>rb1</td>\n",
       "      <td>P06400</td>\n",
       "      <td>CHEMBL5288</td>\n",
       "      <td>CHEMBL388978</td>\n",
       "    </tr>\n",
       "    <tr>\n",
       "      <th>12</th>\n",
       "      <td>notch1</td>\n",
       "      <td>P46531</td>\n",
       "      <td>CHEMBL2146346</td>\n",
       "      <td>CHEMBL3410169</td>\n",
       "    </tr>\n",
       "    <tr>\n",
       "      <th>13</th>\n",
       "      <td>bcor</td>\n",
       "      <td>Q6W2J9</td>\n",
       "      <td>CHEMBL4106125</td>\n",
       "      <td>CHEMBL4075278</td>\n",
       "    </tr>\n",
       "    <tr>\n",
       "      <th>14</th>\n",
       "      <td>csmd3</td>\n",
       "      <td>Q7Z407</td>\n",
       "      <td>None</td>\n",
       "      <td>NaN</td>\n",
       "    </tr>\n",
       "    <tr>\n",
       "      <th>15</th>\n",
       "      <td>smarca4</td>\n",
       "      <td>P51532</td>\n",
       "      <td>CHEMBL3085620</td>\n",
       "      <td>CHEMBL4278436</td>\n",
       "    </tr>\n",
       "    <tr>\n",
       "      <th>16</th>\n",
       "      <td>grin2a</td>\n",
       "      <td>Q12879</td>\n",
       "      <td>CHEMBL1972</td>\n",
       "      <td>CHEMBL4450420</td>\n",
       "    </tr>\n",
       "    <tr>\n",
       "      <th>17</th>\n",
       "      <td>idh2</td>\n",
       "      <td>P48735</td>\n",
       "      <td>CHEMBL3991501</td>\n",
       "      <td>CHEMBL4278420</td>\n",
       "    </tr>\n",
       "    <tr>\n",
       "      <th>18</th>\n",
       "      <td>fat4</td>\n",
       "      <td>Q6V0I7</td>\n",
       "      <td>None</td>\n",
       "      <td>NaN</td>\n",
       "    </tr>\n",
       "    <tr>\n",
       "      <th>19</th>\n",
       "      <td>pdgfra</td>\n",
       "      <td>P16234</td>\n",
       "      <td>CHEMBL2007</td>\n",
       "      <td>CHEMBL3904768</td>\n",
       "    </tr>\n",
       "  </tbody>\n",
       "</table>\n",
       "</div>"
      ],
      "text/plain": [
       "   Molecule UniProt_ID      CHEMBL_ID Molecule_Inhibitor\n",
       "0      idh1     O75874  CHEMBL2007625      CHEMBL4279047\n",
       "1      tp53     P04637     CHEMBL4096      CHEMBL2059435\n",
       "2      atrx     P46100           None                NaN\n",
       "3      pten     P60484  CHEMBL2052032      CHEMBL2057662\n",
       "4      egfr     P00533      CHEMBL203        CHEMBL63786\n",
       "5       cic     Q96RK0           None                NaN\n",
       "6     muc16     Q8WXI7  CHEMBL3580482                NaN\n",
       "7    pik3ca     P42336     CHEMBL4005      CHEMBL1236962\n",
       "8       nf1     P21359           None                NaN\n",
       "9    pik3r1     E5RHI0           None                NaN\n",
       "10    fubp1     Q96AE4  CHEMBL4295922      CHEMBL4779552\n",
       "11      rb1     P06400     CHEMBL5288       CHEMBL388978\n",
       "12   notch1     P46531  CHEMBL2146346      CHEMBL3410169\n",
       "13     bcor     Q6W2J9  CHEMBL4106125      CHEMBL4075278\n",
       "14    csmd3     Q7Z407           None                NaN\n",
       "15  smarca4     P51532  CHEMBL3085620      CHEMBL4278436\n",
       "16   grin2a     Q12879     CHEMBL1972      CHEMBL4450420\n",
       "17     idh2     P48735  CHEMBL3991501      CHEMBL4278420\n",
       "18     fat4     Q6V0I7           None                NaN\n",
       "19   pdgfra     P16234     CHEMBL2007      CHEMBL3904768"
      ]
     },
     "execution_count": 79,
     "metadata": {},
     "output_type": "execute_result"
    }
   ],
   "source": [
    "df_uniprot['Molecule_Inhibitor'] = df_uniprot['CHEMBL_ID'].apply(get_inhibitor)\n",
    "df_uniprot"
   ]
  },
  {
   "cell_type": "code",
   "execution_count": 80,
   "id": "43a694ef-3010-40d2-91e2-d75e98b73a66",
   "metadata": {},
   "outputs": [
    {
     "data": {
      "text/plain": [
       "0     CHEMBL4279047\n",
       "1     CHEMBL2059435\n",
       "3     CHEMBL2057662\n",
       "4       CHEMBL63786\n",
       "7     CHEMBL1236962\n",
       "10    CHEMBL4779552\n",
       "11     CHEMBL388978\n",
       "12    CHEMBL3410169\n",
       "13    CHEMBL4075278\n",
       "15    CHEMBL4278436\n",
       "16    CHEMBL4450420\n",
       "17    CHEMBL4278420\n",
       "19    CHEMBL3904768\n",
       "Name: Molecule_Inhibitor, dtype: object"
      ]
     },
     "execution_count": 80,
     "metadata": {},
     "output_type": "execute_result"
    }
   ],
   "source": [
    "df_uniprot[df_uniprot['Molecule_Inhibitor'].notna()]['Molecule_Inhibitor']"
   ]
  },
  {
   "cell_type": "markdown",
   "id": "84f2eeee-4c1c-47ff-b901-4208610a1f5c",
   "metadata": {},
   "source": [
    "##### Download compound data from ChEMBL"
   ]
  },
  {
   "cell_type": "code",
   "execution_count": 81,
   "id": "07a243c6-59cf-4b0a-9192-12af77549f48",
   "metadata": {},
   "outputs": [],
   "source": [
    "compounds_provider = compounds_api.filter(molecule_chembl_id__in=list(df_uniprot[df_uniprot['Molecule_Inhibitor'].notna()]['Molecule_Inhibitor'])).only(\"molecule_chembl_id\", \"molecule_structures\")"
   ]
  },
  {
   "cell_type": "code",
   "execution_count": 82,
   "id": "0b8d5a21-56a6-4002-9ccb-518d94a9b7c1",
   "metadata": {},
   "outputs": [
    {
     "data": {
      "text/plain": [
       "dict_keys(['molecule_chembl_id', 'molecule_structures'])"
      ]
     },
     "execution_count": 82,
     "metadata": {},
     "output_type": "execute_result"
    }
   ],
   "source": [
    "compounds_provider[0].keys()"
   ]
  },
  {
   "cell_type": "code",
   "execution_count": 83,
   "id": "7551c3da-dd45-464f-89ab-2f0f8bcb7044",
   "metadata": {},
   "outputs": [
    {
     "data": {
      "application/vnd.jupyter.widget-view+json": {
       "model_id": "70c804401b7e471092bdce43212759b1",
       "version_major": 2,
       "version_minor": 0
      },
      "text/plain": [
       "  0%|          | 0/13 [00:00<?, ?it/s]"
      ]
     },
     "metadata": {},
     "output_type": "display_data"
    }
   ],
   "source": [
    "compounds = list(tqdm(compounds_provider))"
   ]
  },
  {
   "cell_type": "code",
   "execution_count": 84,
   "id": "80fcbc27-39a2-475d-8d83-348bbfa1e0e1",
   "metadata": {},
   "outputs": [],
   "source": [
    "compounds_df = pd.DataFrame.from_records(\n",
    "    compounds,\n",
    ")"
   ]
  },
  {
   "cell_type": "code",
   "execution_count": 85,
   "id": "05ce8411-7825-4f33-9b3d-6b0fe0cc40fc",
   "metadata": {
    "scrolled": true
   },
   "outputs": [
    {
     "data": {
      "text/html": [
       "<div>\n",
       "<style scoped>\n",
       "    .dataframe tbody tr th:only-of-type {\n",
       "        vertical-align: middle;\n",
       "    }\n",
       "\n",
       "    .dataframe tbody tr th {\n",
       "        vertical-align: top;\n",
       "    }\n",
       "\n",
       "    .dataframe thead th {\n",
       "        text-align: right;\n",
       "    }\n",
       "</style>\n",
       "<table border=\"1\" class=\"dataframe\">\n",
       "  <thead>\n",
       "    <tr style=\"text-align: right;\">\n",
       "      <th></th>\n",
       "      <th>molecule_chembl_id</th>\n",
       "      <th>molecule_structures</th>\n",
       "    </tr>\n",
       "  </thead>\n",
       "  <tbody>\n",
       "    <tr>\n",
       "      <th>0</th>\n",
       "      <td>CHEMBL63786</td>\n",
       "      <td>{'canonical_smiles': 'Brc1cccc(Nc2ncnc3cc4cccc...</td>\n",
       "    </tr>\n",
       "    <tr>\n",
       "      <th>1</th>\n",
       "      <td>CHEMBL388978</td>\n",
       "      <td>{'canonical_smiles': 'CN[C@@H]1C[C@H]2O[C@@](C...</td>\n",
       "    </tr>\n",
       "    <tr>\n",
       "      <th>2</th>\n",
       "      <td>CHEMBL1236962</td>\n",
       "      <td>{'canonical_smiles': 'COc1ncc(-c2ccc3nccc(-c4c...</td>\n",
       "    </tr>\n",
       "    <tr>\n",
       "      <th>3</th>\n",
       "      <td>CHEMBL2057662</td>\n",
       "      <td>None</td>\n",
       "    </tr>\n",
       "    <tr>\n",
       "      <th>4</th>\n",
       "      <td>CHEMBL2059435</td>\n",
       "      <td>{'canonical_smiles': 'CC[C@@H]([C@H](C)O)N1C(=...</td>\n",
       "    </tr>\n",
       "    <tr>\n",
       "      <th>5</th>\n",
       "      <td>CHEMBL3410169</td>\n",
       "      <td>{'canonical_smiles': 'CN1C(=O)[C@@H](NC(=O)[C@...</td>\n",
       "    </tr>\n",
       "    <tr>\n",
       "      <th>6</th>\n",
       "      <td>CHEMBL3904768</td>\n",
       "      <td>{'canonical_smiles': 'Cn1nccc1-c1ccn2c(C(=O)Nc...</td>\n",
       "    </tr>\n",
       "    <tr>\n",
       "      <th>7</th>\n",
       "      <td>CHEMBL4075278</td>\n",
       "      <td>{'canonical_smiles': 'O=C1CCc2cc(Nc3cc(OC4CCOC...</td>\n",
       "    </tr>\n",
       "    <tr>\n",
       "      <th>8</th>\n",
       "      <td>CHEMBL4278420</td>\n",
       "      <td>{'canonical_smiles': 'C[C@@H](Nc1nc(N[C@H](C)C...</td>\n",
       "    </tr>\n",
       "    <tr>\n",
       "      <th>9</th>\n",
       "      <td>CHEMBL4278436</td>\n",
       "      <td>{'canonical_smiles': 'O=C(Nc1ccnc(Cl)c1)Nc1cc(...</td>\n",
       "    </tr>\n",
       "    <tr>\n",
       "      <th>10</th>\n",
       "      <td>CHEMBL4279047</td>\n",
       "      <td>{'canonical_smiles': 'C[C@@H](Nc1nc(N[C@H](C)C...</td>\n",
       "    </tr>\n",
       "    <tr>\n",
       "      <th>11</th>\n",
       "      <td>CHEMBL4450420</td>\n",
       "      <td>{'canonical_smiles': 'Cc1ncc(CNNC(=O)c2cnc(CNS...</td>\n",
       "    </tr>\n",
       "    <tr>\n",
       "      <th>12</th>\n",
       "      <td>CHEMBL4779552</td>\n",
       "      <td>{'canonical_smiles': 'COc1ccc(-c2cc(C(F)(F)F)n...</td>\n",
       "    </tr>\n",
       "  </tbody>\n",
       "</table>\n",
       "</div>"
      ],
      "text/plain": [
       "   molecule_chembl_id                                molecule_structures\n",
       "0         CHEMBL63786  {'canonical_smiles': 'Brc1cccc(Nc2ncnc3cc4cccc...\n",
       "1        CHEMBL388978  {'canonical_smiles': 'CN[C@@H]1C[C@H]2O[C@@](C...\n",
       "2       CHEMBL1236962  {'canonical_smiles': 'COc1ncc(-c2ccc3nccc(-c4c...\n",
       "3       CHEMBL2057662                                               None\n",
       "4       CHEMBL2059435  {'canonical_smiles': 'CC[C@@H]([C@H](C)O)N1C(=...\n",
       "5       CHEMBL3410169  {'canonical_smiles': 'CN1C(=O)[C@@H](NC(=O)[C@...\n",
       "6       CHEMBL3904768  {'canonical_smiles': 'Cn1nccc1-c1ccn2c(C(=O)Nc...\n",
       "7       CHEMBL4075278  {'canonical_smiles': 'O=C1CCc2cc(Nc3cc(OC4CCOC...\n",
       "8       CHEMBL4278420  {'canonical_smiles': 'C[C@@H](Nc1nc(N[C@H](C)C...\n",
       "9       CHEMBL4278436  {'canonical_smiles': 'O=C(Nc1ccnc(Cl)c1)Nc1cc(...\n",
       "10      CHEMBL4279047  {'canonical_smiles': 'C[C@@H](Nc1nc(N[C@H](C)C...\n",
       "11      CHEMBL4450420  {'canonical_smiles': 'Cc1ncc(CNNC(=O)c2cnc(CNS...\n",
       "12      CHEMBL4779552  {'canonical_smiles': 'COc1ccc(-c2cc(C(F)(F)F)n..."
      ]
     },
     "execution_count": 85,
     "metadata": {},
     "output_type": "execute_result"
    }
   ],
   "source": [
    "compounds_df"
   ]
  },
  {
   "cell_type": "code",
   "execution_count": 86,
   "id": "99c3eeee-1d68-4057-b99d-e4c9833b9162",
   "metadata": {},
   "outputs": [],
   "source": [
    "compounds_df['smiles'] = compounds_df['molecule_structures'].apply(lambda x: list(x.values())[0] if pd.notna(x) else np.nan)"
   ]
  },
  {
   "cell_type": "code",
   "execution_count": 87,
   "id": "8fb6ca2d-fd02-46d4-bcd4-00f84f4a441a",
   "metadata": {},
   "outputs": [
    {
     "data": {
      "text/html": [
       "<div>\n",
       "<style scoped>\n",
       "    .dataframe tbody tr th:only-of-type {\n",
       "        vertical-align: middle;\n",
       "    }\n",
       "\n",
       "    .dataframe tbody tr th {\n",
       "        vertical-align: top;\n",
       "    }\n",
       "\n",
       "    .dataframe thead th {\n",
       "        text-align: right;\n",
       "    }\n",
       "</style>\n",
       "<table border=\"1\" class=\"dataframe\">\n",
       "  <thead>\n",
       "    <tr style=\"text-align: right;\">\n",
       "      <th></th>\n",
       "      <th>molecule_chembl_id</th>\n",
       "      <th>molecule_structures</th>\n",
       "      <th>smiles</th>\n",
       "    </tr>\n",
       "  </thead>\n",
       "  <tbody>\n",
       "    <tr>\n",
       "      <th>0</th>\n",
       "      <td>CHEMBL63786</td>\n",
       "      <td>{'canonical_smiles': 'Brc1cccc(Nc2ncnc3cc4cccc...</td>\n",
       "      <td>Brc1cccc(Nc2ncnc3cc4ccccc4cc23)c1</td>\n",
       "    </tr>\n",
       "    <tr>\n",
       "      <th>1</th>\n",
       "      <td>CHEMBL388978</td>\n",
       "      <td>{'canonical_smiles': 'CN[C@@H]1C[C@H]2O[C@@](C...</td>\n",
       "      <td>CN[C@@H]1C[C@H]2O[C@@](C)([C@@H]1OC)n1c3ccccc3...</td>\n",
       "    </tr>\n",
       "    <tr>\n",
       "      <th>2</th>\n",
       "      <td>CHEMBL1236962</td>\n",
       "      <td>{'canonical_smiles': 'COc1ncc(-c2ccc3nccc(-c4c...</td>\n",
       "      <td>COc1ncc(-c2ccc3nccc(-c4ccnnc4)c3c2)cc1NS(=O)(=...</td>\n",
       "    </tr>\n",
       "    <tr>\n",
       "      <th>3</th>\n",
       "      <td>CHEMBL2057662</td>\n",
       "      <td>None</td>\n",
       "      <td>NaN</td>\n",
       "    </tr>\n",
       "    <tr>\n",
       "      <th>4</th>\n",
       "      <td>CHEMBL2059435</td>\n",
       "      <td>{'canonical_smiles': 'CC[C@@H]([C@H](C)O)N1C(=...</td>\n",
       "      <td>CC[C@@H]([C@H](C)O)N1C(=O)[C@@](C)(CC(=O)O)C[C...</td>\n",
       "    </tr>\n",
       "    <tr>\n",
       "      <th>5</th>\n",
       "      <td>CHEMBL3410169</td>\n",
       "      <td>{'canonical_smiles': 'CN1C(=O)[C@@H](NC(=O)[C@...</td>\n",
       "      <td>CN1C(=O)[C@@H](NC(=O)[C@H](CCC(F)(F)F)[C@@H](C...</td>\n",
       "    </tr>\n",
       "    <tr>\n",
       "      <th>6</th>\n",
       "      <td>CHEMBL3904768</td>\n",
       "      <td>{'canonical_smiles': 'Cn1nccc1-c1ccn2c(C(=O)Nc...</td>\n",
       "      <td>Cn1nccc1-c1ccn2c(C(=O)Nc3cc(C(=O)NCc4ccc(F)c(F...</td>\n",
       "    </tr>\n",
       "    <tr>\n",
       "      <th>7</th>\n",
       "      <td>CHEMBL4075278</td>\n",
       "      <td>{'canonical_smiles': 'O=C1CCc2cc(Nc3cc(OC4CCOC...</td>\n",
       "      <td>O=C1CCc2cc(Nc3cc(OC4CCOCC4)c([N+](=O)[O-])cc3C...</td>\n",
       "    </tr>\n",
       "    <tr>\n",
       "      <th>8</th>\n",
       "      <td>CHEMBL4278420</td>\n",
       "      <td>{'canonical_smiles': 'C[C@@H](Nc1nc(N[C@H](C)C...</td>\n",
       "      <td>C[C@@H](Nc1nc(N[C@H](C)C2CC2)nc(-c2cccc(Cl)n2)...</td>\n",
       "    </tr>\n",
       "    <tr>\n",
       "      <th>9</th>\n",
       "      <td>CHEMBL4278436</td>\n",
       "      <td>{'canonical_smiles': 'O=C(Nc1ccnc(Cl)c1)Nc1cc(...</td>\n",
       "      <td>O=C(Nc1ccnc(Cl)c1)Nc1cc(C(F)F)ns1</td>\n",
       "    </tr>\n",
       "    <tr>\n",
       "      <th>10</th>\n",
       "      <td>CHEMBL4279047</td>\n",
       "      <td>{'canonical_smiles': 'C[C@@H](Nc1nc(N[C@H](C)C...</td>\n",
       "      <td>C[C@@H](Nc1nc(N[C@H](C)C(F)(F)F)nc(-c2cccc(Cl)...</td>\n",
       "    </tr>\n",
       "    <tr>\n",
       "      <th>11</th>\n",
       "      <td>CHEMBL4450420</td>\n",
       "      <td>{'canonical_smiles': 'Cc1ncc(CNNC(=O)c2cnc(CNS...</td>\n",
       "      <td>Cc1ncc(CNNC(=O)c2cnc(CNS(=O)(=O)c3ccc(F)c(Cl)c...</td>\n",
       "    </tr>\n",
       "    <tr>\n",
       "      <th>12</th>\n",
       "      <td>CHEMBL4779552</td>\n",
       "      <td>{'canonical_smiles': 'COc1ccc(-c2cc(C(F)(F)F)n...</td>\n",
       "      <td>COc1ccc(-c2cc(C(F)(F)F)n3nc(-c4ccc(Br)s4)cc3n2...</td>\n",
       "    </tr>\n",
       "  </tbody>\n",
       "</table>\n",
       "</div>"
      ],
      "text/plain": [
       "   molecule_chembl_id                                molecule_structures  \\\n",
       "0         CHEMBL63786  {'canonical_smiles': 'Brc1cccc(Nc2ncnc3cc4cccc...   \n",
       "1        CHEMBL388978  {'canonical_smiles': 'CN[C@@H]1C[C@H]2O[C@@](C...   \n",
       "2       CHEMBL1236962  {'canonical_smiles': 'COc1ncc(-c2ccc3nccc(-c4c...   \n",
       "3       CHEMBL2057662                                               None   \n",
       "4       CHEMBL2059435  {'canonical_smiles': 'CC[C@@H]([C@H](C)O)N1C(=...   \n",
       "5       CHEMBL3410169  {'canonical_smiles': 'CN1C(=O)[C@@H](NC(=O)[C@...   \n",
       "6       CHEMBL3904768  {'canonical_smiles': 'Cn1nccc1-c1ccn2c(C(=O)Nc...   \n",
       "7       CHEMBL4075278  {'canonical_smiles': 'O=C1CCc2cc(Nc3cc(OC4CCOC...   \n",
       "8       CHEMBL4278420  {'canonical_smiles': 'C[C@@H](Nc1nc(N[C@H](C)C...   \n",
       "9       CHEMBL4278436  {'canonical_smiles': 'O=C(Nc1ccnc(Cl)c1)Nc1cc(...   \n",
       "10      CHEMBL4279047  {'canonical_smiles': 'C[C@@H](Nc1nc(N[C@H](C)C...   \n",
       "11      CHEMBL4450420  {'canonical_smiles': 'Cc1ncc(CNNC(=O)c2cnc(CNS...   \n",
       "12      CHEMBL4779552  {'canonical_smiles': 'COc1ccc(-c2cc(C(F)(F)F)n...   \n",
       "\n",
       "                                               smiles  \n",
       "0                   Brc1cccc(Nc2ncnc3cc4ccccc4cc23)c1  \n",
       "1   CN[C@@H]1C[C@H]2O[C@@](C)([C@@H]1OC)n1c3ccccc3...  \n",
       "2   COc1ncc(-c2ccc3nccc(-c4ccnnc4)c3c2)cc1NS(=O)(=...  \n",
       "3                                                 NaN  \n",
       "4   CC[C@@H]([C@H](C)O)N1C(=O)[C@@](C)(CC(=O)O)C[C...  \n",
       "5   CN1C(=O)[C@@H](NC(=O)[C@H](CCC(F)(F)F)[C@@H](C...  \n",
       "6   Cn1nccc1-c1ccn2c(C(=O)Nc3cc(C(=O)NCc4ccc(F)c(F...  \n",
       "7   O=C1CCc2cc(Nc3cc(OC4CCOCC4)c([N+](=O)[O-])cc3C...  \n",
       "8   C[C@@H](Nc1nc(N[C@H](C)C2CC2)nc(-c2cccc(Cl)n2)...  \n",
       "9                   O=C(Nc1ccnc(Cl)c1)Nc1cc(C(F)F)ns1  \n",
       "10  C[C@@H](Nc1nc(N[C@H](C)C(F)(F)F)nc(-c2cccc(Cl)...  \n",
       "11  Cc1ncc(CNNC(=O)c2cnc(CNS(=O)(=O)c3ccc(F)c(Cl)c...  \n",
       "12  COc1ccc(-c2cc(C(F)(F)F)n3nc(-c4ccc(Br)s4)cc3n2...  "
      ]
     },
     "execution_count": 87,
     "metadata": {},
     "output_type": "execute_result"
    }
   ],
   "source": [
    "compounds_df"
   ]
  },
  {
   "cell_type": "code",
   "execution_count": null,
   "id": "58ab3965-a56a-456a-88ec-b84d01c3086d",
   "metadata": {},
   "outputs": [],
   "source": []
  },
  {
   "cell_type": "code",
   "execution_count": null,
   "id": "1e0ec194-b3dc-4e7f-9eeb-dc737e9be8bb",
   "metadata": {},
   "outputs": [],
   "source": []
  },
  {
   "cell_type": "markdown",
   "id": "e068f39f-2f70-4258-8418-38a8841da8d6",
   "metadata": {},
   "source": [
    "##### Merger Tables"
   ]
  },
  {
   "cell_type": "code",
   "execution_count": 88,
   "id": "ac05e07d-a9b7-4aca-8364-09948cc9c568",
   "metadata": {},
   "outputs": [
    {
     "data": {
      "text/plain": [
       "Index(['Molecule', 'UniProt_ID', 'CHEMBL_ID', 'Molecule_Inhibitor'], dtype='object')"
      ]
     },
     "execution_count": 88,
     "metadata": {},
     "output_type": "execute_result"
    }
   ],
   "source": [
    "df_uniprot.columns"
   ]
  },
  {
   "cell_type": "code",
   "execution_count": 89,
   "id": "95ed2095-fc6e-4d7e-ac22-5fb14d0c5914",
   "metadata": {},
   "outputs": [],
   "source": [
    "df_uniprot = pd.merge(df_uniprot, compounds_df[['molecule_chembl_id', 'smiles']], left_on='Molecule_Inhibitor', right_on='molecule_chembl_id')"
   ]
  },
  {
   "cell_type": "code",
   "execution_count": 90,
   "id": "1d04cbe7-31da-4f3b-9895-501a9be3d173",
   "metadata": {},
   "outputs": [],
   "source": [
    "df_uniprot.drop(columns=['molecule_chembl_id'], inplace=True)"
   ]
  },
  {
   "cell_type": "code",
   "execution_count": 91,
   "id": "08b0a0f3-650c-4467-970d-7e02d6fe8bec",
   "metadata": {},
   "outputs": [
    {
     "data": {
      "text/html": [
       "<div>\n",
       "<style scoped>\n",
       "    .dataframe tbody tr th:only-of-type {\n",
       "        vertical-align: middle;\n",
       "    }\n",
       "\n",
       "    .dataframe tbody tr th {\n",
       "        vertical-align: top;\n",
       "    }\n",
       "\n",
       "    .dataframe thead th {\n",
       "        text-align: right;\n",
       "    }\n",
       "</style>\n",
       "<table border=\"1\" class=\"dataframe\">\n",
       "  <thead>\n",
       "    <tr style=\"text-align: right;\">\n",
       "      <th></th>\n",
       "      <th>Molecule</th>\n",
       "      <th>UniProt_ID</th>\n",
       "      <th>CHEMBL_ID</th>\n",
       "      <th>Molecule_Inhibitor</th>\n",
       "      <th>smiles</th>\n",
       "    </tr>\n",
       "  </thead>\n",
       "  <tbody>\n",
       "    <tr>\n",
       "      <th>0</th>\n",
       "      <td>idh1</td>\n",
       "      <td>O75874</td>\n",
       "      <td>CHEMBL2007625</td>\n",
       "      <td>CHEMBL4279047</td>\n",
       "      <td>C[C@@H](Nc1nc(N[C@H](C)C(F)(F)F)nc(-c2cccc(Cl)...</td>\n",
       "    </tr>\n",
       "    <tr>\n",
       "      <th>1</th>\n",
       "      <td>tp53</td>\n",
       "      <td>P04637</td>\n",
       "      <td>CHEMBL4096</td>\n",
       "      <td>CHEMBL2059435</td>\n",
       "      <td>CC[C@@H]([C@H](C)O)N1C(=O)[C@@](C)(CC(=O)O)C[C...</td>\n",
       "    </tr>\n",
       "    <tr>\n",
       "      <th>2</th>\n",
       "      <td>pten</td>\n",
       "      <td>P60484</td>\n",
       "      <td>CHEMBL2052032</td>\n",
       "      <td>CHEMBL2057662</td>\n",
       "      <td>NaN</td>\n",
       "    </tr>\n",
       "    <tr>\n",
       "      <th>3</th>\n",
       "      <td>egfr</td>\n",
       "      <td>P00533</td>\n",
       "      <td>CHEMBL203</td>\n",
       "      <td>CHEMBL63786</td>\n",
       "      <td>Brc1cccc(Nc2ncnc3cc4ccccc4cc23)c1</td>\n",
       "    </tr>\n",
       "    <tr>\n",
       "      <th>4</th>\n",
       "      <td>pik3ca</td>\n",
       "      <td>P42336</td>\n",
       "      <td>CHEMBL4005</td>\n",
       "      <td>CHEMBL1236962</td>\n",
       "      <td>COc1ncc(-c2ccc3nccc(-c4ccnnc4)c3c2)cc1NS(=O)(=...</td>\n",
       "    </tr>\n",
       "    <tr>\n",
       "      <th>5</th>\n",
       "      <td>fubp1</td>\n",
       "      <td>Q96AE4</td>\n",
       "      <td>CHEMBL4295922</td>\n",
       "      <td>CHEMBL4779552</td>\n",
       "      <td>COc1ccc(-c2cc(C(F)(F)F)n3nc(-c4ccc(Br)s4)cc3n2...</td>\n",
       "    </tr>\n",
       "    <tr>\n",
       "      <th>6</th>\n",
       "      <td>rb1</td>\n",
       "      <td>P06400</td>\n",
       "      <td>CHEMBL5288</td>\n",
       "      <td>CHEMBL388978</td>\n",
       "      <td>CN[C@@H]1C[C@H]2O[C@@](C)([C@@H]1OC)n1c3ccccc3...</td>\n",
       "    </tr>\n",
       "    <tr>\n",
       "      <th>7</th>\n",
       "      <td>notch1</td>\n",
       "      <td>P46531</td>\n",
       "      <td>CHEMBL2146346</td>\n",
       "      <td>CHEMBL3410169</td>\n",
       "      <td>CN1C(=O)[C@@H](NC(=O)[C@H](CCC(F)(F)F)[C@@H](C...</td>\n",
       "    </tr>\n",
       "    <tr>\n",
       "      <th>8</th>\n",
       "      <td>bcor</td>\n",
       "      <td>Q6W2J9</td>\n",
       "      <td>CHEMBL4106125</td>\n",
       "      <td>CHEMBL4075278</td>\n",
       "      <td>O=C1CCc2cc(Nc3cc(OC4CCOCC4)c([N+](=O)[O-])cc3C...</td>\n",
       "    </tr>\n",
       "    <tr>\n",
       "      <th>9</th>\n",
       "      <td>smarca4</td>\n",
       "      <td>P51532</td>\n",
       "      <td>CHEMBL3085620</td>\n",
       "      <td>CHEMBL4278436</td>\n",
       "      <td>O=C(Nc1ccnc(Cl)c1)Nc1cc(C(F)F)ns1</td>\n",
       "    </tr>\n",
       "    <tr>\n",
       "      <th>10</th>\n",
       "      <td>grin2a</td>\n",
       "      <td>Q12879</td>\n",
       "      <td>CHEMBL1972</td>\n",
       "      <td>CHEMBL4450420</td>\n",
       "      <td>Cc1ncc(CNNC(=O)c2cnc(CNS(=O)(=O)c3ccc(F)c(Cl)c...</td>\n",
       "    </tr>\n",
       "    <tr>\n",
       "      <th>11</th>\n",
       "      <td>idh2</td>\n",
       "      <td>P48735</td>\n",
       "      <td>CHEMBL3991501</td>\n",
       "      <td>CHEMBL4278420</td>\n",
       "      <td>C[C@@H](Nc1nc(N[C@H](C)C2CC2)nc(-c2cccc(Cl)n2)...</td>\n",
       "    </tr>\n",
       "    <tr>\n",
       "      <th>12</th>\n",
       "      <td>pdgfra</td>\n",
       "      <td>P16234</td>\n",
       "      <td>CHEMBL2007</td>\n",
       "      <td>CHEMBL3904768</td>\n",
       "      <td>Cn1nccc1-c1ccn2c(C(=O)Nc3cc(C(=O)NCc4ccc(F)c(F...</td>\n",
       "    </tr>\n",
       "  </tbody>\n",
       "</table>\n",
       "</div>"
      ],
      "text/plain": [
       "   Molecule UniProt_ID      CHEMBL_ID Molecule_Inhibitor  \\\n",
       "0      idh1     O75874  CHEMBL2007625      CHEMBL4279047   \n",
       "1      tp53     P04637     CHEMBL4096      CHEMBL2059435   \n",
       "2      pten     P60484  CHEMBL2052032      CHEMBL2057662   \n",
       "3      egfr     P00533      CHEMBL203        CHEMBL63786   \n",
       "4    pik3ca     P42336     CHEMBL4005      CHEMBL1236962   \n",
       "5     fubp1     Q96AE4  CHEMBL4295922      CHEMBL4779552   \n",
       "6       rb1     P06400     CHEMBL5288       CHEMBL388978   \n",
       "7    notch1     P46531  CHEMBL2146346      CHEMBL3410169   \n",
       "8      bcor     Q6W2J9  CHEMBL4106125      CHEMBL4075278   \n",
       "9   smarca4     P51532  CHEMBL3085620      CHEMBL4278436   \n",
       "10   grin2a     Q12879     CHEMBL1972      CHEMBL4450420   \n",
       "11     idh2     P48735  CHEMBL3991501      CHEMBL4278420   \n",
       "12   pdgfra     P16234     CHEMBL2007      CHEMBL3904768   \n",
       "\n",
       "                                               smiles  \n",
       "0   C[C@@H](Nc1nc(N[C@H](C)C(F)(F)F)nc(-c2cccc(Cl)...  \n",
       "1   CC[C@@H]([C@H](C)O)N1C(=O)[C@@](C)(CC(=O)O)C[C...  \n",
       "2                                                 NaN  \n",
       "3                   Brc1cccc(Nc2ncnc3cc4ccccc4cc23)c1  \n",
       "4   COc1ncc(-c2ccc3nccc(-c4ccnnc4)c3c2)cc1NS(=O)(=...  \n",
       "5   COc1ccc(-c2cc(C(F)(F)F)n3nc(-c4ccc(Br)s4)cc3n2...  \n",
       "6   CN[C@@H]1C[C@H]2O[C@@](C)([C@@H]1OC)n1c3ccccc3...  \n",
       "7   CN1C(=O)[C@@H](NC(=O)[C@H](CCC(F)(F)F)[C@@H](C...  \n",
       "8   O=C1CCc2cc(Nc3cc(OC4CCOCC4)c([N+](=O)[O-])cc3C...  \n",
       "9                   O=C(Nc1ccnc(Cl)c1)Nc1cc(C(F)F)ns1  \n",
       "10  Cc1ncc(CNNC(=O)c2cnc(CNS(=O)(=O)c3ccc(F)c(Cl)c...  \n",
       "11  C[C@@H](Nc1nc(N[C@H](C)C2CC2)nc(-c2cccc(Cl)n2)...  \n",
       "12  Cn1nccc1-c1ccn2c(C(=O)Nc3cc(C(=O)NCc4ccc(F)c(F...  "
      ]
     },
     "execution_count": 91,
     "metadata": {},
     "output_type": "execute_result"
    }
   ],
   "source": [
    "df_uniprot"
   ]
  },
  {
   "cell_type": "code",
   "execution_count": 92,
   "id": "d6f4cadf-00de-4ef2-84c0-0b3964f92a21",
   "metadata": {},
   "outputs": [
    {
     "data": {
      "image/jpeg": "[encoded data removed]",
      "image/png": "[encoded data removed]",
      "text/plain": [
       "<PIL.PngImagePlugin.PngImageFile image mode=RGB size=200x200>"
      ]
     },
     "metadata": {},
     "output_type": "display_data"
    },
    {
     "name": "stdout",
     "output_type": "stream",
     "text": [
      "Molecule Name: CHEMBL4279047\n"
     ]
    },
    {
     "data": {
      "image/jpeg": "[encoded data removed]",
      "image/png": "[encoded data removed]",
      "text/plain": [
       "<PIL.PngImagePlugin.PngImageFile image mode=RGB size=200x200>"
      ]
     },
     "metadata": {},
     "output_type": "display_data"
    },
    {
     "name": "stdout",
     "output_type": "stream",
     "text": [
      "Molecule Name: CHEMBL2059435\n"
     ]
    },
    {
     "data": {
      "image/jpeg": "[encoded data removed]",
      "image/png": "[encoded data removed]",
      "text/plain": [
       "<PIL.PngImagePlugin.PngImageFile image mode=RGB size=200x200>"
      ]
     },
     "metadata": {},
     "output_type": "display_data"
    },
    {
     "name": "stdout",
     "output_type": "stream",
     "text": [
      "Molecule Name: CHEMBL63786\n"
     ]
    },
    {
     "data": {
      "image/jpeg": "[encoded data removed]",
      "image/png": "[encoded data removed]",
      "text/plain": [
       "<PIL.PngImagePlugin.PngImageFile image mode=RGB size=200x200>"
      ]
     },
     "metadata": {},
     "output_type": "display_data"
    },
    {
     "name": "stdout",
     "output_type": "stream",
     "text": [
      "Molecule Name: CHEMBL1236962\n"
     ]
    },
    {
     "data": {
      "image/jpeg": "[encoded data removed]",
      "image/png": "[encoded data removed]",
      "text/plain": [
       "<PIL.PngImagePlugin.PngImageFile image mode=RGB size=200x200>"
      ]
     },
     "metadata": {},
     "output_type": "display_data"
    },
    {
     "name": "stdout",
     "output_type": "stream",
     "text": [
      "Molecule Name: CHEMBL4779552\n"
     ]
    },
    {
     "data": {
      "image/jpeg": "[encoded data removed]",
      "image/png": "[encoded data removed]",
      "text/plain": [
       "<PIL.PngImagePlugin.PngImageFile image mode=RGB size=200x200>"
      ]
     },
     "metadata": {},
     "output_type": "display_data"
    },
    {
     "name": "stdout",
     "output_type": "stream",
     "text": [
      "Molecule Name: CHEMBL388978\n"
     ]
    },
    {
     "data": {
      "image/jpeg": "[encoded data removed]",
      "image/png": "[encoded data removed]",
      "text/plain": [
       "<PIL.PngImagePlugin.PngImageFile image mode=RGB size=200x200>"
      ]
     },
     "metadata": {},
     "output_type": "display_data"
    },
    {
     "name": "stdout",
     "output_type": "stream",
     "text": [
      "Molecule Name: CHEMBL3410169\n"
     ]
    },
    {
     "data": {
      "image/jpeg": "[encoded data removed]",
      "image/png": "[encoded data removed]",
      "text/plain": [
       "<PIL.PngImagePlugin.PngImageFile image mode=RGB size=200x200>"
      ]
     },
     "metadata": {},
     "output_type": "display_data"
    },
    {
     "name": "stdout",
     "output_type": "stream",
     "text": [
      "Molecule Name: CHEMBL4075278\n"
     ]
    },
    {
     "data": {
      "image/jpeg": "[encoded data removed]",
      "image/png": "[encoded data removed]",
      "text/plain": [
       "<PIL.PngImagePlugin.PngImageFile image mode=RGB size=200x200>"
      ]
     },
     "metadata": {},
     "output_type": "display_data"
    },
    {
     "name": "stdout",
     "output_type": "stream",
     "text": [
      "Molecule Name: CHEMBL4278436\n"
     ]
    },
    {
     "data": {
      "image/jpeg": "[encoded data removed]",
      "image/png": "[encoded data removed]",
      "text/plain": [
       "<PIL.PngImagePlugin.PngImageFile image mode=RGB size=200x200>"
      ]
     },
     "metadata": {},
     "output_type": "display_data"
    },
    {
     "name": "stdout",
     "output_type": "stream",
     "text": [
      "Molecule Name: CHEMBL4450420\n"
     ]
    },
    {
     "data": {
      "image/jpeg": "[encoded data removed]",
      "image/png": "[encoded data removed]",
      "text/plain": [
       "<PIL.PngImagePlugin.PngImageFile image mode=RGB size=200x200>"
      ]
     },
     "metadata": {},
     "output_type": "display_data"
    },
    {
     "name": "stdout",
     "output_type": "stream",
     "text": [
      "Molecule Name: CHEMBL4278420\n"
     ]
    },
    {
     "data": {
      "image/jpeg": "[encoded data removed]",
      "image/png": "[encoded data removed]",
      "text/plain": [
       "<PIL.PngImagePlugin.PngImageFile image mode=RGB size=200x200>"
      ]
     },
     "metadata": {},
     "output_type": "display_data"
    },
    {
     "name": "stdout",
     "output_type": "stream",
     "text": [
      "Molecule Name: CHEMBL3904768\n"
     ]
    }
   ],
   "source": [
    "\n",
    "# Define a function to generate molecule objects from SMILES strings\n",
    "def generate_molecule(smiles):\n",
    "    return Chem.MolFromSmiles(smiles) if smiles is not np.nan else None\n",
    "\n",
    "# Apply the function to create molecule objects\n",
    "df_uniprot['Molecule'] = df_uniprot['smiles'].apply(generate_molecule)\n",
    "\n",
    "# Display molecule depictions with labels\n",
    "for i, row in df_uniprot.iterrows():\n",
    "    mol = row['Molecule']\n",
    "    name = row['Molecule_Inhibitor']\n",
    "    if mol is not None:\n",
    "        img = Draw.MolToImage(mol, size=(200, 200))\n",
    "        img.save(f\"../resources/molecule_depictions{name}.png\")\n",
    "        display(img)\n",
    "        print(\"Molecule Name:\", name)\n"
   ]
  },
  {
   "cell_type": "code",
   "execution_count": null,
   "id": "8bfc6692-d3e9-450c-9a3e-4266dffca1b5",
   "metadata": {},
   "outputs": [],
   "source": []
  }
 ],
 "metadata": {
  "kernelspec": {
   "display_name": "minipro_sql_venv",
   "language": "python",
   "name": "minipro_sql_venv"
  },
  "language_info": {
   "codemirror_mode": {
    "name": "ipython",
    "version": 3
   },
   "file_extension": ".py",
   "mimetype": "text/x-python",
   "name": "python",
   "nbconvert_exporter": "python",
   "pygments_lexer": "ipython3",
   "version": "3.11.5"
  }
 },
 "nbformat": 4,
 "nbformat_minor": 5
}
