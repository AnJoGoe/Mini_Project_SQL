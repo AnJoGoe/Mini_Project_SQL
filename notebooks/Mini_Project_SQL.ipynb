{
 "cells": [
  {
   "cell_type": "markdown",
   "id": "19611c9f-3c9e-4f64-a2d6-13d8be523dca",
   "metadata": {},
   "source": [
    "# Dataset"
   ]
  },
  {
   "cell_type": "markdown",
   "id": "0b7087d9-b8b8-4188-be94-5d6985b7717d",
   "metadata": {},
   "source": [
    "\n",
    "<a href=\"https://archive.ics.uci.edu/dataset/759/glioma+grading+clinical+and+mutation+features+dataset\">Glioma Grading Clinical and Mutation Features</a>\n",
    "\n",
    "\n",
    "<a href=\"https://github.com/uci-ml-repo/ucimlrepo/tree/main\">github: ucimlrepo package</a>\n",
    "\n",
    "\n",
    "\n",
    "Citation: Tasci, E., Zhuge, Y., Kaur, H., Camphausen, K., & Krauze, A. V. (2022). Hierarchical Voting-Based Feature Selection and Ensemble Learning Model Scheme for Glioma Grading with Clinical and Molecular Characteristics. International Journal of Molecular Sciences, 23(22), 14155.\n"
   ]
  },
  {
   "cell_type": "code",
   "execution_count": null,
   "id": "d9d9c945-106e-4576-86d0-4a7582b6625b",
   "metadata": {},
   "outputs": [],
   "source": []
  },
  {
   "cell_type": "code",
   "execution_count": null,
   "id": "d4735636-cd16-44af-97b1-f521ebb8b8ac",
   "metadata": {},
   "outputs": [],
   "source": []
  },
  {
   "cell_type": "markdown",
   "id": "965e1c67-ffc5-419e-a197-3304ad06cdd1",
   "metadata": {},
   "source": [
    "# 1. Import"
   ]
  },
  {
   "cell_type": "code",
   "execution_count": 115,
   "id": "62bfde82-9ce3-43b8-8c98-0eb4d2a1d418",
   "metadata": {},
   "outputs": [],
   "source": [
    "import pandas as pd\n",
    "import numpy as np\n",
    "import seaborn as sn\n",
    "\n",
    "import sqlalchemy # generate tabular data-set; pip install sqlalchemy\n",
    "from sqlalchemy import create_engine\n",
    "from sqlalchemy import text\n",
    "\n",
    "from ucimlrepo import fetch_ucirepo, list_available_datasets"
   ]
  },
  {
   "cell_type": "code",
   "execution_count": null,
   "id": "3296a12a-1c7e-4516-b5be-c99cabaa9d78",
   "metadata": {},
   "outputs": [],
   "source": []
  },
  {
   "cell_type": "markdown",
   "id": "80a89b66-0e5b-4507-86ff-31a9133a102a",
   "metadata": {},
   "source": [
    "# 2. Overview Dataset "
   ]
  },
  {
   "cell_type": "code",
   "execution_count": 18,
   "id": "dee5cf81-e680-487c-b14d-8c9e2dd620b3",
   "metadata": {},
   "outputs": [],
   "source": [
    "# fetch dataset\n",
    "glioma_feat = fetch_ucirepo(id=759) "
   ]
  },
  {
   "cell_type": "code",
   "execution_count": 9,
   "id": "64f1b961-52f7-425d-8e64-7be141a32508",
   "metadata": {},
   "outputs": [
    {
     "data": {
      "text/plain": [
       "ucimlrepo.dotdict.dotdict"
      ]
     },
     "execution_count": 9,
     "metadata": {},
     "output_type": "execute_result"
    }
   ],
   "source": [
    "type(glioma_feat)"
   ]
  },
  {
   "cell_type": "code",
   "execution_count": 76,
   "id": "83d2e966-b398-4643-9bf2-aa6b033addcc",
   "metadata": {},
   "outputs": [
    {
     "data": {
      "text/plain": [
       "dict_keys(['data', 'metadata', 'variables'])"
      ]
     },
     "execution_count": 76,
     "metadata": {},
     "output_type": "execute_result"
    }
   ],
   "source": [
    "glioma_feat.keys()"
   ]
  },
  {
   "cell_type": "code",
   "execution_count": null,
   "id": "0f38c5e4-85ff-4396-b019-84ddc5e3a165",
   "metadata": {},
   "outputs": [],
   "source": []
  },
  {
   "cell_type": "code",
   "execution_count": 77,
   "id": "626445a0-5239-46c5-911d-4057022269e1",
   "metadata": {},
   "outputs": [
    {
     "data": {
      "text/plain": [
       "dict_keys(['uci_id', 'name', 'repository_url', 'data_url', 'abstract', 'area', 'tasks', 'characteristics', 'num_instances', 'num_features', 'feature_types', 'demographics', 'target_col', 'index_col', 'has_missing_values', 'missing_values_symbol', 'year_of_dataset_creation', 'last_updated', 'dataset_doi', 'creators', 'intro_paper', 'additional_info'])"
      ]
     },
     "execution_count": 77,
     "metadata": {},
     "output_type": "execute_result"
    }
   ],
   "source": [
    "# Glioma Metadata\n",
    "glioma_feat['metadata'].keys()"
   ]
  },
  {
   "cell_type": "code",
   "execution_count": 50,
   "id": "abae01ed-6ee1-4cb5-bbb7-8b3b4dc157f4",
   "metadata": {
    "scrolled": true
   },
   "outputs": [
    {
     "data": {
      "text/plain": [
       "'Gliomas are the most common primary tumors of the brain. They can be graded as LGG (Lower-Grade Glioma) or GBM (Glioblastoma Multiforme) depending on the histological/imaging criteria. Clinical and molecular/mutation factors are also very crucial for the grading process. Molecular tests are expensive to help accurately diagnose glioma patients.    In this dataset, the most frequently mutated 20 genes and 3 clinical features are considered from TCGA-LGG and TCGA-GBM brain glioma projects.  The prediction task is to determine whether a patient is LGG or GBM with a given clinical and molecular/mutation features. The main objective is to find the optimal subset of mutation genes and clinical features for the glioma grading process to improve performance and reduce costs.  '"
      ]
     },
     "execution_count": 50,
     "metadata": {},
     "output_type": "execute_result"
    }
   ],
   "source": [
    "# Abstract\n",
    "glioma_feat.metadata['abstract']"
   ]
  },
  {
   "cell_type": "code",
   "execution_count": 25,
   "id": "76df6602-1f38-4aab-9d52-22fae54bd7c7",
   "metadata": {},
   "outputs": [
    {
     "name": "stdout",
     "output_type": "stream",
     "text": [
      "759\n",
      "839\n",
      "None\n"
     ]
    }
   ],
   "source": [
    "# access metadata\n",
    "print(glioma_feat.metadata.uci_id)\n",
    "print(glioma_feat.metadata.num_instances)\n",
    "print(glioma_feat.metadata.additional_info.summary)"
   ]
  },
  {
   "cell_type": "code",
   "execution_count": 57,
   "id": "395bc59a-eb9a-44d4-a3ff-35736754c9a7",
   "metadata": {
    "scrolled": true
   },
   "outputs": [
    {
     "data": {
      "text/plain": [
       "0                Grade\n",
       "1               Gender\n",
       "2     Age_at_diagnosis\n",
       "3                 Race\n",
       "4                 IDH1\n",
       "5                 TP53\n",
       "6                 ATRX\n",
       "7                 PTEN\n",
       "8                 EGFR\n",
       "9                  CIC\n",
       "10               MUC16\n",
       "11              PIK3CA\n",
       "12                 NF1\n",
       "13              PIK3R1\n",
       "14               FUBP1\n",
       "15                 RB1\n",
       "16              NOTCH1\n",
       "17                BCOR\n",
       "18               CSMD3\n",
       "19             SMARCA4\n",
       "20              GRIN2A\n",
       "21                IDH2\n",
       "22                FAT4\n",
       "23              PDGFRA\n",
       "Name: name, dtype: object"
      ]
     },
     "metadata": {},
     "output_type": "display_data"
    }
   ],
   "source": [
    "display(glioma_feat.variables['name'])"
   ]
  },
  {
   "cell_type": "code",
   "execution_count": 59,
   "id": "c5d02d89-a5e3-4574-b982-69a268acbd04",
   "metadata": {
    "scrolled": true
   },
   "outputs": [
    {
     "data": {
      "text/plain": [
       "0     Glioma grade class information (0 = \"LGG\"; 1 =...\n",
       "1                     Gender (0 = \"male\"; 1 = \"female\")\n",
       "2     Age at diagnosis with the calculated number of...\n",
       "3     Race  (0 = \"white\";  1 = \"black or african Ame...\n",
       "4     isocitrate dehydrogenase (NADP(+))1 (0 = NOT_M...\n",
       "5      tumor protein p53 (0 = NOT_MUTATED; 1 = MUTATED)\n",
       "6     ATRX chromatin remodeler (0 = NOT_MUTATED; 1 =...\n",
       "7     phosphatase and tensin homolog (0 = NOT_MUTATE...\n",
       "8     epidermal growth factor receptor (0 = NOT_MUTA...\n",
       "9     capicua transcriptional repressor (0 = NOT_MUT...\n",
       "10    mucin 16, cell surface associated (0 = NOT_MUT...\n",
       "11    phosphatidylinositol-4,5-bisphosphate 3-kinase...\n",
       "12       neurofibromin 1 (0 = NOT_MUTATED; 1 = MUTATED)\n",
       "13    phosphoinositide-3-kinase regulatory subunit 1...\n",
       "14    far upstream element binding protein 1 (0 = NO...\n",
       "15    RB transcriptional corepressor 1 (0 = NOT_MUTA...\n",
       "16      notch receptor 1 (0 = NOT_MUTATED; 1 = MUTATED)\n",
       "17      BCL6 corepressor (0 = NOT_MUTATED; 1 = MUTATED)\n",
       "18    CUB and Sushi multiple domains 3 (0 = NOT_MUTA...\n",
       "19    SWI/SNF related, matrix associated, actin depe...\n",
       "20    glutamate ionotropic receptor NMDA type subuni...\n",
       "21    isocitrate dehydrogenase (NADP(+)) 2 (0 = NOT_...\n",
       "22    FAT atypical cadherin 4 (0 = NOT_MUTATED; 1 = ...\n",
       "23    platelet-derived growth factor receptor alpha ...\n",
       "Name: description, dtype: object"
      ]
     },
     "metadata": {},
     "output_type": "display_data"
    }
   ],
   "source": [
    "display(glioma_feat.variables['description'])"
   ]
  },
  {
   "cell_type": "code",
   "execution_count": 67,
   "id": "03dc4f1d-c3b5-4e24-a826-953edafdcd14",
   "metadata": {},
   "outputs": [
    {
     "data": {
      "text/plain": [
       "Index(['Case_ID', 'Gender', 'Age_at_diagnosis', 'Race', 'IDH1', 'TP53', 'ATRX',\n",
       "       'PTEN', 'EGFR', 'CIC', 'MUC16', 'PIK3CA', 'NF1', 'PIK3R1', 'FUBP1',\n",
       "       'RB1', 'NOTCH1', 'BCOR', 'CSMD3', 'SMARCA4', 'GRIN2A', 'IDH2', 'FAT4',\n",
       "       'PDGFRA', 'Grade'],\n",
       "      dtype='object')"
      ]
     },
     "execution_count": 67,
     "metadata": {},
     "output_type": "execute_result"
    }
   ],
   "source": [
    "glioma_feat.data.headers"
   ]
  },
  {
   "cell_type": "code",
   "execution_count": 79,
   "id": "346aeaa0-74ab-4798-a3ce-1575c5aeb5fe",
   "metadata": {
    "scrolled": true
   },
   "outputs": [
    {
     "data": {
      "text/plain": [
       "'https://archive.ics.uci.edu/static/public/759/data.csv'"
      ]
     },
     "execution_count": 79,
     "metadata": {},
     "output_type": "execute_result"
    }
   ],
   "source": [
    "glioma_feat.metadata['data_url']"
   ]
  },
  {
   "cell_type": "code",
   "execution_count": null,
   "id": "05f325d5-579b-4070-9f17-00403d4df63f",
   "metadata": {},
   "outputs": [],
   "source": []
  },
  {
   "cell_type": "code",
   "execution_count": null,
   "id": "5686898f-819a-4a9a-bb9c-9e1fda5e84e5",
   "metadata": {},
   "outputs": [],
   "source": []
  },
  {
   "cell_type": "code",
   "execution_count": null,
   "id": "46bd65c0-f11a-417e-ae2e-7f1e9e1af87b",
   "metadata": {},
   "outputs": [],
   "source": []
  },
  {
   "cell_type": "code",
   "execution_count": null,
   "id": "48964af4-e36a-4440-8c8a-d6d5fca3ece8",
   "metadata": {},
   "outputs": [],
   "source": []
  },
  {
   "cell_type": "markdown",
   "id": "a3f9bda1-c603-4e66-97f9-05bcfac44e7d",
   "metadata": {},
   "source": [
    "# 3. Load Data"
   ]
  },
  {
   "cell_type": "code",
   "execution_count": 83,
   "id": "04d972f0-2455-46a0-b99b-dbe806f58596",
   "metadata": {},
   "outputs": [
    {
     "name": "stdout",
     "output_type": "stream",
     "text": [
      " Datentr„ger in Laufwerk C: ist Windows\n",
      " Volumeseriennummer: 20BD-6958\n",
      "\n",
      " Verzeichnis von C:\\Users\\andre\\Documents\\IRONHACK\\UNIT_4\\Mini_Project_SQL\\Mini_Project_SQL\\notebooks\n",
      "\n",
      "11.03.2024  21:14    <DIR>          .\n",
      "11.03.2024  17:55    <DIR>          ..\n",
      "11.03.2024  17:47    <DIR>          .ipynb_checkpoints\n",
      "11.03.2024  21:14            38.516 Mini_Project_SQL.ipynb\n",
      "               1 Datei(en),         38.516 Bytes\n",
      "               3 Verzeichnis(se), 707.907.223.552 Bytes frei\n"
     ]
    }
   ],
   "source": [
    "!dir"
   ]
  },
  {
   "cell_type": "code",
   "execution_count": 91,
   "id": "4c8f6e1b-6d43-414b-9228-df940eef1523",
   "metadata": {},
   "outputs": [],
   "source": [
    "# data (as pandas dataframes) \n",
    "df_target = glioma_feat.data.original\n",
    "\n",
    "df_info = pd.read_csv(\"../data/raw/glioma+grading+clinical+and+mutation+features+dataset/TCGA_GBM_LGG_Mutations_all.csv\", usecols=['Case_ID', 'Primary_Diagnosis'])"
   ]
  },
  {
   "cell_type": "code",
   "execution_count": 92,
   "id": "b82b084f-c4ae-471f-bb6b-728aca18a19a",
   "metadata": {},
   "outputs": [
    {
     "data": {
      "text/html": [
       "<div>\n",
       "<style scoped>\n",
       "    .dataframe tbody tr th:only-of-type {\n",
       "        vertical-align: middle;\n",
       "    }\n",
       "\n",
       "    .dataframe tbody tr th {\n",
       "        vertical-align: top;\n",
       "    }\n",
       "\n",
       "    .dataframe thead th {\n",
       "        text-align: right;\n",
       "    }\n",
       "</style>\n",
       "<table border=\"1\" class=\"dataframe\">\n",
       "  <thead>\n",
       "    <tr style=\"text-align: right;\">\n",
       "      <th></th>\n",
       "      <th>Case_ID</th>\n",
       "      <th>Gender</th>\n",
       "      <th>Age_at_diagnosis</th>\n",
       "      <th>Race</th>\n",
       "      <th>IDH1</th>\n",
       "      <th>TP53</th>\n",
       "      <th>ATRX</th>\n",
       "      <th>PTEN</th>\n",
       "      <th>EGFR</th>\n",
       "      <th>CIC</th>\n",
       "      <th>...</th>\n",
       "      <th>RB1</th>\n",
       "      <th>NOTCH1</th>\n",
       "      <th>BCOR</th>\n",
       "      <th>CSMD3</th>\n",
       "      <th>SMARCA4</th>\n",
       "      <th>GRIN2A</th>\n",
       "      <th>IDH2</th>\n",
       "      <th>FAT4</th>\n",
       "      <th>PDGFRA</th>\n",
       "      <th>Grade</th>\n",
       "    </tr>\n",
       "  </thead>\n",
       "  <tbody>\n",
       "    <tr>\n",
       "      <th>0</th>\n",
       "      <td>TCGA-DU-8164</td>\n",
       "      <td>0</td>\n",
       "      <td>51.30</td>\n",
       "      <td>white</td>\n",
       "      <td>1</td>\n",
       "      <td>0</td>\n",
       "      <td>0</td>\n",
       "      <td>0</td>\n",
       "      <td>0</td>\n",
       "      <td>0</td>\n",
       "      <td>...</td>\n",
       "      <td>0</td>\n",
       "      <td>0</td>\n",
       "      <td>0</td>\n",
       "      <td>0</td>\n",
       "      <td>0</td>\n",
       "      <td>0</td>\n",
       "      <td>0</td>\n",
       "      <td>0</td>\n",
       "      <td>0</td>\n",
       "      <td>0</td>\n",
       "    </tr>\n",
       "    <tr>\n",
       "      <th>1</th>\n",
       "      <td>TCGA-QH-A6CY</td>\n",
       "      <td>0</td>\n",
       "      <td>38.72</td>\n",
       "      <td>white</td>\n",
       "      <td>1</td>\n",
       "      <td>0</td>\n",
       "      <td>0</td>\n",
       "      <td>0</td>\n",
       "      <td>0</td>\n",
       "      <td>1</td>\n",
       "      <td>...</td>\n",
       "      <td>0</td>\n",
       "      <td>0</td>\n",
       "      <td>0</td>\n",
       "      <td>0</td>\n",
       "      <td>0</td>\n",
       "      <td>0</td>\n",
       "      <td>0</td>\n",
       "      <td>0</td>\n",
       "      <td>0</td>\n",
       "      <td>0</td>\n",
       "    </tr>\n",
       "    <tr>\n",
       "      <th>2</th>\n",
       "      <td>TCGA-HW-A5KM</td>\n",
       "      <td>0</td>\n",
       "      <td>35.17</td>\n",
       "      <td>white</td>\n",
       "      <td>1</td>\n",
       "      <td>1</td>\n",
       "      <td>1</td>\n",
       "      <td>0</td>\n",
       "      <td>0</td>\n",
       "      <td>0</td>\n",
       "      <td>...</td>\n",
       "      <td>0</td>\n",
       "      <td>0</td>\n",
       "      <td>0</td>\n",
       "      <td>0</td>\n",
       "      <td>0</td>\n",
       "      <td>0</td>\n",
       "      <td>0</td>\n",
       "      <td>0</td>\n",
       "      <td>0</td>\n",
       "      <td>0</td>\n",
       "    </tr>\n",
       "    <tr>\n",
       "      <th>3</th>\n",
       "      <td>TCGA-E1-A7YE</td>\n",
       "      <td>1</td>\n",
       "      <td>32.78</td>\n",
       "      <td>white</td>\n",
       "      <td>1</td>\n",
       "      <td>1</td>\n",
       "      <td>1</td>\n",
       "      <td>0</td>\n",
       "      <td>0</td>\n",
       "      <td>0</td>\n",
       "      <td>...</td>\n",
       "      <td>0</td>\n",
       "      <td>0</td>\n",
       "      <td>0</td>\n",
       "      <td>0</td>\n",
       "      <td>0</td>\n",
       "      <td>0</td>\n",
       "      <td>0</td>\n",
       "      <td>1</td>\n",
       "      <td>0</td>\n",
       "      <td>0</td>\n",
       "    </tr>\n",
       "    <tr>\n",
       "      <th>4</th>\n",
       "      <td>TCGA-S9-A6WG</td>\n",
       "      <td>0</td>\n",
       "      <td>31.51</td>\n",
       "      <td>white</td>\n",
       "      <td>1</td>\n",
       "      <td>1</td>\n",
       "      <td>1</td>\n",
       "      <td>0</td>\n",
       "      <td>0</td>\n",
       "      <td>0</td>\n",
       "      <td>...</td>\n",
       "      <td>0</td>\n",
       "      <td>0</td>\n",
       "      <td>0</td>\n",
       "      <td>0</td>\n",
       "      <td>0</td>\n",
       "      <td>0</td>\n",
       "      <td>0</td>\n",
       "      <td>0</td>\n",
       "      <td>0</td>\n",
       "      <td>0</td>\n",
       "    </tr>\n",
       "  </tbody>\n",
       "</table>\n",
       "<p>5 rows × 25 columns</p>\n",
       "</div>"
      ],
      "text/plain": [
       "        Case_ID  Gender  Age_at_diagnosis   Race  IDH1  TP53  ATRX  PTEN  \\\n",
       "0  TCGA-DU-8164       0             51.30  white     1     0     0     0   \n",
       "1  TCGA-QH-A6CY       0             38.72  white     1     0     0     0   \n",
       "2  TCGA-HW-A5KM       0             35.17  white     1     1     1     0   \n",
       "3  TCGA-E1-A7YE       1             32.78  white     1     1     1     0   \n",
       "4  TCGA-S9-A6WG       0             31.51  white     1     1     1     0   \n",
       "\n",
       "   EGFR  CIC  ...  RB1  NOTCH1  BCOR  CSMD3  SMARCA4  GRIN2A  IDH2  FAT4  \\\n",
       "0     0    0  ...    0       0     0      0        0       0     0     0   \n",
       "1     0    1  ...    0       0     0      0        0       0     0     0   \n",
       "2     0    0  ...    0       0     0      0        0       0     0     0   \n",
       "3     0    0  ...    0       0     0      0        0       0     0     1   \n",
       "4     0    0  ...    0       0     0      0        0       0     0     0   \n",
       "\n",
       "   PDGFRA  Grade  \n",
       "0       0      0  \n",
       "1       0      0  \n",
       "2       0      0  \n",
       "3       0      0  \n",
       "4       0      0  \n",
       "\n",
       "[5 rows x 25 columns]"
      ]
     },
     "execution_count": 92,
     "metadata": {},
     "output_type": "execute_result"
    }
   ],
   "source": [
    "df_target.head()"
   ]
  },
  {
   "cell_type": "code",
   "execution_count": 93,
   "id": "b5235750-0dfb-46c2-826e-bebe412b3020",
   "metadata": {},
   "outputs": [
    {
     "data": {
      "text/html": [
       "<div>\n",
       "<style scoped>\n",
       "    .dataframe tbody tr th:only-of-type {\n",
       "        vertical-align: middle;\n",
       "    }\n",
       "\n",
       "    .dataframe tbody tr th {\n",
       "        vertical-align: top;\n",
       "    }\n",
       "\n",
       "    .dataframe thead th {\n",
       "        text-align: right;\n",
       "    }\n",
       "</style>\n",
       "<table border=\"1\" class=\"dataframe\">\n",
       "  <thead>\n",
       "    <tr style=\"text-align: right;\">\n",
       "      <th></th>\n",
       "      <th>Case_ID</th>\n",
       "      <th>Primary_Diagnosis</th>\n",
       "    </tr>\n",
       "  </thead>\n",
       "  <tbody>\n",
       "    <tr>\n",
       "      <th>0</th>\n",
       "      <td>TCGA-DU-8164</td>\n",
       "      <td>Oligodendroglioma, NOS</td>\n",
       "    </tr>\n",
       "    <tr>\n",
       "      <th>1</th>\n",
       "      <td>TCGA-QH-A6CY</td>\n",
       "      <td>Mixed glioma</td>\n",
       "    </tr>\n",
       "    <tr>\n",
       "      <th>2</th>\n",
       "      <td>TCGA-HW-A5KM</td>\n",
       "      <td>Astrocytoma, NOS</td>\n",
       "    </tr>\n",
       "    <tr>\n",
       "      <th>3</th>\n",
       "      <td>TCGA-E1-A7YE</td>\n",
       "      <td>Astrocytoma, anaplastic</td>\n",
       "    </tr>\n",
       "    <tr>\n",
       "      <th>4</th>\n",
       "      <td>TCGA-S9-A6WG</td>\n",
       "      <td>Astrocytoma, anaplastic</td>\n",
       "    </tr>\n",
       "  </tbody>\n",
       "</table>\n",
       "</div>"
      ],
      "text/plain": [
       "        Case_ID        Primary_Diagnosis\n",
       "0  TCGA-DU-8164   Oligodendroglioma, NOS\n",
       "1  TCGA-QH-A6CY             Mixed glioma\n",
       "2  TCGA-HW-A5KM         Astrocytoma, NOS\n",
       "3  TCGA-E1-A7YE  Astrocytoma, anaplastic\n",
       "4  TCGA-S9-A6WG  Astrocytoma, anaplastic"
      ]
     },
     "execution_count": 93,
     "metadata": {},
     "output_type": "execute_result"
    }
   ],
   "source": [
    "df_info.head()"
   ]
  },
  {
   "cell_type": "code",
   "execution_count": 99,
   "id": "383722a5-9a4d-462e-934c-aee6b9ceb028",
   "metadata": {},
   "outputs": [
    {
     "name": "stdout",
     "output_type": "stream",
     "text": [
      "df_target no of rows: 839 and no of columns: 25\n",
      "df_info no of rows: 862 and no of columns: 2\n"
     ]
    }
   ],
   "source": [
    "# Dataframe structure\n",
    "print(\"df_target no of rows:\", df_target.shape[0], \"and no of columns:\", df_target.shape[1])\n",
    "print(\"df_info no of rows:\", df_info.shape[0], \"and no of columns:\", df_info.shape[1])"
   ]
  },
  {
   "cell_type": "code",
   "execution_count": null,
   "id": "41017c6b-f26e-48aa-b8b3-c09c2f0ca20c",
   "metadata": {},
   "outputs": [],
   "source": []
  },
  {
   "cell_type": "code",
   "execution_count": 30,
   "id": "f35efc2e-bba9-4b1f-b37d-8b5d9747968f",
   "metadata": {},
   "outputs": [
    {
     "data": {
      "text/plain": [
       "Index(['Case_ID', 'Gender', 'Age_at_diagnosis', 'Race', 'IDH1', 'TP53', 'ATRX',\n",
       "       'PTEN', 'EGFR', 'CIC', 'MUC16', 'PIK3CA', 'NF1', 'PIK3R1', 'FUBP1',\n",
       "       'RB1', 'NOTCH1', 'BCOR', 'CSMD3', 'SMARCA4', 'GRIN2A', 'IDH2', 'FAT4',\n",
       "       'PDGFRA', 'Grade'],\n",
       "      dtype='object')"
      ]
     },
     "execution_count": 30,
     "metadata": {},
     "output_type": "execute_result"
    }
   ],
   "source": [
    "# Column Names\n",
    "df_target.columns"
   ]
  },
  {
   "cell_type": "code",
   "execution_count": null,
   "id": "3cf0fdab-f927-42a7-a44a-bd7df6e9375b",
   "metadata": {},
   "outputs": [],
   "source": []
  },
  {
   "cell_type": "code",
   "execution_count": 32,
   "id": "8e92dd7f-bfbf-4d78-9e44-9f53cca40461",
   "metadata": {},
   "outputs": [
    {
     "name": "stdout",
     "output_type": "stream",
     "text": [
      "<class 'pandas.core.frame.DataFrame'>\n",
      "RangeIndex: 839 entries, 0 to 838\n",
      "Data columns (total 25 columns):\n",
      " #   Column            Non-Null Count  Dtype  \n",
      "---  ------            --------------  -----  \n",
      " 0   Case_ID           839 non-null    object \n",
      " 1   Gender            839 non-null    int64  \n",
      " 2   Age_at_diagnosis  839 non-null    float64\n",
      " 3   Race              839 non-null    object \n",
      " 4   IDH1              839 non-null    int64  \n",
      " 5   TP53              839 non-null    int64  \n",
      " 6   ATRX              839 non-null    int64  \n",
      " 7   PTEN              839 non-null    int64  \n",
      " 8   EGFR              839 non-null    int64  \n",
      " 9   CIC               839 non-null    int64  \n",
      " 10  MUC16             839 non-null    int64  \n",
      " 11  PIK3CA            839 non-null    int64  \n",
      " 12  NF1               839 non-null    int64  \n",
      " 13  PIK3R1            839 non-null    int64  \n",
      " 14  FUBP1             839 non-null    int64  \n",
      " 15  RB1               839 non-null    int64  \n",
      " 16  NOTCH1            839 non-null    int64  \n",
      " 17  BCOR              839 non-null    int64  \n",
      " 18  CSMD3             839 non-null    int64  \n",
      " 19  SMARCA4           839 non-null    int64  \n",
      " 20  GRIN2A            839 non-null    int64  \n",
      " 21  IDH2              839 non-null    int64  \n",
      " 22  FAT4              839 non-null    int64  \n",
      " 23  PDGFRA            839 non-null    int64  \n",
      " 24  Grade             839 non-null    int64  \n",
      "dtypes: float64(1), int64(22), object(2)\n",
      "memory usage: 164.0+ KB\n"
     ]
    }
   ],
   "source": [
    "# Info stats\n",
    "df_target.info()"
   ]
  },
  {
   "cell_type": "code",
   "execution_count": 100,
   "id": "d22dbd08-1d43-404e-b09c-6ebfd47c4ce5",
   "metadata": {},
   "outputs": [
    {
     "name": "stdout",
     "output_type": "stream",
     "text": [
      "<class 'pandas.core.frame.DataFrame'>\n",
      "RangeIndex: 862 entries, 0 to 861\n",
      "Data columns (total 2 columns):\n",
      " #   Column             Non-Null Count  Dtype \n",
      "---  ------             --------------  ----- \n",
      " 0   Case_ID            862 non-null    object\n",
      " 1   Primary_Diagnosis  862 non-null    object\n",
      "dtypes: object(2)\n",
      "memory usage: 13.6+ KB\n"
     ]
    }
   ],
   "source": [
    "df_info.info()"
   ]
  },
  {
   "cell_type": "code",
   "execution_count": null,
   "id": "4c1da712-9e91-4e87-b9f1-2183dec76925",
   "metadata": {},
   "outputs": [],
   "source": []
  },
  {
   "cell_type": "code",
   "execution_count": 101,
   "id": "2b6d53ba-0764-4ece-b881-f2bb4806d955",
   "metadata": {},
   "outputs": [
    {
     "data": {
      "text/plain": [
       "Case_ID             839\n",
       "Gender                2\n",
       "Age_at_diagnosis    766\n",
       "Race                  4\n",
       "IDH1                  2\n",
       "TP53                  2\n",
       "ATRX                  2\n",
       "PTEN                  2\n",
       "EGFR                  2\n",
       "CIC                   2\n",
       "MUC16                 2\n",
       "PIK3CA                2\n",
       "NF1                   2\n",
       "PIK3R1                2\n",
       "FUBP1                 2\n",
       "RB1                   2\n",
       "NOTCH1                2\n",
       "BCOR                  2\n",
       "CSMD3                 2\n",
       "SMARCA4               2\n",
       "GRIN2A                2\n",
       "IDH2                  2\n",
       "FAT4                  2\n",
       "PDGFRA                2\n",
       "Grade                 2\n",
       "dtype: int64"
      ]
     },
     "execution_count": 101,
     "metadata": {},
     "output_type": "execute_result"
    }
   ],
   "source": [
    "# Unique Values of df_target\n",
    "df_target.nunique()"
   ]
  },
  {
   "cell_type": "code",
   "execution_count": 39,
   "id": "765ecc50-9847-4b05-934a-8dfe97afc368",
   "metadata": {},
   "outputs": [
    {
     "data": {
      "text/plain": [
       "array([0, 1], dtype=int64)"
      ]
     },
     "execution_count": 39,
     "metadata": {},
     "output_type": "execute_result"
    }
   ],
   "source": [
    "df_target['Grade'].unique()"
   ]
  },
  {
   "cell_type": "code",
   "execution_count": 40,
   "id": "4c9bcc73-0130-4b51-970d-ad2a0e803efe",
   "metadata": {},
   "outputs": [
    {
     "data": {
      "text/plain": [
       "array([0, 1], dtype=int64)"
      ]
     },
     "execution_count": 40,
     "metadata": {},
     "output_type": "execute_result"
    }
   ],
   "source": [
    "df_target['EGFR'].unique()"
   ]
  },
  {
   "cell_type": "code",
   "execution_count": 102,
   "id": "dd991530-229b-432f-9137-66dc6127076d",
   "metadata": {},
   "outputs": [
    {
     "data": {
      "text/plain": [
       "Case_ID              862\n",
       "Primary_Diagnosis      7\n",
       "dtype: int64"
      ]
     },
     "execution_count": 102,
     "metadata": {},
     "output_type": "execute_result"
    }
   ],
   "source": [
    "# Unique Values of df_target\n",
    "df_info.nunique()"
   ]
  },
  {
   "cell_type": "code",
   "execution_count": 104,
   "id": "14bdc311-be61-4cfc-b96e-a5846def8b6d",
   "metadata": {},
   "outputs": [
    {
     "data": {
      "text/plain": [
       "array(['Oligodendroglioma, NOS', 'Mixed glioma', 'Astrocytoma, NOS',\n",
       "       'Astrocytoma, anaplastic', 'Oligodendroglioma, anaplastic', '--',\n",
       "       'Glioblastoma'], dtype=object)"
      ]
     },
     "execution_count": 104,
     "metadata": {},
     "output_type": "execute_result"
    }
   ],
   "source": [
    "df_info['Primary_Diagnosis'].unique()"
   ]
  },
  {
   "cell_type": "code",
   "execution_count": 105,
   "id": "a67df5de-9619-4bd7-907c-2f1e8706e5cf",
   "metadata": {},
   "outputs": [
    {
     "data": {
      "text/plain": [
       "Primary_Diagnosis\n",
       "Glioblastoma                     360\n",
       "Astrocytoma, anaplastic          129\n",
       "Mixed glioma                     128\n",
       "Oligodendroglioma, NOS           108\n",
       "Oligodendroglioma, anaplastic     75\n",
       "Astrocytoma, NOS                  58\n",
       "--                                 4\n",
       "Name: count, dtype: int64"
      ]
     },
     "execution_count": 105,
     "metadata": {},
     "output_type": "execute_result"
    }
   ],
   "source": [
    "df_info['Primary_Diagnosis'].value_counts()"
   ]
  },
  {
   "cell_type": "code",
   "execution_count": 106,
   "id": "83047da0-4b31-4661-8452-5e2a73189bd2",
   "metadata": {},
   "outputs": [
    {
     "data": {
      "text/html": [
       "<div>\n",
       "<style scoped>\n",
       "    .dataframe tbody tr th:only-of-type {\n",
       "        vertical-align: middle;\n",
       "    }\n",
       "\n",
       "    .dataframe tbody tr th {\n",
       "        vertical-align: top;\n",
       "    }\n",
       "\n",
       "    .dataframe thead th {\n",
       "        text-align: right;\n",
       "    }\n",
       "</style>\n",
       "<table border=\"1\" class=\"dataframe\">\n",
       "  <thead>\n",
       "    <tr style=\"text-align: right;\">\n",
       "      <th></th>\n",
       "      <th>Case_ID</th>\n",
       "      <th>Primary_Diagnosis</th>\n",
       "    </tr>\n",
       "  </thead>\n",
       "  <tbody>\n",
       "    <tr>\n",
       "      <th>41</th>\n",
       "      <td>TCGA-R8-A6YH</td>\n",
       "      <td>--</td>\n",
       "    </tr>\n",
       "    <tr>\n",
       "      <th>671</th>\n",
       "      <td>TCGA-28-2501</td>\n",
       "      <td>--</td>\n",
       "    </tr>\n",
       "    <tr>\n",
       "      <th>706</th>\n",
       "      <td>TCGA-28-2510</td>\n",
       "      <td>--</td>\n",
       "    </tr>\n",
       "    <tr>\n",
       "      <th>794</th>\n",
       "      <td>TCGA-16-1048</td>\n",
       "      <td>--</td>\n",
       "    </tr>\n",
       "  </tbody>\n",
       "</table>\n",
       "</div>"
      ],
      "text/plain": [
       "          Case_ID Primary_Diagnosis\n",
       "41   TCGA-R8-A6YH                --\n",
       "671  TCGA-28-2501                --\n",
       "706  TCGA-28-2510                --\n",
       "794  TCGA-16-1048                --"
      ]
     },
     "execution_count": 106,
     "metadata": {},
     "output_type": "execute_result"
    }
   ],
   "source": [
    "df_info[df_info['Primary_Diagnosis'] == \"--\"]"
   ]
  },
  {
   "cell_type": "code",
   "execution_count": null,
   "id": "f46283b0-ccd1-4115-bc2f-624537c1999d",
   "metadata": {},
   "outputs": [],
   "source": []
  },
  {
   "cell_type": "code",
   "execution_count": null,
   "id": "a1237e38-bfd0-4e95-bc05-660fa24eba02",
   "metadata": {},
   "outputs": [],
   "source": []
  },
  {
   "cell_type": "code",
   "execution_count": null,
   "id": "fa48c42b-01de-4583-a9ca-94957598406d",
   "metadata": {},
   "outputs": [],
   "source": []
  },
  {
   "cell_type": "code",
   "execution_count": null,
   "id": "4d739d73-62a6-4d37-bc14-a8fdb1de5781",
   "metadata": {},
   "outputs": [],
   "source": []
  },
  {
   "cell_type": "code",
   "execution_count": null,
   "id": "d5ad8f87-987f-4e2f-b72f-aba2058e03c7",
   "metadata": {},
   "outputs": [],
   "source": []
  },
  {
   "cell_type": "markdown",
   "id": "d114b3d1-6fa0-49a9-a7b1-d41d185c015d",
   "metadata": {},
   "source": [
    "# 4. Descriptive Statistics"
   ]
  },
  {
   "cell_type": "code",
   "execution_count": 33,
   "id": "ec35bd9b-6bb3-4d8d-86ed-b40099439a7e",
   "metadata": {},
   "outputs": [
    {
     "data": {
      "text/html": [
       "<div>\n",
       "<style scoped>\n",
       "    .dataframe tbody tr th:only-of-type {\n",
       "        vertical-align: middle;\n",
       "    }\n",
       "\n",
       "    .dataframe tbody tr th {\n",
       "        vertical-align: top;\n",
       "    }\n",
       "\n",
       "    .dataframe thead th {\n",
       "        text-align: right;\n",
       "    }\n",
       "</style>\n",
       "<table border=\"1\" class=\"dataframe\">\n",
       "  <thead>\n",
       "    <tr style=\"text-align: right;\">\n",
       "      <th></th>\n",
       "      <th>Gender</th>\n",
       "      <th>Age_at_diagnosis</th>\n",
       "      <th>IDH1</th>\n",
       "      <th>TP53</th>\n",
       "      <th>ATRX</th>\n",
       "      <th>PTEN</th>\n",
       "      <th>EGFR</th>\n",
       "      <th>CIC</th>\n",
       "      <th>MUC16</th>\n",
       "      <th>PIK3CA</th>\n",
       "      <th>...</th>\n",
       "      <th>RB1</th>\n",
       "      <th>NOTCH1</th>\n",
       "      <th>BCOR</th>\n",
       "      <th>CSMD3</th>\n",
       "      <th>SMARCA4</th>\n",
       "      <th>GRIN2A</th>\n",
       "      <th>IDH2</th>\n",
       "      <th>FAT4</th>\n",
       "      <th>PDGFRA</th>\n",
       "      <th>Grade</th>\n",
       "    </tr>\n",
       "  </thead>\n",
       "  <tbody>\n",
       "    <tr>\n",
       "      <th>count</th>\n",
       "      <td>839.000000</td>\n",
       "      <td>839.000000</td>\n",
       "      <td>839.000000</td>\n",
       "      <td>839.000000</td>\n",
       "      <td>839.000000</td>\n",
       "      <td>839.000000</td>\n",
       "      <td>839.000000</td>\n",
       "      <td>839.000000</td>\n",
       "      <td>839.000000</td>\n",
       "      <td>839.000000</td>\n",
       "      <td>...</td>\n",
       "      <td>839.000000</td>\n",
       "      <td>839.000000</td>\n",
       "      <td>839.000000</td>\n",
       "      <td>839.000000</td>\n",
       "      <td>839.000000</td>\n",
       "      <td>839.000000</td>\n",
       "      <td>839.000000</td>\n",
       "      <td>839.000000</td>\n",
       "      <td>839.000000</td>\n",
       "      <td>839.000000</td>\n",
       "    </tr>\n",
       "    <tr>\n",
       "      <th>mean</th>\n",
       "      <td>0.418355</td>\n",
       "      <td>50.935411</td>\n",
       "      <td>0.481526</td>\n",
       "      <td>0.414779</td>\n",
       "      <td>0.258641</td>\n",
       "      <td>0.168057</td>\n",
       "      <td>0.133492</td>\n",
       "      <td>0.132300</td>\n",
       "      <td>0.116806</td>\n",
       "      <td>0.087008</td>\n",
       "      <td>...</td>\n",
       "      <td>0.047676</td>\n",
       "      <td>0.045292</td>\n",
       "      <td>0.034565</td>\n",
       "      <td>0.032181</td>\n",
       "      <td>0.032181</td>\n",
       "      <td>0.032181</td>\n",
       "      <td>0.027414</td>\n",
       "      <td>0.027414</td>\n",
       "      <td>0.026222</td>\n",
       "      <td>0.419547</td>\n",
       "    </tr>\n",
       "    <tr>\n",
       "      <th>std</th>\n",
       "      <td>0.493583</td>\n",
       "      <td>15.702339</td>\n",
       "      <td>0.499957</td>\n",
       "      <td>0.492978</td>\n",
       "      <td>0.438149</td>\n",
       "      <td>0.374140</td>\n",
       "      <td>0.340309</td>\n",
       "      <td>0.339019</td>\n",
       "      <td>0.321380</td>\n",
       "      <td>0.282015</td>\n",
       "      <td>...</td>\n",
       "      <td>0.213206</td>\n",
       "      <td>0.208068</td>\n",
       "      <td>0.182784</td>\n",
       "      <td>0.176586</td>\n",
       "      <td>0.176586</td>\n",
       "      <td>0.176586</td>\n",
       "      <td>0.163383</td>\n",
       "      <td>0.163383</td>\n",
       "      <td>0.159889</td>\n",
       "      <td>0.493779</td>\n",
       "    </tr>\n",
       "    <tr>\n",
       "      <th>min</th>\n",
       "      <td>0.000000</td>\n",
       "      <td>14.420000</td>\n",
       "      <td>0.000000</td>\n",
       "      <td>0.000000</td>\n",
       "      <td>0.000000</td>\n",
       "      <td>0.000000</td>\n",
       "      <td>0.000000</td>\n",
       "      <td>0.000000</td>\n",
       "      <td>0.000000</td>\n",
       "      <td>0.000000</td>\n",
       "      <td>...</td>\n",
       "      <td>0.000000</td>\n",
       "      <td>0.000000</td>\n",
       "      <td>0.000000</td>\n",
       "      <td>0.000000</td>\n",
       "      <td>0.000000</td>\n",
       "      <td>0.000000</td>\n",
       "      <td>0.000000</td>\n",
       "      <td>0.000000</td>\n",
       "      <td>0.000000</td>\n",
       "      <td>0.000000</td>\n",
       "    </tr>\n",
       "    <tr>\n",
       "      <th>25%</th>\n",
       "      <td>0.000000</td>\n",
       "      <td>38.055000</td>\n",
       "      <td>0.000000</td>\n",
       "      <td>0.000000</td>\n",
       "      <td>0.000000</td>\n",
       "      <td>0.000000</td>\n",
       "      <td>0.000000</td>\n",
       "      <td>0.000000</td>\n",
       "      <td>0.000000</td>\n",
       "      <td>0.000000</td>\n",
       "      <td>...</td>\n",
       "      <td>0.000000</td>\n",
       "      <td>0.000000</td>\n",
       "      <td>0.000000</td>\n",
       "      <td>0.000000</td>\n",
       "      <td>0.000000</td>\n",
       "      <td>0.000000</td>\n",
       "      <td>0.000000</td>\n",
       "      <td>0.000000</td>\n",
       "      <td>0.000000</td>\n",
       "      <td>0.000000</td>\n",
       "    </tr>\n",
       "    <tr>\n",
       "      <th>50%</th>\n",
       "      <td>0.000000</td>\n",
       "      <td>51.550000</td>\n",
       "      <td>0.000000</td>\n",
       "      <td>0.000000</td>\n",
       "      <td>0.000000</td>\n",
       "      <td>0.000000</td>\n",
       "      <td>0.000000</td>\n",
       "      <td>0.000000</td>\n",
       "      <td>0.000000</td>\n",
       "      <td>0.000000</td>\n",
       "      <td>...</td>\n",
       "      <td>0.000000</td>\n",
       "      <td>0.000000</td>\n",
       "      <td>0.000000</td>\n",
       "      <td>0.000000</td>\n",
       "      <td>0.000000</td>\n",
       "      <td>0.000000</td>\n",
       "      <td>0.000000</td>\n",
       "      <td>0.000000</td>\n",
       "      <td>0.000000</td>\n",
       "      <td>0.000000</td>\n",
       "    </tr>\n",
       "    <tr>\n",
       "      <th>75%</th>\n",
       "      <td>1.000000</td>\n",
       "      <td>62.800000</td>\n",
       "      <td>1.000000</td>\n",
       "      <td>1.000000</td>\n",
       "      <td>1.000000</td>\n",
       "      <td>0.000000</td>\n",
       "      <td>0.000000</td>\n",
       "      <td>0.000000</td>\n",
       "      <td>0.000000</td>\n",
       "      <td>0.000000</td>\n",
       "      <td>...</td>\n",
       "      <td>0.000000</td>\n",
       "      <td>0.000000</td>\n",
       "      <td>0.000000</td>\n",
       "      <td>0.000000</td>\n",
       "      <td>0.000000</td>\n",
       "      <td>0.000000</td>\n",
       "      <td>0.000000</td>\n",
       "      <td>0.000000</td>\n",
       "      <td>0.000000</td>\n",
       "      <td>1.000000</td>\n",
       "    </tr>\n",
       "    <tr>\n",
       "      <th>max</th>\n",
       "      <td>1.000000</td>\n",
       "      <td>89.290000</td>\n",
       "      <td>1.000000</td>\n",
       "      <td>1.000000</td>\n",
       "      <td>1.000000</td>\n",
       "      <td>1.000000</td>\n",
       "      <td>1.000000</td>\n",
       "      <td>1.000000</td>\n",
       "      <td>1.000000</td>\n",
       "      <td>1.000000</td>\n",
       "      <td>...</td>\n",
       "      <td>1.000000</td>\n",
       "      <td>1.000000</td>\n",
       "      <td>1.000000</td>\n",
       "      <td>1.000000</td>\n",
       "      <td>1.000000</td>\n",
       "      <td>1.000000</td>\n",
       "      <td>1.000000</td>\n",
       "      <td>1.000000</td>\n",
       "      <td>1.000000</td>\n",
       "      <td>1.000000</td>\n",
       "    </tr>\n",
       "  </tbody>\n",
       "</table>\n",
       "<p>8 rows × 23 columns</p>\n",
       "</div>"
      ],
      "text/plain": [
       "           Gender  Age_at_diagnosis        IDH1        TP53        ATRX  \\\n",
       "count  839.000000        839.000000  839.000000  839.000000  839.000000   \n",
       "mean     0.418355         50.935411    0.481526    0.414779    0.258641   \n",
       "std      0.493583         15.702339    0.499957    0.492978    0.438149   \n",
       "min      0.000000         14.420000    0.000000    0.000000    0.000000   \n",
       "25%      0.000000         38.055000    0.000000    0.000000    0.000000   \n",
       "50%      0.000000         51.550000    0.000000    0.000000    0.000000   \n",
       "75%      1.000000         62.800000    1.000000    1.000000    1.000000   \n",
       "max      1.000000         89.290000    1.000000    1.000000    1.000000   \n",
       "\n",
       "             PTEN        EGFR         CIC       MUC16      PIK3CA  ...  \\\n",
       "count  839.000000  839.000000  839.000000  839.000000  839.000000  ...   \n",
       "mean     0.168057    0.133492    0.132300    0.116806    0.087008  ...   \n",
       "std      0.374140    0.340309    0.339019    0.321380    0.282015  ...   \n",
       "min      0.000000    0.000000    0.000000    0.000000    0.000000  ...   \n",
       "25%      0.000000    0.000000    0.000000    0.000000    0.000000  ...   \n",
       "50%      0.000000    0.000000    0.000000    0.000000    0.000000  ...   \n",
       "75%      0.000000    0.000000    0.000000    0.000000    0.000000  ...   \n",
       "max      1.000000    1.000000    1.000000    1.000000    1.000000  ...   \n",
       "\n",
       "              RB1      NOTCH1        BCOR       CSMD3     SMARCA4      GRIN2A  \\\n",
       "count  839.000000  839.000000  839.000000  839.000000  839.000000  839.000000   \n",
       "mean     0.047676    0.045292    0.034565    0.032181    0.032181    0.032181   \n",
       "std      0.213206    0.208068    0.182784    0.176586    0.176586    0.176586   \n",
       "min      0.000000    0.000000    0.000000    0.000000    0.000000    0.000000   \n",
       "25%      0.000000    0.000000    0.000000    0.000000    0.000000    0.000000   \n",
       "50%      0.000000    0.000000    0.000000    0.000000    0.000000    0.000000   \n",
       "75%      0.000000    0.000000    0.000000    0.000000    0.000000    0.000000   \n",
       "max      1.000000    1.000000    1.000000    1.000000    1.000000    1.000000   \n",
       "\n",
       "             IDH2        FAT4      PDGFRA       Grade  \n",
       "count  839.000000  839.000000  839.000000  839.000000  \n",
       "mean     0.027414    0.027414    0.026222    0.419547  \n",
       "std      0.163383    0.163383    0.159889    0.493779  \n",
       "min      0.000000    0.000000    0.000000    0.000000  \n",
       "25%      0.000000    0.000000    0.000000    0.000000  \n",
       "50%      0.000000    0.000000    0.000000    0.000000  \n",
       "75%      0.000000    0.000000    0.000000    1.000000  \n",
       "max      1.000000    1.000000    1.000000    1.000000  \n",
       "\n",
       "[8 rows x 23 columns]"
      ]
     },
     "execution_count": 33,
     "metadata": {},
     "output_type": "execute_result"
    }
   ],
   "source": [
    "df_target.describe()"
   ]
  },
  {
   "cell_type": "code",
   "execution_count": 37,
   "id": "60c39c7c-f325-434c-9119-57f5da048f73",
   "metadata": {},
   "outputs": [
    {
     "data": {
      "text/html": [
       "<div>\n",
       "<style scoped>\n",
       "    .dataframe tbody tr th:only-of-type {\n",
       "        vertical-align: middle;\n",
       "    }\n",
       "\n",
       "    .dataframe tbody tr th {\n",
       "        vertical-align: top;\n",
       "    }\n",
       "\n",
       "    .dataframe thead th {\n",
       "        text-align: right;\n",
       "    }\n",
       "</style>\n",
       "<table border=\"1\" class=\"dataframe\">\n",
       "  <thead>\n",
       "    <tr style=\"text-align: right;\">\n",
       "      <th></th>\n",
       "      <th>Case_ID</th>\n",
       "      <th>Race</th>\n",
       "    </tr>\n",
       "  </thead>\n",
       "  <tbody>\n",
       "    <tr>\n",
       "      <th>count</th>\n",
       "      <td>839</td>\n",
       "      <td>839</td>\n",
       "    </tr>\n",
       "    <tr>\n",
       "      <th>unique</th>\n",
       "      <td>839</td>\n",
       "      <td>4</td>\n",
       "    </tr>\n",
       "    <tr>\n",
       "      <th>top</th>\n",
       "      <td>TCGA-DU-8164</td>\n",
       "      <td>white</td>\n",
       "    </tr>\n",
       "    <tr>\n",
       "      <th>freq</th>\n",
       "      <td>1</td>\n",
       "      <td>765</td>\n",
       "    </tr>\n",
       "  </tbody>\n",
       "</table>\n",
       "</div>"
      ],
      "text/plain": [
       "             Case_ID   Race\n",
       "count            839    839\n",
       "unique           839      4\n",
       "top     TCGA-DU-8164  white\n",
       "freq               1    765"
      ]
     },
     "execution_count": 37,
     "metadata": {},
     "output_type": "execute_result"
    }
   ],
   "source": [
    "df_target.describe(include='object')"
   ]
  },
  {
   "cell_type": "code",
   "execution_count": null,
   "id": "a54e03e2-d2d8-45aa-a9d5-687b25d99b2c",
   "metadata": {},
   "outputs": [],
   "source": []
  },
  {
   "cell_type": "code",
   "execution_count": 107,
   "id": "e538a6db-0059-49e0-a2d0-1896ad819bbf",
   "metadata": {},
   "outputs": [
    {
     "data": {
      "text/html": [
       "<div>\n",
       "<style scoped>\n",
       "    .dataframe tbody tr th:only-of-type {\n",
       "        vertical-align: middle;\n",
       "    }\n",
       "\n",
       "    .dataframe tbody tr th {\n",
       "        vertical-align: top;\n",
       "    }\n",
       "\n",
       "    .dataframe thead th {\n",
       "        text-align: right;\n",
       "    }\n",
       "</style>\n",
       "<table border=\"1\" class=\"dataframe\">\n",
       "  <thead>\n",
       "    <tr style=\"text-align: right;\">\n",
       "      <th></th>\n",
       "      <th>Case_ID</th>\n",
       "      <th>Primary_Diagnosis</th>\n",
       "    </tr>\n",
       "  </thead>\n",
       "  <tbody>\n",
       "    <tr>\n",
       "      <th>count</th>\n",
       "      <td>862</td>\n",
       "      <td>862</td>\n",
       "    </tr>\n",
       "    <tr>\n",
       "      <th>unique</th>\n",
       "      <td>862</td>\n",
       "      <td>7</td>\n",
       "    </tr>\n",
       "    <tr>\n",
       "      <th>top</th>\n",
       "      <td>TCGA-DU-8164</td>\n",
       "      <td>Glioblastoma</td>\n",
       "    </tr>\n",
       "    <tr>\n",
       "      <th>freq</th>\n",
       "      <td>1</td>\n",
       "      <td>360</td>\n",
       "    </tr>\n",
       "  </tbody>\n",
       "</table>\n",
       "</div>"
      ],
      "text/plain": [
       "             Case_ID Primary_Diagnosis\n",
       "count            862               862\n",
       "unique           862                 7\n",
       "top     TCGA-DU-8164      Glioblastoma\n",
       "freq               1               360"
      ]
     },
     "execution_count": 107,
     "metadata": {},
     "output_type": "execute_result"
    }
   ],
   "source": [
    "df_info.describe()"
   ]
  },
  {
   "cell_type": "code",
   "execution_count": null,
   "id": "dc3f08c1-415a-4d2b-8ff6-a7380ff82c6f",
   "metadata": {},
   "outputs": [],
   "source": []
  },
  {
   "cell_type": "code",
   "execution_count": null,
   "id": "6477ec39-ad61-47af-b49a-9d5c466ce9ca",
   "metadata": {},
   "outputs": [],
   "source": []
  },
  {
   "cell_type": "code",
   "execution_count": null,
   "id": "f7e9a9db-bc69-46d0-9fd6-07007530bbe8",
   "metadata": {},
   "outputs": [],
   "source": []
  },
  {
   "cell_type": "code",
   "execution_count": null,
   "id": "68d1d477-7804-42e5-ab64-5f8e1d7743d7",
   "metadata": {},
   "outputs": [],
   "source": []
  },
  {
   "cell_type": "markdown",
   "id": "e9429416-23b1-4135-b8b3-7ce4d35dad0a",
   "metadata": {},
   "source": [
    "# 4. Tabular Data Set-up"
   ]
  },
  {
   "cell_type": "code",
   "execution_count": 131,
   "id": "4039c6e4-735e-4d9e-ae1f-b663d71914ae",
   "metadata": {},
   "outputs": [],
   "source": [
    "# TEMP DB in RAM\n",
    "temp_db = create_engine('sqlite:///:memory:', echo=True)"
   ]
  },
  {
   "cell_type": "code",
   "execution_count": 132,
   "id": "e454a429-1bc1-4eff-bc5a-f80d6566c54a",
   "metadata": {},
   "outputs": [
    {
     "name": "stdout",
     "output_type": "stream",
     "text": [
      "2024-03-11 22:09:04,609 INFO sqlalchemy.engine.Engine BEGIN (implicit)\n",
      "2024-03-11 22:09:04,609 INFO sqlalchemy.engine.Engine PRAGMA main.table_info(\"Primary_Diagnosis\")\n",
      "2024-03-11 22:09:04,610 INFO sqlalchemy.engine.Engine [raw sql] ()\n",
      "2024-03-11 22:09:04,610 INFO sqlalchemy.engine.Engine PRAGMA temp.table_info(\"Primary_Diagnosis\")\n",
      "2024-03-11 22:09:04,611 INFO sqlalchemy.engine.Engine [raw sql] ()\n",
      "2024-03-11 22:09:04,612 INFO sqlalchemy.engine.Engine \n",
      "CREATE TABLE \"Primary_Diagnosis\" (\n",
      "\t\"index\" BIGINT, \n",
      "\t\"Case_ID\" TEXT, \n",
      "\t\"Primary_Diagnosis\" TEXT\n",
      ")\n",
      "\n",
      "\n",
      "2024-03-11 22:09:04,612 INFO sqlalchemy.engine.Engine [no key 0.00045s] ()\n",
      "2024-03-11 22:09:04,613 INFO sqlalchemy.engine.Engine CREATE INDEX \"ix_Primary_Diagnosis_index\" ON \"Primary_Diagnosis\" (\"index\")\n",
      "2024-03-11 22:09:04,613 INFO sqlalchemy.engine.Engine [no key 0.00032s] ()\n",
      "2024-03-11 22:09:04,617 INFO sqlalchemy.engine.Engine INSERT INTO \"Primary_Diagnosis\" (\"index\", \"Case_ID\", \"Primary_Diagnosis\") VALUES (?, ?, ?)\n",
      "2024-03-11 22:09:04,617 INFO sqlalchemy.engine.Engine [generated in 0.00154s] [(0, 'TCGA-DU-8164', 'Oligodendroglioma, NOS'), (1, 'TCGA-QH-A6CY', 'Mixed glioma'), (2, 'TCGA-HW-A5KM', 'Astrocytoma, NOS'), (3, 'TCGA-E1-A7YE', 'Astrocytoma, anaplastic'), (4, 'TCGA-S9-A6WG', 'Astrocytoma, anaplastic'), (5, 'TCGA-DB-A4X9', 'Mixed glioma'), (6, 'TCGA-P5-A5F4', 'Oligodendroglioma, anaplastic'), (7, 'TCGA-FG-A4MY', 'Mixed glioma')  ... displaying 10 of 862 total bound parameter sets ...  (860, 'TCGA-32-2491', 'Glioblastoma'), (861, 'TCGA-06-2557', 'Glioblastoma')]\n",
      "2024-03-11 22:09:04,619 INFO sqlalchemy.engine.Engine SELECT name FROM sqlite_master WHERE type='table' AND name NOT LIKE 'sqlite~_%' ESCAPE '~' ORDER BY name\n",
      "2024-03-11 22:09:04,619 INFO sqlalchemy.engine.Engine [raw sql] ()\n",
      "2024-03-11 22:09:04,619 INFO sqlalchemy.engine.Engine COMMIT\n"
     ]
    }
   ],
   "source": [
    "# PUSH Pandas DF --> TEMP DB\n",
    "info_db = df_info.to_sql(name='Primary_Diagnosis', con=temp_db)"
   ]
  },
  {
   "cell_type": "code",
   "execution_count": 133,
   "id": "36b67761-be68-42fb-b6d3-55bb36ff52e5",
   "metadata": {},
   "outputs": [
    {
     "name": "stdout",
     "output_type": "stream",
     "text": [
      "2024-03-11 22:09:07,447 INFO sqlalchemy.engine.Engine BEGIN (implicit)\n",
      "2024-03-11 22:09:07,450 INFO sqlalchemy.engine.Engine PRAGMA main.table_info(\"Target\")\n",
      "2024-03-11 22:09:07,450 INFO sqlalchemy.engine.Engine [raw sql] ()\n",
      "2024-03-11 22:09:07,451 INFO sqlalchemy.engine.Engine PRAGMA temp.table_info(\"Target\")\n",
      "2024-03-11 22:09:07,451 INFO sqlalchemy.engine.Engine [raw sql] ()\n",
      "2024-03-11 22:09:07,453 INFO sqlalchemy.engine.Engine \n",
      "CREATE TABLE \"Target\" (\n",
      "\t\"index\" BIGINT, \n",
      "\t\"Case_ID\" TEXT, \n",
      "\t\"Gender\" BIGINT, \n",
      "\t\"Age_at_diagnosis\" FLOAT, \n",
      "\t\"Race\" TEXT, \n",
      "\t\"IDH1\" BIGINT, \n",
      "\t\"TP53\" BIGINT, \n",
      "\t\"ATRX\" BIGINT, \n",
      "\t\"PTEN\" BIGINT, \n",
      "\t\"EGFR\" BIGINT, \n",
      "\t\"CIC\" BIGINT, \n",
      "\t\"MUC16\" BIGINT, \n",
      "\t\"PIK3CA\" BIGINT, \n",
      "\t\"NF1\" BIGINT, \n",
      "\t\"PIK3R1\" BIGINT, \n",
      "\t\"FUBP1\" BIGINT, \n",
      "\t\"RB1\" BIGINT, \n",
      "\t\"NOTCH1\" BIGINT, \n",
      "\t\"BCOR\" BIGINT, \n",
      "\t\"CSMD3\" BIGINT, \n",
      "\t\"SMARCA4\" BIGINT, \n",
      "\t\"GRIN2A\" BIGINT, \n",
      "\t\"IDH2\" BIGINT, \n",
      "\t\"FAT4\" BIGINT, \n",
      "\t\"PDGFRA\" BIGINT, \n",
      "\t\"Grade\" BIGINT\n",
      ")\n",
      "\n",
      "\n",
      "2024-03-11 22:09:07,453 INFO sqlalchemy.engine.Engine [no key 0.00038s] ()\n",
      "2024-03-11 22:09:07,454 INFO sqlalchemy.engine.Engine CREATE INDEX \"ix_Target_index\" ON \"Target\" (\"index\")\n",
      "2024-03-11 22:09:07,454 INFO sqlalchemy.engine.Engine [no key 0.00036s] ()\n",
      "2024-03-11 22:09:07,464 INFO sqlalchemy.engine.Engine INSERT INTO \"Target\" (\"index\", \"Case_ID\", \"Gender\", \"Age_at_diagnosis\", \"Race\", \"IDH1\", \"TP53\", \"ATRX\", \"PTEN\", \"EGFR\", \"CIC\", \"MUC16\", \"PIK3CA\", \"NF1\", \"PIK3R1\", \"FUBP1\", \"RB1\", \"NOTCH1\", \"BCOR\", \"CSMD3\", \"SMARCA4\", \"GRIN2A\", \"IDH2\", \"FAT4\", \"PDGFRA\", \"Grade\") VALUES (?, ?, ?, ?, ?, ?, ?, ?, ?, ?, ?, ?, ?, ?, ?, ?, ?, ?, ?, ?, ?, ?, ?, ?, ?, ?)\n",
      "2024-03-11 22:09:07,464 INFO sqlalchemy.engine.Engine [generated in 0.00646s] [(0, 'TCGA-DU-8164', 0, 51.3, 'white', 1, 0, 0, 0, 0, 0, 0, 1, 0, 0, 1, 0, 0, 0, 0, 0, 0, 0, 0, 0, 0), (1, 'TCGA-QH-A6CY', 0, 38.72, 'white', 1, 0, 0, 0, 0, 1, 0, 0, 0, 0, 0, 0, 0, 0, 0, 0, 0, 0, 0, 0, 0), (2, 'TCGA-HW-A5KM', 0, 35.17, 'white', 1, 1, 1, 0, 0, 0, 0, 0, 0, 0, 0, 0, 0, 0, 0, 0, 0, 0, 0, 0, 0), (3, 'TCGA-E1-A7YE', 1, 32.78, 'white', 1, 1, 1, 0, 0, 0, 1, 0, 0, 1, 0, 0, 0, 0, 0, 0, 0, 0, 1, 0, 0), (4, 'TCGA-S9-A6WG', 0, 31.51, 'white', 1, 1, 1, 0, 0, 0, 0, 0, 0, 0, 0, 0, 0, 0, 0, 0, 0, 0, 0, 0, 0), (5, 'TCGA-DB-A4X9', 1, 33.21, 'white', 1, 0, 1, 0, 0, 0, 0, 0, 0, 0, 0, 0, 0, 0, 0, 0, 0, 0, 0, 0, 0), (6, 'TCGA-P5-A5F4', 1, 35.19, 'white', 1, 1, 0, 0, 0, 0, 0, 0, 0, 0, 0, 0, 0, 0, 0, 0, 0, 0, 0, 0, 0), (7, 'TCGA-FG-A4MY', 1, 44.65, 'white', 1, 1, 1, 0, 0, 0, 0, 0, 0, 0, 0, 0, 0, 0, 0, 0, 0, 0, 0, 0, 0)  ... displaying 10 of 839 total bound parameter sets ...  (837, 'TCGA-32-2491', 0, 63.33, 'white', 0, 1, 0, 0, 0, 0, 1, 1, 0, 0, 0, 1, 0, 0, 0, 0, 0, 0, 0, 0, 1), (838, 'TCGA-06-2557', 0, 76.61, 'black or african american', 0, 0, 0, 0, 0, 0, 0, 0, 0, 0, 0, 0, 0, 0, 0, 0, 0, 0, 0, 0, 1)]\n",
      "2024-03-11 22:09:07,467 INFO sqlalchemy.engine.Engine SELECT name FROM sqlite_master WHERE type='table' AND name NOT LIKE 'sqlite~_%' ESCAPE '~' ORDER BY name\n",
      "2024-03-11 22:09:07,467 INFO sqlalchemy.engine.Engine [raw sql] ()\n",
      "2024-03-11 22:09:07,468 INFO sqlalchemy.engine.Engine COMMIT\n"
     ]
    }
   ],
   "source": [
    "# PUSH Pandas DF --> TEMP DB\n",
    "target_db = df_target.to_sql(name='Target', con=temp_db)"
   ]
  },
  {
   "cell_type": "code",
   "execution_count": 138,
   "id": "94f4bbce-ed73-4493-9acb-c600fff5262e",
   "metadata": {},
   "outputs": [
    {
     "name": "stdout",
     "output_type": "stream",
     "text": [
      "2024-03-11 22:12:50,313 INFO sqlalchemy.engine.Engine BEGIN (implicit)\n",
      "2024-03-11 22:12:50,313 INFO sqlalchemy.engine.Engine SELECT AVG(Age_at_diagnosis) FROM Target\n",
      "2024-03-11 22:12:50,314 INFO sqlalchemy.engine.Engine [generated in 0.00100s] ()\n",
      "2024-03-11 22:12:50,314 INFO sqlalchemy.engine.Engine ROLLBACK\n"
     ]
    }
   ],
   "source": [
    "# SQL query on TEMP DB\n",
    "with temp_db.connect() as conn:\n",
    "    # makes connection\n",
    "    # run code indentation/block of code\n",
    "    result = conn.execute(text(\"SELECT AVG(Age_at_diagnosis) FROM Target\"))\n",
    "    # auto close conn\n",
    "    "
   ]
  },
  {
   "cell_type": "code",
   "execution_count": 139,
   "id": "2f2c57d1-f510-4e57-b4d9-6578b066c10f",
   "metadata": {
    "scrolled": true
   },
   "outputs": [
    {
     "data": {
      "text/plain": [
       "[(50.93541120381399,)]"
      ]
     },
     "execution_count": 139,
     "metadata": {},
     "output_type": "execute_result"
    }
   ],
   "source": [
    "result.all()"
   ]
  },
  {
   "cell_type": "code",
   "execution_count": null,
   "id": "7f7e0e58-5462-4e3a-be0e-7213f43e2cc7",
   "metadata": {},
   "outputs": [],
   "source": []
  }
 ],
 "metadata": {
  "kernelspec": {
   "display_name": "minipro_sql_venv",
   "language": "python",
   "name": "minipro_sql_venv"
  },
  "language_info": {
   "codemirror_mode": {
    "name": "ipython",
    "version": 3
   },
   "file_extension": ".py",
   "mimetype": "text/x-python",
   "name": "python",
   "nbconvert_exporter": "python",
   "pygments_lexer": "ipython3",
   "version": "3.11.5"
  }
 },
 "nbformat": 4,
 "nbformat_minor": 5
}
